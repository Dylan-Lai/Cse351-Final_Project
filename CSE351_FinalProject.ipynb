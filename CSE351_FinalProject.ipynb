{
 "cells": [
  {
   "cell_type": "code",
   "execution_count": 417,
   "id": "fbb07cff",
   "metadata": {},
   "outputs": [
    {
     "data": {
      "text/html": [
       "<div>\n",
       "<style scoped>\n",
       "    .dataframe tbody tr th:only-of-type {\n",
       "        vertical-align: middle;\n",
       "    }\n",
       "\n",
       "    .dataframe tbody tr th {\n",
       "        vertical-align: top;\n",
       "    }\n",
       "\n",
       "    .dataframe thead th {\n",
       "        text-align: right;\n",
       "    }\n",
       "</style>\n",
       "<table border=\"1\" class=\"dataframe\">\n",
       "  <thead>\n",
       "    <tr style=\"text-align: right;\">\n",
       "      <th></th>\n",
       "      <th>PassengerId</th>\n",
       "      <th>Survived</th>\n",
       "      <th>Pclass</th>\n",
       "      <th>Sex</th>\n",
       "      <th>Age</th>\n",
       "      <th>SibSp</th>\n",
       "      <th>Parch</th>\n",
       "      <th>Fare</th>\n",
       "      <th>Embarked</th>\n",
       "    </tr>\n",
       "  </thead>\n",
       "  <tbody>\n",
       "    <tr>\n",
       "      <th>0</th>\n",
       "      <td>1</td>\n",
       "      <td>0</td>\n",
       "      <td>3</td>\n",
       "      <td>male</td>\n",
       "      <td>22.0</td>\n",
       "      <td>1</td>\n",
       "      <td>0</td>\n",
       "      <td>7.2500</td>\n",
       "      <td>S</td>\n",
       "    </tr>\n",
       "    <tr>\n",
       "      <th>1</th>\n",
       "      <td>2</td>\n",
       "      <td>1</td>\n",
       "      <td>1</td>\n",
       "      <td>female</td>\n",
       "      <td>38.0</td>\n",
       "      <td>1</td>\n",
       "      <td>0</td>\n",
       "      <td>71.2833</td>\n",
       "      <td>C</td>\n",
       "    </tr>\n",
       "    <tr>\n",
       "      <th>2</th>\n",
       "      <td>3</td>\n",
       "      <td>1</td>\n",
       "      <td>3</td>\n",
       "      <td>female</td>\n",
       "      <td>26.0</td>\n",
       "      <td>0</td>\n",
       "      <td>0</td>\n",
       "      <td>7.9250</td>\n",
       "      <td>S</td>\n",
       "    </tr>\n",
       "    <tr>\n",
       "      <th>3</th>\n",
       "      <td>4</td>\n",
       "      <td>1</td>\n",
       "      <td>1</td>\n",
       "      <td>female</td>\n",
       "      <td>35.0</td>\n",
       "      <td>1</td>\n",
       "      <td>0</td>\n",
       "      <td>53.1000</td>\n",
       "      <td>S</td>\n",
       "    </tr>\n",
       "    <tr>\n",
       "      <th>4</th>\n",
       "      <td>5</td>\n",
       "      <td>0</td>\n",
       "      <td>3</td>\n",
       "      <td>male</td>\n",
       "      <td>35.0</td>\n",
       "      <td>0</td>\n",
       "      <td>0</td>\n",
       "      <td>8.0500</td>\n",
       "      <td>S</td>\n",
       "    </tr>\n",
       "    <tr>\n",
       "      <th>...</th>\n",
       "      <td>...</td>\n",
       "      <td>...</td>\n",
       "      <td>...</td>\n",
       "      <td>...</td>\n",
       "      <td>...</td>\n",
       "      <td>...</td>\n",
       "      <td>...</td>\n",
       "      <td>...</td>\n",
       "      <td>...</td>\n",
       "    </tr>\n",
       "    <tr>\n",
       "      <th>886</th>\n",
       "      <td>887</td>\n",
       "      <td>0</td>\n",
       "      <td>2</td>\n",
       "      <td>male</td>\n",
       "      <td>27.0</td>\n",
       "      <td>0</td>\n",
       "      <td>0</td>\n",
       "      <td>13.0000</td>\n",
       "      <td>S</td>\n",
       "    </tr>\n",
       "    <tr>\n",
       "      <th>887</th>\n",
       "      <td>888</td>\n",
       "      <td>1</td>\n",
       "      <td>1</td>\n",
       "      <td>female</td>\n",
       "      <td>19.0</td>\n",
       "      <td>0</td>\n",
       "      <td>0</td>\n",
       "      <td>30.0000</td>\n",
       "      <td>S</td>\n",
       "    </tr>\n",
       "    <tr>\n",
       "      <th>888</th>\n",
       "      <td>889</td>\n",
       "      <td>0</td>\n",
       "      <td>3</td>\n",
       "      <td>female</td>\n",
       "      <td>NaN</td>\n",
       "      <td>1</td>\n",
       "      <td>2</td>\n",
       "      <td>23.4500</td>\n",
       "      <td>S</td>\n",
       "    </tr>\n",
       "    <tr>\n",
       "      <th>889</th>\n",
       "      <td>890</td>\n",
       "      <td>1</td>\n",
       "      <td>1</td>\n",
       "      <td>male</td>\n",
       "      <td>26.0</td>\n",
       "      <td>0</td>\n",
       "      <td>0</td>\n",
       "      <td>30.0000</td>\n",
       "      <td>C</td>\n",
       "    </tr>\n",
       "    <tr>\n",
       "      <th>890</th>\n",
       "      <td>891</td>\n",
       "      <td>0</td>\n",
       "      <td>3</td>\n",
       "      <td>male</td>\n",
       "      <td>32.0</td>\n",
       "      <td>0</td>\n",
       "      <td>0</td>\n",
       "      <td>7.7500</td>\n",
       "      <td>Q</td>\n",
       "    </tr>\n",
       "  </tbody>\n",
       "</table>\n",
       "<p>891 rows × 9 columns</p>\n",
       "</div>"
      ],
      "text/plain": [
       "     PassengerId  Survived  Pclass     Sex   Age  SibSp  Parch     Fare  \\\n",
       "0              1         0       3    male  22.0      1      0   7.2500   \n",
       "1              2         1       1  female  38.0      1      0  71.2833   \n",
       "2              3         1       3  female  26.0      0      0   7.9250   \n",
       "3              4         1       1  female  35.0      1      0  53.1000   \n",
       "4              5         0       3    male  35.0      0      0   8.0500   \n",
       "..           ...       ...     ...     ...   ...    ...    ...      ...   \n",
       "886          887         0       2    male  27.0      0      0  13.0000   \n",
       "887          888         1       1  female  19.0      0      0  30.0000   \n",
       "888          889         0       3  female   NaN      1      2  23.4500   \n",
       "889          890         1       1    male  26.0      0      0  30.0000   \n",
       "890          891         0       3    male  32.0      0      0   7.7500   \n",
       "\n",
       "    Embarked  \n",
       "0          S  \n",
       "1          C  \n",
       "2          S  \n",
       "3          S  \n",
       "4          S  \n",
       "..       ...  \n",
       "886        S  \n",
       "887        S  \n",
       "888        S  \n",
       "889        C  \n",
       "890        Q  \n",
       "\n",
       "[891 rows x 9 columns]"
      ]
     },
     "execution_count": 417,
     "metadata": {},
     "output_type": "execute_result"
    }
   ],
   "source": [
    "#Project #2: Titanic - Who will survive?\n",
    "#By: George Cheng & Dylan Lai\n",
    "#Contribution Information: First Line of the Cell\n",
    "import pandas as pd\n",
    "import numpy as np\n",
    "import seaborn as sea\n",
    "import matplotlib.pyplot as plt\n",
    "import sklearn.neighbors as skln\n",
    "import sklearn.metrics as sklm\n",
    "import sklearn.cluster as sklc\n",
    "from sklearn.linear_model import LogisticRegression\n",
    "from sklearn.tree import DecisionTreeClassifier\n",
    "from sklearn.model_selection import KFold\n",
    "import random\n",
    "\n",
    "titanic = pd.read_csv('train.csv')\n",
    "test = pd.read_csv('test.csv') #This was later found out to contain no \"Survived\" column, so couldn't be used for \n",
    "#testing the training set. Instead, the training data was split into training and testing set.\n",
    "\n",
    "#Dropped Columns: Ticket, Cabin, Name\n",
    "#The ticket number of the passenger are all unique and don't have a concrete format. \n",
    "#Therefore, no analysis could be done on the ticket number and thus is dropped.\n",
    "#The cabin number has lots of missing data and they can't be easily imputed (no average cabin number). \n",
    "#Thus, we drop the column 'cabin'.\n",
    "#The names of the passengers don't really determine much and most are unique. \n",
    "#Thus, no analysis can be done on their name and thus is dropped.\n",
    "titanic = titanic.drop('Ticket', axis=1)\n",
    "titanic = titanic.drop('Cabin', axis=1)\n",
    "titanic = titanic.drop('Name', axis=1)\n",
    "titanic"
   ]
  },
  {
   "cell_type": "code",
   "execution_count": 418,
   "id": "c4860013",
   "metadata": {},
   "outputs": [
    {
     "name": "stdout",
     "output_type": "stream",
     "text": [
      "S\n",
      "60    C\n",
      "61    S\n",
      "62    S\n",
      "63    S\n",
      "64    C\n",
      "Name: Embarked, dtype: object\n"
     ]
    }
   ],
   "source": [
    "#Dylan Lai\n",
    "#In our look at the data, we have found many empty age features, so we decided to impute them.\n",
    "#We find the mean for age, rounded it for simplicity, then imputed any missing values in Age with mean imputation. \n",
    "titanic_meanAge = round(titanic['Age'].mean(), 1)\n",
    "titanic['Age'].fillna(titanic_meanAge, inplace = True)\n",
    "titanic\n",
    "#It didn't seem important in our cleaning to think about outliers in the age as none of the entries had ages that\n",
    "# seemed unreasonable.\n",
    "\n",
    "#We also found one unfilled embarked feature, but we deemed the imputation of the missing embarked location to not\n",
    "# affect our overall analysis, so it is imputed randomly.\n",
    "randInt = int(round(2*random.random()))\n",
    "if randInt == 0:\n",
    "    print('Q')\n",
    "    titanic['Embarked'].fillna('Q',inplace=True)\n",
    "if randInt == 1:\n",
    "    print('S')\n",
    "    titanic['Embarked'].fillna('S',inplace=True)\n",
    "if randInt == 2:\n",
    "    print('C')\n",
    "    titanic['Embarked'].fillna('C',inplace=True)\n",
    "print(titanic['Embarked'][60:65])"
   ]
  },
  {
   "cell_type": "code",
   "execution_count": 419,
   "id": "fc77378d",
   "metadata": {},
   "outputs": [
    {
     "name": "stdout",
     "output_type": "stream",
     "text": [
      "        PassengerId  Survived        Age     SibSp     Parch       Fare\n",
      "Pclass                                                                 \n",
      "1        456.687204  0.644550  37.090142  0.426540  0.364929  86.148874\n",
      "2        443.859551  0.488764  29.872640  0.415730  0.393258  21.358661\n",
      "3        439.983573  0.242300  26.355483  0.620123  0.396304  13.787875\n",
      "outlier max class 1: 187.364075\n",
      "outlier min class 1: -62.940125\n",
      "outlier max class 2: 45.5\n",
      "outlier min class 2: -6.5\n",
      "outlier max class 3: 27.125\n",
      "outlier min class 3: -3.875\n"
     ]
    }
   ],
   "source": [
    "#Dylan Lai\n",
    "# In the fares column, we have the feature has many outliers and some fares that were put as 0.\n",
    "titanic_dropFares = pd.DataFrame(titanic)\n",
    "#This loop removes all entries that have a fare of 0 or less for calculating the mean, since \n",
    "#those entries are presumed to be missing values due to their unreasonable value of 0. \n",
    "#The calculated mean will be used to impute those entries.\n",
    "for x in titanic_dropFares.index:\n",
    "  if titanic_dropFares.loc[x, \"Fare\"] <= 0:\n",
    "    titanic_dropFares.drop(x, inplace = True)\n",
    "\n",
    "#We seperated the entries into pclass and then averaged the fares of those with the same pclass, since \n",
    "titanic_averageFare = titanic_dropFares.groupby(by = 'Pclass').mean()\n",
    "print(titanic_averageFare)\n",
    "\n",
    "#Seperate dataframe into 3, spliting them across each ticket class x (['Pclass'] == x) because the ticket price is\n",
    "#correlated to the ticket class the passenger purchased.\n",
    "df1 = titanic[titanic['Pclass'] == 1]\n",
    "df2 = titanic[titanic['Pclass'] == 2]\n",
    "df3 = titanic[titanic['Pclass'] == 3]\n",
    "\n",
    "#For each of the split dataframes, we found the 25th and 75th percentile of the variable Fare and then \n",
    "#found the difference to find the interquartile range.\n",
    "#We calculate the Outliers with the formula:  Q3 + 1.5IQR AND Q1 - 1.5 IQR\n",
    "q75, q25 = np.percentile (df1['Fare'], [75, 25])\n",
    "iqr1 = q75 - q25\n",
    "outlier_max1 = 1.5*iqr1 + q75\n",
    "outlier_min1 = q25 - 1.5*iqr1\n",
    "print('outlier max class 1: '+ str(outlier_max1))\n",
    "print('outlier min class 1: '+ str(outlier_min1))\n",
    "\n",
    "q75, q25 = np.percentile (df2['Fare'], [75, 25])\n",
    "iqr2 = q75 - q25\n",
    "outlier_max2 = 1.5*iqr2 + q75\n",
    "outlier_min2 = q25 - 1.5*iqr2\n",
    "print('outlier max class 2: '+ str(outlier_max2))\n",
    "print('outlier min class 2: '+ str(outlier_min2))\n",
    "\n",
    "q75, q25 = np.percentile (df3['Fare'], [75, 25])\n",
    "iqr3 = q75 - q25\n",
    "outlier_max3 = 1.5*iqr3 + q75\n",
    "outlier_min3 = q25 - 1.5*iqr3\n",
    "print('outlier max class 3: '+ str(outlier_max3))\n",
    "print('outlier min class 3: '+ str(outlier_min3))\n",
    "\n",
    "#All Fare = 0 entries are imputed with the mean of their respective ticket class\n",
    "for x in df1.index:\n",
    "    if df1.loc[x, \"Fare\"] == 0:\n",
    "        titanic.loc[x,\"Fare\"]=titanic_averageFare['Fare'][1]\n",
    "for x in df2.index:\n",
    "    if df2.loc[x, \"Fare\"] == 0:\n",
    "        titanic.loc[x,\"Fare\"]=titanic_averageFare['Fare'][2]\n",
    "for x in df3.index:\n",
    "    if df3.loc[x, \"Fare\"] == 0:\n",
    "        titanic.loc[x,\"Fare\"]=titanic_averageFare['Fare'][3]\n",
    "        "
   ]
  },
  {
   "cell_type": "code",
   "execution_count": 420,
   "id": "4a84fd7c",
   "metadata": {},
   "outputs": [
    {
     "name": "stdout",
     "output_type": "stream",
     "text": [
      "        PassengerId  Survived  Sex  Age  SibSp  Parch  Fare  Embarked\n",
      "Pclass                                                               \n",
      "1               216       216  216  216    216    216   216       216\n",
      "2               184       184  184  184    184    184   184       184\n",
      "3               491       491  491  491    491    491   491       491\n",
      "     PassengerId  Survived  Pclass     Sex   Age  SibSp  Parch     Fare  \\\n",
      "0              1         0       3    male  22.0      1      0   7.2500   \n",
      "1              2         1       1  female  38.0      1      0  71.2833   \n",
      "2              3         1       3  female  26.0      0      0   7.9250   \n",
      "3              4         1       1  female  35.0      1      0  53.1000   \n",
      "4              5         0       3    male  35.0      0      0   8.0500   \n",
      "..           ...       ...     ...     ...   ...    ...    ...      ...   \n",
      "886          887         0       2    male  27.0      0      0  13.0000   \n",
      "887          888         1       1  female  19.0      0      0  30.0000   \n",
      "888          889         0       3  female  29.7      1      2  23.4500   \n",
      "889          890         1       1    male  26.0      0      0  30.0000   \n",
      "890          891         0       3    male  32.0      0      0   7.7500   \n",
      "\n",
      "    Embarked  \n",
      "0          S  \n",
      "1          C  \n",
      "2          S  \n",
      "3          S  \n",
      "4          S  \n",
      "..       ...  \n",
      "886        S  \n",
      "887        S  \n",
      "888        S  \n",
      "889        C  \n",
      "890        Q  \n",
      "\n",
      "[891 rows x 9 columns]\n"
     ]
    }
   ],
   "source": [
    "#George Cheng\n",
    "#Count the entries by Pclass\n",
    "titanic_count = titanic.groupby(by = 'Pclass').count()\n",
    "print(titanic_count)\n",
    "#We decided to replace all outliers with their pclass's average fare. Originally, we did decide to drop them, but \n",
    "# we saw the number of removed entries for each pclass (shown below) and felt that the 7.83% of the data was too much\n",
    "# data dropped for the analysis. \n",
    "for x in df1.index:\n",
    "    if df1.loc[x, \"Fare\"] >= outlier_max1:\n",
    "        titanic[\"Fare\"] = titanic[\"Fare\"].replace([df1.loc[x, \"Fare\"]],titanic_averageFare['Fare'][1])\n",
    "    if df1.loc[x, \"Fare\"] <= outlier_min1:\n",
    "        titanic[\"Fare\"] = titanic[\"Fare\"].replace([df1.loc[x, \"Fare\"]],titanic_averageFare['Fare'][1])\n",
    "\n",
    "#Changed instead of removed\n",
    "#Removed 20 entries (There are 216 entries, so removing 20/216 = 9.259% of the 1st ticket class population)\n",
    "\n",
    "for x in df2.index:\n",
    "    if df2.loc[x, \"Fare\"] >= outlier_max2:\n",
    "        titanic[\"Fare\"] = titanic[\"Fare\"].replace([df2.loc[x, \"Fare\"]],titanic_averageFare['Fare'][2])\n",
    "    if df2.loc[x, \"Fare\"] <= outlier_min2:\n",
    "        titanic[\"Fare\"] = titanic[\"Fare\"].replace([df2.loc[x, \"Fare\"]],titanic_averageFare['Fare'][2])\n",
    "\n",
    "#Changed instead of removed\n",
    "#Removed 7 entries (There are 184 entries, so removing 7/184 = 3.8% of the 2nd ticket class population)\n",
    "\n",
    "for x in df3.index:\n",
    "    if df3.loc[x, \"Fare\"] >= outlier_max3:\n",
    "        titanic[\"Fare\"] = titanic[\"Fare\"].replace([df3.loc[x, \"Fare\"]],titanic_averageFare['Fare'][3])\n",
    "    if df3.loc[x, \"Fare\"] <= outlier_min3:\n",
    "        titanic[\"Fare\"] = titanic[\"Fare\"].replace([df3.loc[x, \"Fare\"]],titanic_averageFare['Fare'][3])\n",
    "print(titanic)\n",
    "\n",
    "#Changed instead of removed\n",
    "#Removed 52 entries (There are 491 entries, so removing 52/491 = 10.59% of the 3rd ticket class population)\n",
    "\n",
    "#WITH THIS, THE DATA IS DEEMED TO BE CLEANED!"
   ]
  },
  {
   "cell_type": "code",
   "execution_count": 421,
   "id": "cfa13744",
   "metadata": {
    "scrolled": false
   },
   "outputs": [
    {
     "data": {
      "image/png": "[encoded data removed]",
      "text/plain": [
       "<Figure size 432x288 with 1 Axes>"
      ]
     },
     "metadata": {
      "needs_background": "light"
     },
     "output_type": "display_data"
    },
    {
     "data": {
      "image/png": "[encoded data removed]",
      "text/plain": [
       "<Figure size 432x288 with 1 Axes>"
      ]
     },
     "metadata": {
      "needs_background": "light"
     },
     "output_type": "display_data"
    },
    {
     "data": {
      "image/png": "[encoded data removed]",
      "text/plain": [
       "<Figure size 432x288 with 1 Axes>"
      ]
     },
     "metadata": {
      "needs_background": "light"
     },
     "output_type": "display_data"
    },
    {
     "data": {
      "image/png": "[encoded data removed]",
      "text/plain": [
       "<Figure size 432x288 with 1 Axes>"
      ]
     },
     "metadata": {
      "needs_background": "light"
     },
     "output_type": "display_data"
    },
    {
     "data": {
      "image/png": "[encoded data removed]",
      "text/plain": [
       "<Figure size 432x288 with 1 Axes>"
      ]
     },
     "metadata": {
      "needs_background": "light"
     },
     "output_type": "display_data"
    },
    {
     "data": {
      "image/png": "[encoded data removed]",
      "text/plain": [
       "<Figure size 432x288 with 1 Axes>"
      ]
     },
     "metadata": {
      "needs_background": "light"
     },
     "output_type": "display_data"
    },
    {
     "data": {
      "image/png": "[encoded data removed]",
      "text/plain": [
       "<Figure size 432x288 with 1 Axes>"
      ]
     },
     "metadata": {
      "needs_background": "light"
     },
     "output_type": "display_data"
    },
    {
     "data": {
      "image/png": "[encoded data removed]",
      "text/plain": [
       "<Figure size 432x288 with 1 Axes>"
      ]
     },
     "metadata": {
      "needs_background": "light"
     },
     "output_type": "display_data"
    },
    {
     "data": {
      "image/png": "[encoded data removed]",
      "text/plain": [
       "<Figure size 432x288 with 1 Axes>"
      ]
     },
     "metadata": {
      "needs_background": "light"
     },
     "output_type": "display_data"
    }
   ],
   "source": [
    "#George Cheng\n",
    "#The ticket class of a passenger seemed to be a good indicator of their socio-economic status as fare was\n",
    "# correlated with their ticket class. The ticket class 1 was the most expensive and the ticket class 3\n",
    "# 3 was the least expensive.\n",
    "titanic.boxplot(column = 'Fare', by = 'Pclass')\n",
    "sea.regplot(x = titanic['Pclass'], y = titanic['Fare'])\n",
    "\n",
    "\n",
    "#To see how age is affected by Pclass, a box and whisker plot and a regression line from a scatter plot\n",
    "# with the same attributes (Pclass vs. Age) is drawn. They both show a decrease in the age the lesser \n",
    "# socio-economic status. This could be a result of younger people having spent less time working and thus poorer.\n",
    "titanic.boxplot(column = 'Age', by = 'Pclass')\n",
    "sea.regplot(x = titanic['Pclass'], y = titanic['Age'])\n",
    "\n",
    "#To see how gender is affected by Pclass, they were grouped together by Pclass and Sex and then plotted by count \n",
    "# as a bar graph. In the bar graph, the females were always less than the males, regardless of the Pclass. However,\n",
    "# it seems like there is a significant number of males compared to females in the 3rd Pclass, almost twice the number\n",
    "# of males compared to number females.\n",
    "\n",
    "titanic_gender=titanic.groupby(['Pclass','Sex']).size()\n",
    "titanic_gender=titanic_gender.unstack()\n",
    "titanic_gender.plot(kind='bar')\n",
    "\n",
    "#To see how the number of parents and children are affected by Pclass, a bar graph similar in implementation to \n",
    "# the Sex vs Pclass is done.\n",
    "titanic_parch=titanic.groupby(['Pclass', 'Parch']).size()\n",
    "titanic_parch=titanic_parch.unstack()\n",
    "ax = titanic_parch.plot(kind='bar')\n",
    "\n",
    "#The number of Parch being 0 is very prominent compared to every other number for the attribute Parch. The number \n",
    "# of Parch that were greater than 0 was so small compared that the same graph was made, but the y limit was set to 60\n",
    "# ,so the other Parch attribute counts could be looked at. Overall, it seemed like a Power Law Distribution.\n",
    "# Regardless of Pclass, most have Parch = 0, 1, or 2. Then, there are the very few that have Parch > 2\n",
    "titanic_parch=titanic.groupby(['Pclass', 'Parch']).size()\n",
    "titanic_parch=titanic_parch.unstack()\n",
    "ax = titanic_parch.plot(kind='bar')\n",
    "ax = ax.set_ylim(0,60)\n",
    "\n",
    "#Where the passenger embarked vs. their Pclass was also compared via bar graph. It seems to indicate that these places\n",
    "# have different socioeconomic statuses. Queenstown seem to be the most prominent as barely any Pclass 1 or Pclass 2 \n",
    "# was purchased in that port, almost all tickets were class 3, which makes Queenstown seem very poor. Cherbourg has \n",
    "# less people buying the class 3 ticket than class 1 tickets, showing that the population of Cherbourg seems to be \n",
    "# very wealthy. Southampton seems to have a Power Law Distribution, most people bought the cheapest ticket (Pclass \n",
    "# = 3)and the least people buying the most expensive ticket (Pclass = 1). This seems to indicate that Southampton \n",
    "# residents are average in wealth.\n",
    "titanic_parch=titanic.groupby(['Pclass', 'Embarked']).size()\n",
    "titanic_parch=titanic_parch.unstack()\n",
    "ax = titanic_parch.plot(kind='bar')\n",
    "\n",
    "#Finally, the class of the ticket is compared to the Sibsp of the passenger via another bar graph. \n",
    "# Like the Parent/Child graph, 0 siblings/Spouses is far greater than all the others\n",
    "titanic_parch=titanic.groupby(['Pclass', 'SibSp']).size()\n",
    "titanic_parch=titanic_parch.unstack()\n",
    "ax = titanic_parch.plot(kind='bar')\n",
    "\n",
    "#In order to show the other groups more effectively, we set the limit of the graph to 100\n",
    "# 1 siblings/Spouses is still far greater than the rest\n",
    "titanic_parch=titanic.groupby(['Pclass', 'SibSp']).size()\n",
    "titanic_parch=titanic_parch.unstack()\n",
    "ax = titanic_parch.plot(kind='bar')\n",
    "ax = ax.set_ylim(0,100)\n",
    "\n",
    "#To show the other number of siblings and spouses effectively, we now set the limit to 20 \n",
    "# A power law distribution would be most effective in representing this data\n",
    "# While 0 siblings/Spouses is most common in all 3 classes, in 3rd class the number is far greater than in the other classes\n",
    "# This suggests that a larger portion of those in 3rd class are single and have no siblings\n",
    "titanic_parch=titanic.groupby(['Pclass', 'SibSp']).size()\n",
    "titanic_parch=titanic_parch.unstack()\n",
    "ax = titanic_parch.plot(kind='bar')\n",
    "ax = ax.set_ylim(0,20)"
   ]
  },
  {
   "cell_type": "code",
   "execution_count": 422,
   "id": "2fdd7161",
   "metadata": {
    "scrolled": false
   },
   "outputs": [
    {
     "data": {
      "image/png": "[encoded data removed]",
      "text/plain": [
       "<Figure size 432x288 with 1 Axes>"
      ]
     },
     "metadata": {
      "needs_background": "light"
     },
     "output_type": "display_data"
    },
    {
     "data": {
      "image/png": "[encoded data removed]",
      "text/plain": [
       "<Figure size 432x288 with 1 Axes>"
      ]
     },
     "metadata": {
      "needs_background": "light"
     },
     "output_type": "display_data"
    },
    {
     "data": {
      "image/png": "[encoded data removed]",
      "text/plain": [
       "<Figure size 432x288 with 1 Axes>"
      ]
     },
     "metadata": {
      "needs_background": "light"
     },
     "output_type": "display_data"
    },
    {
     "data": {
      "image/png": "[encoded data removed]",
      "text/plain": [
       "<Figure size 432x288 with 1 Axes>"
      ]
     },
     "metadata": {
      "needs_background": "light"
     },
     "output_type": "display_data"
    },
    {
     "data": {
      "image/png": "[encoded data removed]",
      "text/plain": [
       "<Figure size 432x288 with 1 Axes>"
      ]
     },
     "metadata": {
      "needs_background": "light"
     },
     "output_type": "display_data"
    },
    {
     "data": {
      "image/png": "[encoded data removed]",
      "text/plain": [
       "<Figure size 432x288 with 1 Axes>"
      ]
     },
     "metadata": {
      "needs_background": "light"
     },
     "output_type": "display_data"
    },
    {
     "data": {
      "image/png": "[encoded data removed]",
      "text/plain": [
       "<Figure size 432x288 with 1 Axes>"
      ]
     },
     "metadata": {
      "needs_background": "light"
     },
     "output_type": "display_data"
    },
    {
     "data": {
      "image/png": "[encoded data removed]",
      "text/plain": [
       "<Figure size 432x288 with 1 Axes>"
      ]
     },
     "metadata": {
      "needs_background": "light"
     },
     "output_type": "display_data"
    },
    {
     "data": {
      "image/png": "[encoded data removed]",
      "text/plain": [
       "<Figure size 432x288 with 1 Axes>"
      ]
     },
     "metadata": {
      "needs_background": "light"
     },
     "output_type": "display_data"
    },
    {
     "data": {
      "image/png": "[encoded data removed]",
      "text/plain": [
       "<Figure size 432x288 with 1 Axes>"
      ]
     },
     "metadata": {
      "needs_background": "light"
     },
     "output_type": "display_data"
    }
   ],
   "source": [
    "#George Cheng & Dylan Lai\n",
    "#The fare of a passenger seemed to be a good indicator of their survial, but that may be because fare was\n",
    "# correlated with their ticket class and number of Parent/Childs.\n",
    "titanic.boxplot(column = 'Fare', by = 'Survived')\n",
    "sea.regplot(x = titanic['Survived']+1, y = titanic['Fare'])\n",
    "\n",
    "#To see how age affected surival, a box and whisker plot from a scatter plot with the same attributes (Survived vs.\n",
    "# Age) is drawn. They both show an average age of 30 for survived and not suvived.\n",
    "# This suggests that the average age on the ship was 30 and the survival was distributed approximately normally. \n",
    "# However, there were less outliers for the box and whisker plot that survived\n",
    "# This suggests that thre was a higher variance in the ages of those that survived\n",
    "titanic.boxplot(column = 'Age', by = 'Survived')\n",
    "sea.regplot(x = titanic['Survived']+1, y = titanic['Age'])\n",
    "\n",
    "#To see how gender affected survival, they were grouped together by Survived and Sex and then plotted by count as a \n",
    "# bar graph. In the bar graph, the females were less than the males for not survived, but greater than males for \n",
    "# survived. This suggests that females had a greater survival rate.\n",
    "titanic_gender=titanic.groupby(['Survived','Sex']).size()\n",
    "titanic_gender=titanic_gender.unstack()\n",
    "titanic_gender.plot(kind='bar')\n",
    "\n",
    "#To see how the number of parents and children affected suvival, a bar graph similar in implementation to \n",
    "# the Sex vs Survived is done.\n",
    "titanic_parch=titanic.groupby(['Survived', 'Parch']).size()\n",
    "titanic_parch=titanic_parch.unstack()\n",
    "ax = titanic_parch.plot(kind='bar')\n",
    "\n",
    "#The number of Parch being 0 is very prominent compared to every other number for the attribute Parch. \n",
    "# The number of Parch that were greater than 0 was so small compared that the same graph was made,\n",
    "# but the y limit was set to 70 so the other Parch attribute counts could be looked at. \n",
    "# Overall, it seemes like a Power Law Distribution.\n",
    "# Regardless of Survival, most have Parch = 0, 1, or 2. Then, there are the very few that have Parch > 2\n",
    "# Those that did not have a child had a much greater chance of not surviving.\n",
    "# Those that only had one child had a slightly lower chance of surviving.\n",
    "# Those with 2 children had approximately equal chance of surviving or not surviving\n",
    "titanic_parch=titanic.groupby(['Survived', 'Parch']).size()\n",
    "titanic_parch=titanic_parch.unstack()\n",
    "ax = titanic_parch.plot(kind='bar')\n",
    "ax = ax.set_ylim(0,70)\n",
    "\n",
    "#The socioeconomic class represented via ticket clas vs survival is compared using a bar graph\n",
    "# For 3rd class tickets, the number that did not survive was much greater than those that did survive\n",
    "# This suggests that being 3rd class means you are less likely to survive\n",
    "titanic_pclass=titanic.groupby(['Survived', 'Pclass']).size()\n",
    "titanic_pclass=titanic_pclass.unstack()\n",
    "ax = titanic_pclass.plot(kind='bar')\n",
    "\n",
    "#Where the passenger embarked vs. their survival was also compared via bar graph. \n",
    "# For both Southhampton and Queenstown, the portion that survived was less than those that did not survive\n",
    "# However, for Cherbourg, the portion that survived was slightly greater than those that did not survive\n",
    "# This suggests that embarking from Cherbourg indicated a greater chance for survival,\n",
    "# but from our previous analysis of the socioeconomic status of Cherbourg, Cherbourg is likely also a wealthy location.\n",
    "# Thus the reason that embarking from Cherbourg indicated a greater chance for survival is due to socioeconomic status.\n",
    "titanic_parch=titanic.groupby(['Survived', 'Embarked']).size()\n",
    "titanic_parch=titanic_parch.unstack()\n",
    "ax = titanic_parch.plot(kind='bar')\n",
    "\n",
    "#Finally, survival is compared to the Sibsp of the passenger via another bar graph.\n",
    "# Like the Parent/Child graph, 0 siblings/Spouses is far greater than all the others\n",
    "titanic_parch=titanic.groupby(['Survived', 'SibSp']).size()\n",
    "titanic_parch=titanic_parch.unstack()\n",
    "ax = titanic_parch.plot(kind='bar')\n",
    "\n",
    "#In order to show the other groups more effectively, we set the limit of the graph to 120\n",
    "# 1 siblings/Spouses is still far greater than the rest\n",
    "titanic_parch=titanic.groupby(['Survived', 'SibSp']).size()\n",
    "titanic_parch=titanic_parch.unstack()\n",
    "ax = titanic_parch.plot(kind='bar')\n",
    "ax = ax.set_ylim(0,120)\n",
    "\n",
    "#In order to show the other groups more effectively, we set the limit of the graph to 20\n",
    "# 1 siblings/Spouses is still far greater than the rest\n",
    "# A power law distribution would be best to represent this data\n",
    "# While 0 siblings/Spouses is much larger in both survived and not survived, \n",
    "# there are much more with 0 siblings/Spouses that did not survive.\n",
    "# This suggests that those with no family had a lower chance of survivng\n",
    "titanic_parch=titanic.groupby(['Survived', 'SibSp']).size()\n",
    "titanic_parch=titanic_parch.unstack()\n",
    "ax = titanic_parch.plot(kind='bar')\n",
    "ax = ax.set_ylim(0,20)"
   ]
  },
  {
   "cell_type": "code",
   "execution_count": 423,
   "id": "48016313",
   "metadata": {},
   "outputs": [
    {
     "name": "stdout",
     "output_type": "stream",
     "text": [
      "Correlation between Fare and Survived: 0.3235322233818887\n",
      "Correlation between Age and Survived: -0.06981101300650602\n",
      "Correlation between Sex and Survived: 0.543351380657755\n",
      "Correlation between Parents/Children and Survived: 0.08162940708348365\n",
      "Correlation between Ticket class and Survived: -0.33848103596101475\n",
      "Correlation between Embarked location and Survived: -0.16767531386772117\n",
      "Correlation between Siblings/Spouses and Survived: -0.03532249888573559\n"
     ]
    }
   ],
   "source": [
    "#Dylan Lai\n",
    "#For non-numerical features, we assign a number to each category (example: male = 0, female = 0) before comparing them\n",
    "print('Correlation between Fare and Survived: '+str(titanic[\"Survived\"].corr(titanic[\"Fare\"])))\n",
    "print('Correlation between Age and Survived: '+str(titanic[\"Survived\"].corr(titanic[\"Age\"])))\n",
    "titanic_Sex = titanic['Sex'].map({'male':0,'female':1})\n",
    "print('Correlation between Sex and Survived: '+str(titanic[\"Survived\"].corr(titanic_Sex)))\n",
    "print('Correlation between Parents/Children and Survived: '+str(titanic[\"Survived\"].corr(titanic[\"Parch\"])))\n",
    "print('Correlation between Ticket class and Survived: '+str(titanic[\"Survived\"].corr(titanic[\"Pclass\"])))\n",
    "titanic_Embark = titanic['Embarked'].map({'C':0,'Q':1,'S':2})\n",
    "print('Correlation between Embarked location and Survived: '+str(titanic[\"Survived\"].corr(titanic_Embark)))\n",
    "print('Correlation between Siblings/Spouses and Survived: '+str(titanic[\"Survived\"].corr(titanic[\"SibSp\"])))\n",
    "#The correlations with the largest absolute value has are the most correlated. With this in mind, Sex, Ticket class, \n",
    "# and Fare seem to be the most important based on their correlation with Survived, and are the features we will use\n",
    "# for our analysis. "
   ]
  },
  {
   "cell_type": "code",
   "execution_count": 424,
   "id": "3f6829f9",
   "metadata": {},
   "outputs": [
    {
     "name": "stdout",
     "output_type": "stream",
     "text": [
      "     Survived  Pclass     Fare  Sex\n",
      "0           0       3   7.2500    0\n",
      "1           1       1  71.2833    1\n",
      "2           1       3   7.9250    1\n",
      "3           1       1  53.1000    1\n",
      "4           0       3   8.0500    0\n",
      "..        ...     ...      ...  ...\n",
      "886         0       2  13.0000    0\n",
      "887         1       1  30.0000    1\n",
      "888         0       3  23.4500    1\n",
      "889         1       1  30.0000    0\n",
      "890         0       3   7.7500    0\n",
      "\n",
      "[891 rows x 4 columns]\n"
     ]
    }
   ],
   "source": [
    "#George Cheng & Dylan Lai\n",
    "#We dropped all of the non important columns from the dataset, but also, dropped Sex as it is non numerical. We then\n",
    "# inserted the Sex column that was transformed to be numerical (male = 0, female = 1).\n",
    "#Then, since the original testing data had no survived column, we had to improvise with splitting the training data \n",
    "# into 75% training set and 25% testing set.\n",
    "titanic_data=titanic.drop(columns = ['Sex', 'Embarked','Age','Parch','SibSp','PassengerId'], axis=1)\n",
    "titanic_data.insert(3,'Sex',titanic_Sex)\n",
    "titanic_training = titanic_data[0:int(round(titanic['Sex'].size*.75,0))]\n",
    "titanic_testing = titanic_data[int((round(titanic['Sex'].size*.75,0))+1):]\n",
    "titanic_data = titanic_data.reset_index(drop=True)\n",
    "print(titanic_data)\n",
    "\n",
    "#Here, we made Survived our class by dropping them from the features (x, independent variable) and then adding them \n",
    "# to our target class (y, dependent variable). \n",
    "train_x = titanic_training.drop(columns=['Survived'],axis=1)\n",
    "train_y = titanic_training['Survived']\n",
    "test_x = titanic_testing.drop(columns=['Survived'],axis=1)\n",
    "test_y = titanic_testing['Survived']"
   ]
  },
  {
   "cell_type": "code",
   "execution_count": 425,
   "id": "69e0ef18",
   "metadata": {},
   "outputs": [
    {
     "name": "stdout",
     "output_type": "stream",
     "text": [
      "Accuracy on test dataset 0.7837837837837838\n",
      "Precision_test :  (0.717948717948718, 0.6829268292682927, 0.7000000000000001, None)\n"
     ]
    }
   ],
   "source": [
    "#Dylan Lai\n",
    "#KNearestNeighbor Classifier\n",
    "#K-Nearest Neighbor Classifer groups sets of K elements together that have been labeled. \n",
    "#The label that appears in the grouping the most decides the classification that the entire group is labeled in each\n",
    "# group. \n",
    "#Using these labels, we can split the data by how it was classified in each grouping.\n",
    "Kmodel = skln.KNeighborsClassifier()\n",
    "Kmodel.fit(train_x,train_y)\n",
    "#We tested with a few different k neighbor values, and we settled on 17 as it seemed to be the best\n",
    "Kmodel.n_neighbors = 17\n",
    "predict_train = Kmodel.predict(train_x)\n",
    "predict_test = Kmodel.predict(test_x)\n",
    "accuracy_test = sklm.accuracy_score(test_y,predict_test)\n",
    "print('Accuracy on test dataset',accuracy_test)\n",
    "#The accuracy for the K Nearest Neighbors Model is pretty good as 78.38% is close to 80%, an accuracy precentage that\n",
    "# was decided to be a standard for our models.\n",
    "precision_test = sklm.precision_recall_fscore_support(test_y, predict_test, average = 'binary')\n",
    "print ('Precision_test : ', precision_test)\n",
    "#The precision_recall_fscore_support method allows to show the precision, recall, f score, and number of \n",
    "# instances of each class predicted. In our case, we decide to average out these scores and the result are:\n",
    "#Precision = 0.71795\n",
    "#Recall = 0.68293\n",
    "#Fscore = 0.7\n",
    "#The precision of the K-Nearest Neighbors is 71.795%. If (precision)^(-1), we will find out the precentage of \n",
    "# false positives compared to true positives. In this case, (.71795)^-1 = 1.3928 = (true positive/true positive = 1) + \n",
    "# (false positive/true positive), which shows the ratio of false to true positive as .3928 : 1 or 1: 2.5455, which \n",
    "# shows that the precision score is ok as it means there are 2 false positives for every 5 true positives, a fair \n",
    "# ratio. \n",
    "# The recall of the K-Nearest Neighbors is 68.293%. If we invert the formula like for precision, we find out that \n",
    "# (true positive + false negatives / true positive) = 1.464. The ratio comes out to be 1: 2.154 for false negatives to\n",
    "# true positives, a fair recall score as less than 1/3 of all the predicted positives are wrong. \n",
    "# The F score is similar to the accuracy test, but it considered even better as it takes into account both recall and \n",
    "# precision. The F score for this algorithm is 70% This means that the algorithm is pretty good as it is better than \n",
    "# a 50% fair coin flip, but not very good as it is much less than 80% accurate."
   ]
  },
  {
   "cell_type": "code",
   "execution_count": 426,
   "id": "f7cc6521",
   "metadata": {},
   "outputs": [
    {
     "name": "stdout",
     "output_type": "stream",
     "text": [
      "Coefficient of model : [[-8.44479082e-01  1.03108276e-03  2.53102928e+00]]\n",
      "Intercept of model [0.41083833]\n",
      "accuracy_score on test dataset :  0.7882882882882883\n",
      "Precision_test :  (0.7464788732394366, 0.6463414634146342, 0.69281045751634, None)\n"
     ]
    }
   ],
   "source": [
    "#Dylan Lai\n",
    "#Logistic Regression\n",
    "#Logistic Regression uses a logistic function to convert variables into probabilites\n",
    "#h(x,w) = w_0 + sum(from i=1 to m-1, w_i*x_i)\n",
    "#f(x) = 1/(1+e^-h(x,w))\n",
    "#This ensures that the values will be between 0 and 1\n",
    "#The regression is assuming the data it is classifying has a binary classification(Either 1 or 0)\n",
    "#Coefficient w for the regression is made so that high 'probabilites' correspond to a 1 classification\n",
    "#and low 'proabilities' correspond to a 0 classification\n",
    "#A cost function is also used to value each probability,\n",
    "#a higher cost/loss function value means the prediction would be more wrong\n",
    "LogisticModel = LogisticRegression()\n",
    "LogisticModel.fit(train_x,train_y)\n",
    "\n",
    "#We have the logstic model fit itself with the traing data and then have it print its coefficient and intercept, to\n",
    "# show the weight it puts behind each feature, when predicting the class.\n",
    "print('Coefficient of model :', LogisticModel.coef_)\n",
    "print('Intercept of model', LogisticModel.intercept_)\n",
    "predict_test = LogisticModel.predict(test_x)\n",
    "\n",
    "accuracy_test = sklm.accuracy_score(test_y,predict_test)\n",
    "#The accuracy for the Logistic Regression is pretty good as 78.83% is close to 80%, an accuracy precentage that\n",
    "# was decided to be a standard for our models.\n",
    "print('accuracy_score on test dataset : ', accuracy_test)\n",
    "precision_test = sklm.precision_recall_fscore_support(test_y, predict_test, average = 'binary')\n",
    "print ('Precision_test : ', precision_test)\n",
    "#The precision_recall_fscore_support method allows to show the precision, recall, f score, and number of \n",
    "# instances of each class predicted. In our case, we decide to average out these scores and the result are:\n",
    "#Precision = 0.74648\n",
    "#Recall = 0.64634\n",
    "#Fscore = 0.69281\n",
    "#The precision of the Logistic Regression is 74.648%. If precision is inverted, we will find out the precentage of \n",
    "#false positives compared to true positives. In this case, (.74648)^-1 = 1.3396 = (true positive/true positive = 1) + \n",
    "# (false positive/true positive), which shows the ratio of false to true positive as .3396 : 1 or 1: 2.9, which shows \n",
    "# that the precision score is fair as it means there is a false positive for every 2.9 true positives, a fair\n",
    "# ratio. \n",
    "# The recall of the Logistic Regression is 64.634%. If we invert the formula like for precision, we find out that \n",
    "# (true positive + false negatives / true positive) = 1.547. The ratio (which is the same process as\n",
    "# precision) seems to be 1: 1.547 for false negatives to true positives, which means that 1/3 of all the positives\n",
    "# were not true.\n",
    "# The F score is similar to the accuracy test, but it considered even better. The F score for this algorithm is \n",
    "# 69.281%. This means that the algorithm is good as it is better than a 50% coin flip, but not very good as it is\n",
    "# much less than 80% accurate."
   ]
  },
  {
   "cell_type": "code",
   "execution_count": 427,
   "id": "bd9d504a",
   "metadata": {},
   "outputs": [
    {
     "name": "stdout",
     "output_type": "stream",
     "text": [
      "accuracy_score on test dataset :  0.8243243243243243\n",
      "Precision_test :  (0.8028169014084507, 0.6951219512195121, 0.7450980392156863, None)\n"
     ]
    }
   ],
   "source": [
    "#George Cheng\n",
    "#The Machine Learning Algorithm used here is the Decision Tree Classifier Algorithm.\n",
    "#For this algorithm, a feature is selected to be the root and then the branches, which represents a value or range \n",
    "# of values of that root feature, are formed from the root, seperating the data into each branch, where the data is\n",
    "# has that root feature be that value or range of values. \n",
    "#Then, nodes are formed from the split data and for each node, the process is done again and again with another \n",
    "# feature not selected yet from the branch until all of the split data in a particular node has all the same class or\n",
    "# no more attributes can be selected from a particular node.\n",
    "#If the split has all the same process, the process is terminated for that node and it becomes a leaf with its class \n",
    "# being the class that the data has.\n",
    "#If there are no more attributes to select from, all that split data will be used to see what class appears more \n",
    "# often. The node is terminated and becomes a leaf with the class that appears more often in the data. \n",
    "#Each record in the testing set will be checked against the tree with the record starting from the root of the tree\n",
    "# and going to branches that fit the attribute it has and does this until it reaches a leaf with a class, that will\n",
    "# be the class the decision tree classifier predicts it has. \n",
    "\n",
    "DecisionModel = DecisionTreeClassifier()\n",
    "\n",
    "DecisionModel.fit(train_x,train_y)\n",
    "predict_test = DecisionModel.predict(test_x)\n",
    "\n",
    "accuracy_test = sklm.accuracy_score(test_y,predict_test)\n",
    "print('accuracy_score on test dataset : ', accuracy_test)\n",
    "#The accuracy of the Decision Tree Classifier seems to be quite high, as it is above the 80% threshold we imposed.\n",
    "precision_test = sklm.precision_recall_fscore_support(test_y, predict_test, average = 'binary')\n",
    "print ('Precision_test : ', precision_test)\n",
    "#The precision_recall_fscore_support method allows to show the precision, recall, f score, and number of \n",
    "# instances of each class predicted. In our case, we decide to average out these scores and the result are:\n",
    "#Precision = 0.80282\n",
    "#Recall = 0.69512\n",
    "#Fscore = 0.74510\n",
    "#The precision of the Decision Tree Classifier is 80.282%. If (precision)^(-1), we will find out the precentage of \n",
    "#false positives compared to true positives. In this case, (.80282)^-1 = 1.2456 = (true positive/true positive = 1) + \n",
    "# (false positive/true positive), which shows the ratio of false to true positive as .2456 : 1 or 1: 4.1, which shows \n",
    "# that the precision score is good as it means there is a false positive for every 4.1 true positives, a low\n",
    "# ratio. \n",
    "# The recall of the Decision Tree Classifier is 69.512%. If we invert the formula like for precision, we find out that \n",
    "# (true positive + false negatives / true positive) = 1.4386. This shows that for there is almost 1 false negative for \n",
    "# every 2.2799 true positives, meaning about 30% of all positive predictions were wrong. This seems quite high thus, \n",
    "# is a very poor recall score. \n",
    "# F score is considered a better test of accuracy and overall, the F score is 74.510%, a good score that is better \n",
    "# than 50% coin flip, but also, not ver]]]]]]]y good as it is lower than 80%."
   ]
  },
  {
   "cell_type": "code",
   "execution_count": 428,
   "id": "58456d41",
   "metadata": {},
   "outputs": [
    {
     "name": "stdout",
     "output_type": "stream",
     "text": [
      "Average Precision Test(precision, recall, F-score) : (0.8821548821548821, 0.8855218855218855, 0.7676767676767676)\n",
      "Avg accuracy : 0.7676767676767676\n"
     ]
    }
   ],
   "source": [
    "#George Cheng & Dylan Lai\n",
    "#We seperate our data into the Survived columns and every other column\n",
    "X = titanic_data.iloc[:,1:]\n",
    "y = titanic_data.iloc[:,0]\n",
    "#For Cross Validation, we use \"Leave-One-Out\" Cross Validation, meaning that the entire dataset is all going to become \n",
    "# training data, except for one entry that is testing data. This will be repeated the number of entries times and \n",
    "# the average accuracy, precision, recall, and F-score will be calculated afterwards.\n",
    "#We will have a similar code for each, but it uses the 3 different machine learning algorithm (same order as earlier).\n",
    "# CROSS VALIDATION: k-Nearest Neighbors\n",
    "k = 891 # n = 891\n",
    "kf = KFold(n_splits=k, random_state=None)\n",
    "#Arrays for our accuracy, precision, recall, and F-score to go into.\n",
    "acc_score = []\n",
    "precision_score = []\n",
    "recall_score = []\n",
    "F_score = []\n",
    "counter = 0\n",
    "\n",
    "\n",
    "for train_index , test_index in kf.split(X):\n",
    "    counter=counter+1\n",
    "    #Seperates the data into testing and training sets by the k folds given\n",
    "    X_train , X_test = X.iloc[train_index,:],X.iloc[test_index,:]\n",
    "    y_train , y_test = y[train_index] , y[test_index]\n",
    "    \n",
    "    #Used the same k_neighbor value as before\n",
    "    Kmodel.fit(X_train,y_train)\n",
    "    pred_values = Kmodel.predict(X_test)\n",
    "    \n",
    "    #The accuracy, precision, recall, and F-score are put into the arrays for later averaging.\n",
    "    acc = sklm.accuracy_score(pred_values , y_test)\n",
    "    acc_score.append(acc)\n",
    "    precision_test = sklm.precision_recall_fscore_support(y_test, pred_values, average = 'binary', zero_division= 1)\n",
    "    precision_score.append(precision_test[0])\n",
    "    recall_score.append(precision_test[1])\n",
    "    F_score.append(precision_test[2])\n",
    "    #The precision_recall_fscore_support method allows to show the precision, recall, f score, and number of \n",
    "    # instances of each class predicted. \n",
    "    #If precision is inverted, we will find out the precentage of false positives compared to true positives. \n",
    "    # precision^(-1)=1+TP/FP\n",
    "    # The recall is (true positive + false negatives / true positive). \n",
    "    # F score is considered a better test of accuracy, the F score is 2*(precision*recall)/(precision+recall)\n",
    "avg_acc_score = sum(acc_score)/k\n",
    "#here we averaged the precision, recall, and F-scores\n",
    "avg_precison_score = sum(precision_score)/k\n",
    "avg_recall_score = sum(recall_score)/k\n",
    "avg_F_score = sum(F_score)/k\n",
    "print('Average Precision Test(precision, recall, F-score) :', '('+str(avg_precison_score)+', '+str(avg_recall_score)+', '+str(avg_F_score)+')')\n",
    "#The average precision of this Cross Validation is 88.215%. \n",
    "#(.88215)^-1 = 1.13 = 1 + (false positive/true positive), \n",
    "#which shows the ratio of false to true positive as .13359 : 1 or 1: 7.485, \n",
    "#which shows that the precision score is very good as it means there is around 2 false positives for every 15 true \n",
    "# positives, a very good ratio.\n",
    "# The average recall of this Cross Validation is 88.55%. The inversion is \n",
    "# (true positive + false negatives / true positive) = 1.129. \n",
    "# the ratio of false negatives to true positives as .129 : 1 or 1: 7.734\n",
    "# This shows that for there is around 4 false negatives for every 31 true positives, an amazing ratio.\n",
    "# The average F-score of this Cross Validation is 76.768%, a pretty good score as it is much better than a 50% fair\n",
    "# coin flip, but not the standard of 80% accuracy that we imposed.\n",
    "print('Avg accuracy : {}'.format(avg_acc_score))\n",
    "#Here, we noticed that out average accuracy was the same as our average F-score, we weren't able to figure this out\n",
    "# yet. \n"
   ]
  },
  {
   "cell_type": "code",
   "execution_count": 429,
   "id": "61f1250e",
   "metadata": {},
   "outputs": [
    {
     "name": "stdout",
     "output_type": "stream",
     "text": [
      "Average Precision Test(precision, recall, F-score) : (0.9090909090909091, 0.877665544332211, 0.7867564534231201)\n",
      "Avg accuracy : 0.7867564534231201\n"
     ]
    }
   ],
   "source": [
    "#George Cheng & Dylan Lai\n",
    "# CROSS VALIDATION: Logistic Regression\n",
    "k = 891\n",
    "kf = KFold(n_splits=k, random_state=None)\n",
    "\n",
    "acc_score = []\n",
    "precision_score = []\n",
    "recall_score = []\n",
    "F_score = []\n",
    "counter = 0\n",
    "\n",
    "for train_index , test_index in kf.split(X):\n",
    "    counter=counter+1\n",
    "    X_train , X_test = X.iloc[train_index,:],X.iloc[test_index,:]\n",
    "    y_train , y_test = y[train_index] , y[test_index]\n",
    "     \n",
    "    LogisticModel.fit(X_train,y_train)\n",
    "    pred_values = LogisticModel.predict(X_test)\n",
    "     \n",
    "    acc = sklm.accuracy_score(pred_values , y_test)\n",
    "    acc_score.append(acc)\n",
    "    precision_test = sklm.precision_recall_fscore_support(y_test, pred_values, average = 'binary', zero_division = 1)\n",
    "    precision_score.append(precision_test[0])\n",
    "    recall_score.append(precision_test[1])\n",
    "    F_score.append(precision_test[2])\n",
    "    #The precision_recall_fscore_support method allows to show the precision, recall, f score, and number of \n",
    "    # instances of each class predicted. \n",
    "    #If precision is inverted, we will find out the precentage of false positives compared to true positives. \n",
    "    # precision^(-1)=1+TP/FP\n",
    "    # The recall is (true positive + false negatives / true positive). \n",
    "    # If we invert the formula like for precision, we find \n",
    "    # (true positive + false negatives / true positives) = 1 + falseNegatives/truePostives\n",
    "    # F score is considered a better test of accuracy, the F score is 2*(precision*recall)/(precision+recall)\n",
    "avg_acc_score = sum(acc_score)/k\n",
    "#here we averaged the precision, recall, and F-scores\n",
    "avg_precison_score = sum(precision_score)/k\n",
    "avg_recall_score = sum(recall_score)/k\n",
    "avg_F_score = sum(F_score)/k\n",
    "print('Average Precision Test(precision, recall, F-score) :', '('+str(avg_precison_score)+', '+str(avg_recall_score)+', '+str(avg_F_score)+')')\n",
    "#The average precision of the Cross Validation is 90.909%. \n",
    "#(.90909)^-1 = 1.100 = 1 + (false positive/true positive), \n",
    "# which shows the ratio of false to true positive as .100 : 1 or 1: 10, \n",
    "#which shows that the precision score is very good as it means there are around a false positive for every 10 true \n",
    "# positives, a very good ratio.\n",
    "# The average recall of the Cross Validation is 87.767%. The inversion is \n",
    "# (true positive + false negatives / true positive) = 1.139. \n",
    "# the ratio of false negatives to true positives as .139 : 1 or 1: 7.175\n",
    "# This shows that for there is around 6 false negative for every 43 true positives, a very great ratio.\n",
    "# The average F-score of the Cross Validation is 78.676%, a good score that is better \n",
    "# than 50% coin flip, but also, not very good as it is lower than 80%.\n",
    "print('Avg accuracy : {}'.format(avg_acc_score))"
   ]
  },
  {
   "cell_type": "code",
   "execution_count": 430,
   "id": "97896b9a",
   "metadata": {},
   "outputs": [
    {
     "name": "stdout",
     "output_type": "stream",
     "text": [
      "Average Precision Test(precision, recall, F-score) : (0.9349046015712682, 0.877665544332211, 0.8125701459034792)\n",
      "Avg accuracy : 0.8125701459034792\n"
     ]
    }
   ],
   "source": [
    "#George Cheng & Dylan Lai\n",
    "# CROSS VALIDATION: Decision Tree Algorithm\n",
    "k = 891\n",
    "kf = KFold(n_splits=k, random_state=None)\n",
    "acc_score = []\n",
    "precision_score = []\n",
    "recall_score = []\n",
    "F_score = []\n",
    "counter = 0\n",
    "for train_index , test_index in kf.split(X):\n",
    "    counter=counter+1\n",
    "    X_train , X_test = X.iloc[train_index,:],X.iloc[test_index,:]\n",
    "    y_train , y_test = y[train_index] , y[test_index]\n",
    "     \n",
    "    modeld.fit(X_train,y_train)\n",
    "    pred_values = modeld.predict(X_test)\n",
    "     \n",
    "    acc = sklm.accuracy_score(pred_values , y_test)\n",
    "    acc_score.append(acc)\n",
    "    precision_test = sklm.precision_recall_fscore_support(y_test, pred_values, average = 'binary', zero_division = 1)\n",
    "    precision_score.append(precision_test[0])\n",
    "    recall_score.append(precision_test[1])\n",
    "    F_score.append(precision_test[2])\n",
    "    #The precision_recall_fscore_support method allows to show the precision, recall, f score, and number of \n",
    "    # instances of each class predicted. \n",
    "    # If precision is inverted, we will find out the precentage of false positives compared to true positives. \n",
    "    # precision^(-1)=1+TP/FP\n",
    "    # The recall is (true positive + false negatives / true positive). \n",
    "    # F score is considered a better test of accuracy, the F score is 2*(precision*recall)/(precision+recall)\n",
    "avg_acc_score = sum(acc_score)/k\n",
    "#here we averaged the precision, recall, and F-scores\n",
    "avg_precison_score = sum(precision_score)/k\n",
    "avg_recall_score = sum(recall_score)/k\n",
    "avg_F_score = sum(F_score)/k\n",
    "print('Average Precision Test(precision, recall, F-score) :', '('+str(avg_precison_score)+', '+str(avg_recall_score)+', '+str(avg_F_score)+')')\n",
    "#The average precision of the Cross Validation is 93.490%. \n",
    "#(.93490)^-1 = 1.0696 = 1 + (false positive/true positive), \n",
    "#which shows the ratio of false to true positive as .0696 : 1 or 1: 14.36, \n",
    "#which shows that the precision score is very good as it means there is around 2 false positive for every 29 true \n",
    "# positives \n",
    "# The average recall of the Cross Validation is 87.767%. The inversion is \n",
    "# (true positive + false negatives / true positive) = 1.1394. \n",
    "# the ratio of false negatives to true positives as .1394 : 1 or 1: 7.175\n",
    "# This shows that for there is around 6 false negative for every 43 true positives, a very good ratio.\n",
    "# The average F-score of the Cross Validation is 81.26%, a very good score as it is over 80% accurate.\n",
    "print('Avg accuracy : {}'.format(avg_acc_score))"
   ]
  },
  {
   "cell_type": "code",
   "execution_count": null,
   "id": "f13c60fa",
   "metadata": {},
   "outputs": [],
   "source": [
    "#George Cheng & Dylan Lai\n",
    "# Overall, the \"Leave One Out\" cross validation set didn't change the accuracy of the models, but did increase the \n",
    "# precision, recall, and F-score for the models. In fact, it did it in such a way that the F-score and accuracy are \n",
    "# both equal; something we have not been able to be understood why yet. \n",
    "# While the algorithms were pretty similar in overall metrics, over both the single training and testing as well as\n",
    "# cross validation, it appears that the Decision Tree Algorithm was the best performer in terms of each metric: \n",
    "# precision, recall, F-score, and accuracy.\n",
    "# As for the worst performer, it would be the k-Nearest Neighbors with k = 17 for each metric and, for the middling \n",
    "# performer, it would be Logistic Regression.\n",
    "# A reasoning for the k-Nearest Neighbors being the worst could be due to a lack of knowledge in the best k for the \n",
    "# algorithm. Our reason for choosing 17 is solely choosing random numbers and seeing how they work as k and finding\n",
    "# that 17 works very well compared to other numbers.\n",
    "# In conclusion, with the high correlations found and every algorithm being able to predict surviving the Titanic, \n",
    "# we can say that there are factors that play a role in surviving the Titanic, not just pure luck. The best indicators\n",
    "# for that survival would be (in order of significance): Sex, Ticket Class, and Fare."
   ]
  }
 ],
 "metadata": {
  "kernelspec": {
   "display_name": "Python 3 (ipykernel)",
   "language": "python",
   "name": "python3"
  },
  "language_info": {
   "codemirror_mode": {
    "name": "ipython",
    "version": 3
   },
   "file_extension": ".py",
   "mimetype": "text/x-python",
   "name": "python",
   "nbconvert_exporter": "python",
   "pygments_lexer": "ipython3",
   "version": "3.9.7"
  }
 },
 "nbformat": 4,
 "nbformat_minor": 5
}
