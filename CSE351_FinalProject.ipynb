{
 "cells": [
  {
   "cell_type": "code",
   "execution_count": 779,
   "id": "fbb07cff",
   "metadata": {},
   "outputs": [
    {
     "data": {
      "text/html": [
       "<div>\n",
       "<style scoped>\n",
       "    .dataframe tbody tr th:only-of-type {\n",
       "        vertical-align: middle;\n",
       "    }\n",
       "\n",
       "    .dataframe tbody tr th {\n",
       "        vertical-align: top;\n",
       "    }\n",
       "\n",
       "    .dataframe thead th {\n",
       "        text-align: right;\n",
       "    }\n",
       "</style>\n",
       "<table border=\"1\" class=\"dataframe\">\n",
       "  <thead>\n",
       "    <tr style=\"text-align: right;\">\n",
       "      <th></th>\n",
       "      <th>PassengerId</th>\n",
       "      <th>Survived</th>\n",
       "      <th>Pclass</th>\n",
       "      <th>Sex</th>\n",
       "      <th>Age</th>\n",
       "      <th>SibSp</th>\n",
       "      <th>Parch</th>\n",
       "      <th>Fare</th>\n",
       "      <th>Embarked</th>\n",
       "    </tr>\n",
       "  </thead>\n",
       "  <tbody>\n",
       "    <tr>\n",
       "      <th>0</th>\n",
       "      <td>1</td>\n",
       "      <td>0</td>\n",
       "      <td>3</td>\n",
       "      <td>male</td>\n",
       "      <td>22.0</td>\n",
       "      <td>1</td>\n",
       "      <td>0</td>\n",
       "      <td>7.2500</td>\n",
       "      <td>S</td>\n",
       "    </tr>\n",
       "    <tr>\n",
       "      <th>1</th>\n",
       "      <td>2</td>\n",
       "      <td>1</td>\n",
       "      <td>1</td>\n",
       "      <td>female</td>\n",
       "      <td>38.0</td>\n",
       "      <td>1</td>\n",
       "      <td>0</td>\n",
       "      <td>71.2833</td>\n",
       "      <td>C</td>\n",
       "    </tr>\n",
       "    <tr>\n",
       "      <th>2</th>\n",
       "      <td>3</td>\n",
       "      <td>1</td>\n",
       "      <td>3</td>\n",
       "      <td>female</td>\n",
       "      <td>26.0</td>\n",
       "      <td>0</td>\n",
       "      <td>0</td>\n",
       "      <td>7.9250</td>\n",
       "      <td>S</td>\n",
       "    </tr>\n",
       "    <tr>\n",
       "      <th>3</th>\n",
       "      <td>4</td>\n",
       "      <td>1</td>\n",
       "      <td>1</td>\n",
       "      <td>female</td>\n",
       "      <td>35.0</td>\n",
       "      <td>1</td>\n",
       "      <td>0</td>\n",
       "      <td>53.1000</td>\n",
       "      <td>S</td>\n",
       "    </tr>\n",
       "    <tr>\n",
       "      <th>4</th>\n",
       "      <td>5</td>\n",
       "      <td>0</td>\n",
       "      <td>3</td>\n",
       "      <td>male</td>\n",
       "      <td>35.0</td>\n",
       "      <td>0</td>\n",
       "      <td>0</td>\n",
       "      <td>8.0500</td>\n",
       "      <td>S</td>\n",
       "    </tr>\n",
       "    <tr>\n",
       "      <th>...</th>\n",
       "      <td>...</td>\n",
       "      <td>...</td>\n",
       "      <td>...</td>\n",
       "      <td>...</td>\n",
       "      <td>...</td>\n",
       "      <td>...</td>\n",
       "      <td>...</td>\n",
       "      <td>...</td>\n",
       "      <td>...</td>\n",
       "    </tr>\n",
       "    <tr>\n",
       "      <th>886</th>\n",
       "      <td>887</td>\n",
       "      <td>0</td>\n",
       "      <td>2</td>\n",
       "      <td>male</td>\n",
       "      <td>27.0</td>\n",
       "      <td>0</td>\n",
       "      <td>0</td>\n",
       "      <td>13.0000</td>\n",
       "      <td>S</td>\n",
       "    </tr>\n",
       "    <tr>\n",
       "      <th>887</th>\n",
       "      <td>888</td>\n",
       "      <td>1</td>\n",
       "      <td>1</td>\n",
       "      <td>female</td>\n",
       "      <td>19.0</td>\n",
       "      <td>0</td>\n",
       "      <td>0</td>\n",
       "      <td>30.0000</td>\n",
       "      <td>S</td>\n",
       "    </tr>\n",
       "    <tr>\n",
       "      <th>888</th>\n",
       "      <td>889</td>\n",
       "      <td>0</td>\n",
       "      <td>3</td>\n",
       "      <td>female</td>\n",
       "      <td>NaN</td>\n",
       "      <td>1</td>\n",
       "      <td>2</td>\n",
       "      <td>23.4500</td>\n",
       "      <td>S</td>\n",
       "    </tr>\n",
       "    <tr>\n",
       "      <th>889</th>\n",
       "      <td>890</td>\n",
       "      <td>1</td>\n",
       "      <td>1</td>\n",
       "      <td>male</td>\n",
       "      <td>26.0</td>\n",
       "      <td>0</td>\n",
       "      <td>0</td>\n",
       "      <td>30.0000</td>\n",
       "      <td>C</td>\n",
       "    </tr>\n",
       "    <tr>\n",
       "      <th>890</th>\n",
       "      <td>891</td>\n",
       "      <td>0</td>\n",
       "      <td>3</td>\n",
       "      <td>male</td>\n",
       "      <td>32.0</td>\n",
       "      <td>0</td>\n",
       "      <td>0</td>\n",
       "      <td>7.7500</td>\n",
       "      <td>Q</td>\n",
       "    </tr>\n",
       "  </tbody>\n",
       "</table>\n",
       "<p>891 rows × 9 columns</p>\n",
       "</div>"
      ],
      "text/plain": [
       "     PassengerId  Survived  Pclass     Sex   Age  SibSp  Parch     Fare  \\\n",
       "0              1         0       3    male  22.0      1      0   7.2500   \n",
       "1              2         1       1  female  38.0      1      0  71.2833   \n",
       "2              3         1       3  female  26.0      0      0   7.9250   \n",
       "3              4         1       1  female  35.0      1      0  53.1000   \n",
       "4              5         0       3    male  35.0      0      0   8.0500   \n",
       "..           ...       ...     ...     ...   ...    ...    ...      ...   \n",
       "886          887         0       2    male  27.0      0      0  13.0000   \n",
       "887          888         1       1  female  19.0      0      0  30.0000   \n",
       "888          889         0       3  female   NaN      1      2  23.4500   \n",
       "889          890         1       1    male  26.0      0      0  30.0000   \n",
       "890          891         0       3    male  32.0      0      0   7.7500   \n",
       "\n",
       "    Embarked  \n",
       "0          S  \n",
       "1          C  \n",
       "2          S  \n",
       "3          S  \n",
       "4          S  \n",
       "..       ...  \n",
       "886        S  \n",
       "887        S  \n",
       "888        S  \n",
       "889        C  \n",
       "890        Q  \n",
       "\n",
       "[891 rows x 9 columns]"
      ]
     },
     "execution_count": 779,
     "metadata": {},
     "output_type": "execute_result"
    }
   ],
   "source": [
    "import pandas as pd\n",
    "import numpy as np\n",
    "import seaborn as sea\n",
    "import matplotlib.pyplot as plt\n",
    "import sklearn.neighbors as skln\n",
    "import sklearn.metrics as sklm\n",
    "import sklearn.cluster as sklc\n",
    "from sklearn.linear_model import LogisticRegression\n",
    "from sklearn.tree import DecisionTreeClassifier\n",
    "import random\n",
    "titanic = pd.read_csv('train.csv')\n",
    "test = pd.read_csv('test.csv')\n",
    "\n",
    "#The ticket number of the passenger are all unique and don't have a concrete format. \n",
    "#Therefore, no analysis could be done on the ticket number and thus is dropped.\n",
    "#The cabin number has lots of missing data and they can't be easily imputed (no average cabin number). \n",
    "#Thus, we drop the column 'cabin'.\n",
    "#The names of the passengers don't really determine much and most are unique. \n",
    "#Thus, no analysis can be done on their name and thus is dropped.\n",
    "titanic = titanic.drop('Ticket', axis=1)\n",
    "titanic = titanic.drop('Cabin', axis=1)\n",
    "titanic = titanic.drop('Name', axis=1)\n",
    "titanic"
   ]
  },
  {
   "cell_type": "code",
   "execution_count": 780,
   "id": "c4860013",
   "metadata": {},
   "outputs": [
    {
     "data": {
      "text/html": [
       "<div>\n",
       "<style scoped>\n",
       "    .dataframe tbody tr th:only-of-type {\n",
       "        vertical-align: middle;\n",
       "    }\n",
       "\n",
       "    .dataframe tbody tr th {\n",
       "        vertical-align: top;\n",
       "    }\n",
       "\n",
       "    .dataframe thead th {\n",
       "        text-align: right;\n",
       "    }\n",
       "</style>\n",
       "<table border=\"1\" class=\"dataframe\">\n",
       "  <thead>\n",
       "    <tr style=\"text-align: right;\">\n",
       "      <th></th>\n",
       "      <th>PassengerId</th>\n",
       "      <th>Survived</th>\n",
       "      <th>Pclass</th>\n",
       "      <th>Sex</th>\n",
       "      <th>Age</th>\n",
       "      <th>SibSp</th>\n",
       "      <th>Parch</th>\n",
       "      <th>Fare</th>\n",
       "      <th>Embarked</th>\n",
       "    </tr>\n",
       "  </thead>\n",
       "  <tbody>\n",
       "    <tr>\n",
       "      <th>0</th>\n",
       "      <td>1</td>\n",
       "      <td>0</td>\n",
       "      <td>3</td>\n",
       "      <td>male</td>\n",
       "      <td>22.0</td>\n",
       "      <td>1</td>\n",
       "      <td>0</td>\n",
       "      <td>7.2500</td>\n",
       "      <td>S</td>\n",
       "    </tr>\n",
       "    <tr>\n",
       "      <th>1</th>\n",
       "      <td>2</td>\n",
       "      <td>1</td>\n",
       "      <td>1</td>\n",
       "      <td>female</td>\n",
       "      <td>38.0</td>\n",
       "      <td>1</td>\n",
       "      <td>0</td>\n",
       "      <td>71.2833</td>\n",
       "      <td>C</td>\n",
       "    </tr>\n",
       "    <tr>\n",
       "      <th>2</th>\n",
       "      <td>3</td>\n",
       "      <td>1</td>\n",
       "      <td>3</td>\n",
       "      <td>female</td>\n",
       "      <td>26.0</td>\n",
       "      <td>0</td>\n",
       "      <td>0</td>\n",
       "      <td>7.9250</td>\n",
       "      <td>S</td>\n",
       "    </tr>\n",
       "    <tr>\n",
       "      <th>3</th>\n",
       "      <td>4</td>\n",
       "      <td>1</td>\n",
       "      <td>1</td>\n",
       "      <td>female</td>\n",
       "      <td>35.0</td>\n",
       "      <td>1</td>\n",
       "      <td>0</td>\n",
       "      <td>53.1000</td>\n",
       "      <td>S</td>\n",
       "    </tr>\n",
       "    <tr>\n",
       "      <th>4</th>\n",
       "      <td>5</td>\n",
       "      <td>0</td>\n",
       "      <td>3</td>\n",
       "      <td>male</td>\n",
       "      <td>35.0</td>\n",
       "      <td>0</td>\n",
       "      <td>0</td>\n",
       "      <td>8.0500</td>\n",
       "      <td>S</td>\n",
       "    </tr>\n",
       "    <tr>\n",
       "      <th>...</th>\n",
       "      <td>...</td>\n",
       "      <td>...</td>\n",
       "      <td>...</td>\n",
       "      <td>...</td>\n",
       "      <td>...</td>\n",
       "      <td>...</td>\n",
       "      <td>...</td>\n",
       "      <td>...</td>\n",
       "      <td>...</td>\n",
       "    </tr>\n",
       "    <tr>\n",
       "      <th>886</th>\n",
       "      <td>887</td>\n",
       "      <td>0</td>\n",
       "      <td>2</td>\n",
       "      <td>male</td>\n",
       "      <td>27.0</td>\n",
       "      <td>0</td>\n",
       "      <td>0</td>\n",
       "      <td>13.0000</td>\n",
       "      <td>S</td>\n",
       "    </tr>\n",
       "    <tr>\n",
       "      <th>887</th>\n",
       "      <td>888</td>\n",
       "      <td>1</td>\n",
       "      <td>1</td>\n",
       "      <td>female</td>\n",
       "      <td>19.0</td>\n",
       "      <td>0</td>\n",
       "      <td>0</td>\n",
       "      <td>30.0000</td>\n",
       "      <td>S</td>\n",
       "    </tr>\n",
       "    <tr>\n",
       "      <th>888</th>\n",
       "      <td>889</td>\n",
       "      <td>0</td>\n",
       "      <td>3</td>\n",
       "      <td>female</td>\n",
       "      <td>29.7</td>\n",
       "      <td>1</td>\n",
       "      <td>2</td>\n",
       "      <td>23.4500</td>\n",
       "      <td>S</td>\n",
       "    </tr>\n",
       "    <tr>\n",
       "      <th>889</th>\n",
       "      <td>890</td>\n",
       "      <td>1</td>\n",
       "      <td>1</td>\n",
       "      <td>male</td>\n",
       "      <td>26.0</td>\n",
       "      <td>0</td>\n",
       "      <td>0</td>\n",
       "      <td>30.0000</td>\n",
       "      <td>C</td>\n",
       "    </tr>\n",
       "    <tr>\n",
       "      <th>890</th>\n",
       "      <td>891</td>\n",
       "      <td>0</td>\n",
       "      <td>3</td>\n",
       "      <td>male</td>\n",
       "      <td>32.0</td>\n",
       "      <td>0</td>\n",
       "      <td>0</td>\n",
       "      <td>7.7500</td>\n",
       "      <td>Q</td>\n",
       "    </tr>\n",
       "  </tbody>\n",
       "</table>\n",
       "<p>891 rows × 9 columns</p>\n",
       "</div>"
      ],
      "text/plain": [
       "     PassengerId  Survived  Pclass     Sex   Age  SibSp  Parch     Fare  \\\n",
       "0              1         0       3    male  22.0      1      0   7.2500   \n",
       "1              2         1       1  female  38.0      1      0  71.2833   \n",
       "2              3         1       3  female  26.0      0      0   7.9250   \n",
       "3              4         1       1  female  35.0      1      0  53.1000   \n",
       "4              5         0       3    male  35.0      0      0   8.0500   \n",
       "..           ...       ...     ...     ...   ...    ...    ...      ...   \n",
       "886          887         0       2    male  27.0      0      0  13.0000   \n",
       "887          888         1       1  female  19.0      0      0  30.0000   \n",
       "888          889         0       3  female  29.7      1      2  23.4500   \n",
       "889          890         1       1    male  26.0      0      0  30.0000   \n",
       "890          891         0       3    male  32.0      0      0   7.7500   \n",
       "\n",
       "    Embarked  \n",
       "0          S  \n",
       "1          C  \n",
       "2          S  \n",
       "3          S  \n",
       "4          S  \n",
       "..       ...  \n",
       "886        S  \n",
       "887        S  \n",
       "888        S  \n",
       "889        C  \n",
       "890        Q  \n",
       "\n",
       "[891 rows x 9 columns]"
      ]
     },
     "execution_count": 780,
     "metadata": {},
     "output_type": "execute_result"
    }
   ],
   "source": [
    "#We find the mean for age, rounded it for simplicity, then imputed any missing values in Age with mean imputation. \n",
    "titanic_meanAge = round(titanic['Age'].mean(), 1)\n",
    "titanic['Age'].fillna(titanic_meanAge, inplace = True)\n",
    "titanic\n",
    "#It didn't seem important in our cleaning to think about outliers in the age as none of the entries had ages that\n",
    "# seemed unreasonable.\n"
   ]
  },
  {
   "cell_type": "code",
   "execution_count": 781,
   "id": "fc77378d",
   "metadata": {},
   "outputs": [
    {
     "name": "stdout",
     "output_type": "stream",
     "text": [
      "        PassengerId  Survived        Age     SibSp     Parch       Fare\n",
      "Pclass                                                                 \n",
      "1        456.687204  0.644550  37.090142  0.426540  0.364929  86.148874\n",
      "2        443.859551  0.488764  29.872640  0.415730  0.393258  21.358661\n",
      "3        439.983573  0.242300  26.355483  0.620123  0.396304  13.787875\n",
      "outlier max class 1: 187.364075\n",
      "outlier min class 1: -62.940125\n",
      "outlier max class 2: 45.5\n",
      "outlier min class 2: -6.5\n",
      "outlier max class 3: 27.125\n",
      "outlier min class 3: -3.875\n",
      "S\n",
      "60    C\n",
      "61    S\n",
      "62    S\n",
      "63    S\n",
      "64    C\n",
      "Name: Embarked, dtype: object\n"
     ]
    }
   ],
   "source": [
    "#THIS IS A CELL THAT WAS DECIDED TO BE KEPT IN, SO AS TO SHOW OUR PROCESS IN DECIDING THAT Fare IS ULTIMATELY \n",
    "#DROPPED FROM OUR ANALYSIS\n",
    "\n",
    "titanic_dropFares = pd.DataFrame(titanic)\n",
    "#This loop removes all entries that have a fare of 0 or less for calculating the mean, since \n",
    "#those entries are presumed to be missing values due to their lack of value. \n",
    "#The calculated mean will be used to impute those entries.\n",
    "for x in titanic_dropFares.index:\n",
    "  if titanic_dropFares.loc[x, \"Fare\"] <= 0:\n",
    "    titanic_dropFares.drop(x, inplace = True)\n",
    "\n",
    "titanic_averageFare = titanic_dropFares.groupby(by = 'Pclass').mean()\n",
    "print(titanic_averageFare)\n",
    "\n",
    "#Seperate dataframe into 3, spliting them across each ticket class x (['Pclass'] == x) because the ticket price is\n",
    "#correlated to the ticket class the passenger purchased.\n",
    "df1 = titanic[titanic['Pclass'] == 1]\n",
    "df2 = titanic[titanic['Pclass'] == 2]\n",
    "df3 = titanic[titanic['Pclass'] == 3]\n",
    "\n",
    "#For each of the split dataframes, we found the 25th and 75th percentile of the variable Fare and then \n",
    "#found the difference to find the interquartile range.\n",
    "#We calculate the Outliers with the formula:  Q3 + 1.5IQR AND Q1 - 1.5 IQR\n",
    "q75, q25 = np.percentile (df1['Fare'], [75, 25])\n",
    "iqr1 = q75 - q25\n",
    "outlier_max1 = 1.5*iqr1 + q75\n",
    "outlier_min1 = q25 - 1.5*iqr1\n",
    "print('outlier max class 1: '+ str(outlier_max1))\n",
    "print('outlier min class 1: '+ str(outlier_min1))\n",
    "\n",
    "q75, q25 = np.percentile (df2['Fare'], [75, 25])\n",
    "iqr2 = q75 - q25\n",
    "outlier_max2 = 1.5*iqr2 + q75\n",
    "outlier_min2 = q25 - 1.5*iqr2\n",
    "print('outlier max class 2: '+ str(outlier_max2))\n",
    "print('outlier min class 2: '+ str(outlier_min2))\n",
    "\n",
    "q75, q25 = np.percentile (df3['Fare'], [75, 25])\n",
    "iqr3 = q75 - q25\n",
    "outlier_max3 = 1.5*iqr3 + q75\n",
    "outlier_min3 = q25 - 1.5*iqr3\n",
    "print('outlier max class 3: '+ str(outlier_max3))\n",
    "print('outlier min class 3: '+ str(outlier_min3))\n",
    "\n",
    "#All Fare = 0 entries are imputed with the mean of their respective ticket class\n",
    "for x in df1.index:\n",
    "    if df1.loc[x, \"Fare\"] == 0:\n",
    "        titanic.loc[x,\"Fare\"]=titanic_averageFare['Fare'][1]\n",
    "for x in df2.index:\n",
    "    if df2.loc[x, \"Fare\"] == 0:\n",
    "        titanic.loc[x,\"Fare\"]=titanic_averageFare['Fare'][2]\n",
    "for x in df3.index:\n",
    "    if df3.loc[x, \"Fare\"] == 0:\n",
    "        titanic.loc[x,\"Fare\"]=titanic_averageFare['Fare'][3]\n",
    "#Impute the missing embark location\n",
    "randInt = int(round(2*random.random()))\n",
    "if randInt == 0:\n",
    "    print('Q')\n",
    "    titanic['Embarked'].fillna('Q',inplace=True)\n",
    "if randInt == 1:\n",
    "    print('S')\n",
    "    titanic['Embarked'].fillna('S',inplace=True)\n",
    "if randInt == 2:\n",
    "    print('C')\n",
    "    titanic['Embarked'].fillna('C',inplace=True)\n",
    "print(titanic['Embarked'][60:65])"
   ]
  },
  {
   "cell_type": "code",
   "execution_count": 782,
   "id": "4a84fd7c",
   "metadata": {},
   "outputs": [
    {
     "name": "stdout",
     "output_type": "stream",
     "text": [
      "        PassengerId  Survived  Sex  Age  SibSp  Parch  Fare  Embarked\n",
      "Pclass                                                               \n",
      "1               216       216  216  216    216    216   216       216\n",
      "2               184       184  184  184    184    184   184       184\n",
      "3               491       491  491  491    491    491   491       491\n",
      "     PassengerId  Survived  Pclass     Sex   Age  SibSp  Parch     Fare  \\\n",
      "0              1         0       3    male  22.0      1      0   7.2500   \n",
      "1              2         1       1  female  38.0      1      0  71.2833   \n",
      "2              3         1       3  female  26.0      0      0   7.9250   \n",
      "3              4         1       1  female  35.0      1      0  53.1000   \n",
      "4              5         0       3    male  35.0      0      0   8.0500   \n",
      "..           ...       ...     ...     ...   ...    ...    ...      ...   \n",
      "886          887         0       2    male  27.0      0      0  13.0000   \n",
      "887          888         1       1  female  19.0      0      0  30.0000   \n",
      "888          889         0       3  female  29.7      1      2  23.4500   \n",
      "889          890         1       1    male  26.0      0      0  30.0000   \n",
      "890          891         0       3    male  32.0      0      0   7.7500   \n",
      "\n",
      "    Embarked  \n",
      "0          S  \n",
      "1          C  \n",
      "2          S  \n",
      "3          S  \n",
      "4          S  \n",
      "..       ...  \n",
      "886        S  \n",
      "887        S  \n",
      "888        S  \n",
      "889        C  \n",
      "890        Q  \n",
      "\n",
      "[864 rows x 9 columns]\n",
      "     PassengerId  Survived  Pclass     Sex   Age  SibSp  Parch     Fare  \\\n",
      "0              1         0       3    male  22.0      1      0   7.2500   \n",
      "1              2         1       1  female  38.0      1      0  71.2833   \n",
      "2              3         1       3  female  26.0      0      0   7.9250   \n",
      "3              4         1       1  female  35.0      1      0  53.1000   \n",
      "4              5         0       3    male  35.0      0      0   8.0500   \n",
      "..           ...       ...     ...     ...   ...    ...    ...      ...   \n",
      "886          887         0       2    male  27.0      0      0  13.0000   \n",
      "887          888         1       1  female  19.0      0      0  30.0000   \n",
      "888          889         0       3  female  29.7      1      2  23.4500   \n",
      "889          890         1       1    male  26.0      0      0  30.0000   \n",
      "890          891         0       3    male  32.0      0      0   7.7500   \n",
      "\n",
      "    Embarked  \n",
      "0          S  \n",
      "1          C  \n",
      "2          S  \n",
      "3          S  \n",
      "4          S  \n",
      "..       ...  \n",
      "886        S  \n",
      "887        S  \n",
      "888        S  \n",
      "889        C  \n",
      "890        Q  \n",
      "\n",
      "[812 rows x 9 columns]\n",
      "Before removing outliers: \n",
      "          PassengerId  Pclass        Age     SibSp     Parch       Fare  \\\n",
      "Survived                                                                  \n",
      "0          410.300000     1.0  40.896250  0.287500  0.300000  64.684007   \n",
      "1          491.772059     1.0  34.784706  0.492647  0.389706  95.608029   \n",
      "\n",
      "          Fare Per Dependant  \n",
      "Survived                      \n",
      "0                  48.566612  \n",
      "1                  74.944360  \n",
      "          PassengerId  Pclass        Age     SibSp     Parch       Fare  \\\n",
      "Survived                                                                  \n",
      "0          452.123711     2.0  33.267010  0.319588  0.144330  19.412328   \n",
      "1          439.080460     2.0  26.076207  0.494253  0.643678  22.055700   \n",
      "\n",
      "          Fare Per Dependant  \n",
      "Survived                      \n",
      "0                  17.541916  \n",
      "1                  14.596360  \n",
      "          PassengerId  Pclass        Age     SibSp     Parch       Fare  \\\n",
      "Survived                                                                  \n",
      "0          453.580645     3.0  27.417742  0.672043  0.384409  13.669364   \n",
      "1          394.058824     3.0  23.232941  0.436975  0.420168  13.694887   \n",
      "\n",
      "          Fare Per Dependant  \n",
      "Survived                      \n",
      "0                   9.720167  \n",
      "1                  10.861690  \n",
      "After removing outliers: \n",
      "          PassengerId  Pclass        Age     SibSp     Parch       Fare  \\\n",
      "Survived                                                                  \n",
      "0          415.864865     1.0  41.598649  0.256757  0.202703  50.545886   \n",
      "1          487.032787     1.0  35.276393  0.459016  0.336066  72.547918   \n",
      "\n",
      "          Fare Per Dependant  \n",
      "Survived                      \n",
      "0                  41.912131  \n",
      "1                  60.101225  \n",
      "          PassengerId  Pclass        Age     SibSp     Parch       Fare  \\\n",
      "Survived                                                                  \n",
      "0          456.021739     2.0  33.814130  0.271739  0.152174  16.472780   \n",
      "1          433.282353     2.0  25.842706  0.482353  0.611765  21.045246   \n",
      "\n",
      "          Fare Per Dependant  \n",
      "Survived                      \n",
      "0                  14.500716  \n",
      "1                  14.430000  \n",
      "          PassengerId  Pclass        Age     SibSp     Parch       Fare  \\\n",
      "Survived                                                                  \n",
      "0          455.628049     3.0  28.584756  0.262195  0.140244   9.953657   \n",
      "1          392.882883     3.0  23.147027  0.387387  0.369369  11.288740   \n",
      "\n",
      "          Fare Per Dependant  \n",
      "Survived                      \n",
      "0                   8.918738  \n",
      "1                   8.864016  \n"
     ]
    },
    {
     "data": {
      "image/png": "[encoded data removed]",
      "text/plain": [
       "<Figure size 432x288 with 1 Axes>"
      ]
     },
     "metadata": {
      "needs_background": "light"
     },
     "output_type": "display_data"
    }
   ],
   "source": [
    "#THIS IS A CELL THAT WAS DECIDED TO BE KEPT IN, SO TO SHOW OUR PROCESS IN DECIDING THAT Fare IS ULTIMATELY \n",
    "#DROPPED FROM OUR ANALYSIS\n",
    "\n",
    "#Count the entries by Pclass\n",
    "titanic_count = titanic.groupby(by = 'Pclass').count()\n",
    "print(titanic_count)\n",
    "#This was an earlier attempt to see how many outliers there are by dropping them.\n",
    "for x in df1.index:\n",
    "    if df1.loc[x, \"Fare\"] >= outlier_max1:\n",
    "        titanic = titanic.drop(x)\n",
    "    if df1.loc[x, \"Fare\"] <= outlier_min1:\n",
    "        titanic = titanic.drop(x)\n",
    "#Removed 20 entries (There are 216 entries, so removing 20/216 = 9.259% of the 1st ticket class population)\n",
    "\n",
    "for x in df2.index:\n",
    "    if df2.loc[x, \"Fare\"] >= outlier_max2:\n",
    "        titanic = titanic.drop(x)\n",
    "    if df2.loc[x, \"Fare\"] <= outlier_min2:\n",
    "        titanic = titanic.drop(x)\n",
    "print(titanic)\n",
    "\n",
    "#Removed 7 entries (There are 184 entries, so removing 7/184 = 3.8% of the 2nd ticket class population)\n",
    "\n",
    "for x in df3.index:\n",
    "    if df3.loc[x, \"Fare\"] >= outlier_max3:\n",
    "        titanic = titanic.drop(x)\n",
    "    if df3.loc[x, \"Fare\"] <= outlier_min3:\n",
    "        titanic = titanic.drop(x)\n",
    "print(titanic)\n",
    "\n",
    "#Removed 52 entries (There are 491 entries, so removing 52/491 = 10.59% of the 3rd ticket class population)\n",
    "\n",
    "#It was found that there is a large amount of outliers, especially the 1st and 3rd ticket classes. Looking back at the dataset, \n",
    "#it seemed like the fare was also tied to the Parch attribute, instead of just class. So, we graphed it and \n",
    "# it was true.\n",
    "sea.regplot(x = df1['Parch'], y = df1['Fare'])\n",
    "sea.regplot(x = df2['Parch'], y = df2['Fare'])\n",
    "sea.regplot(x = df3['Parch'], y = df3['Fare'])\n",
    "\n",
    "#We check how dropping the outliers affects the mean value of the attribute Parch and found that there was \n",
    "# a significant decrease in the mean of the attribute. \n",
    "print(\"Before removing outliers: \")\n",
    "df1.insert(8, \"Fare Per Dependant\", df1[\"Fare\"]/(df1[ \"Parch\"]+1))\n",
    "df2.insert(8, \"Fare Per Dependant\", df2[\"Fare\"]/(df2[ \"Parch\"]+1))\n",
    "df3.insert(8, \"Fare Per Dependant\", df3[\"Fare\"]/(df3[ \"Parch\"]+1))\n",
    "titanic_survived = df1.groupby(by = 'Survived').mean()\n",
    "print(titanic_survived)\n",
    "titanic_survived = df2.groupby(by = 'Survived').mean()\n",
    "print(titanic_survived)\n",
    "titanic_survived = df3.groupby(by = 'Survived').mean()\n",
    "print(titanic_survived)\n",
    "\n",
    "for x in df1.index:\n",
    "    if df1.loc[x, \"Fare\"] >= outlier_max1 or df1.loc[x, \"Fare\"] <= outlier_min1:\n",
    "        df1 = df1.drop(x)\n",
    "for x in df2.index:\n",
    "    if df2.loc[x, \"Fare\"] >= outlier_max2 or df2.loc[x, \"Fare\"] <= outlier_min2:\n",
    "        df2 = df2.drop(x)\n",
    "for x in df3.index:\n",
    "    if df3.loc[x, \"Fare\"] >= outlier_max3 or df3.loc[x, \"Fare\"] <= outlier_min3:\n",
    "        df3 = df3.drop(x)\n",
    "print(\"After removing outliers: \")\n",
    "titanic_survived = df1.groupby(by = 'Survived').mean()\n",
    "print(titanic_survived)\n",
    "titanic_survived = df2.groupby(by = 'Survived').mean()\n",
    "print(titanic_survived)\n",
    "titanic_survived = df3.groupby(by = 'Survived').mean()\n",
    "print(titanic_survived)\n",
    "\n",
    "#WITH THIS, THE DATA IS DEEMED TO BE CLEANED!"
   ]
  },
  {
   "cell_type": "code",
   "execution_count": 783,
   "id": "cfa13744",
   "metadata": {
    "scrolled": false
   },
   "outputs": [
    {
     "data": {
      "image/png": "[encoded data removed]",
      "text/plain": [
       "<Figure size 432x288 with 1 Axes>"
      ]
     },
     "metadata": {
      "needs_background": "light"
     },
     "output_type": "display_data"
    },
    {
     "data": {
      "image/png": "[encoded data removed]",
      "text/plain": [
       "<Figure size 432x288 with 1 Axes>"
      ]
     },
     "metadata": {
      "needs_background": "light"
     },
     "output_type": "display_data"
    },
    {
     "data": {
      "image/png": "[encoded data removed]",
      "text/plain": [
       "<Figure size 432x288 with 1 Axes>"
      ]
     },
     "metadata": {
      "needs_background": "light"
     },
     "output_type": "display_data"
    },
    {
     "data": {
      "image/png": "[encoded data removed]",
      "text/plain": [
       "<Figure size 432x288 with 1 Axes>"
      ]
     },
     "metadata": {
      "needs_background": "light"
     },
     "output_type": "display_data"
    },
    {
     "data": {
      "image/png": "[encoded data removed]",
      "text/plain": [
       "<Figure size 432x288 with 1 Axes>"
      ]
     },
     "metadata": {
      "needs_background": "light"
     },
     "output_type": "display_data"
    },
    {
     "data": {
      "image/png": "[encoded data removed]",
      "text/plain": [
       "<Figure size 432x288 with 1 Axes>"
      ]
     },
     "metadata": {
      "needs_background": "light"
     },
     "output_type": "display_data"
    },
    {
     "data": {
      "image/png": "[encoded data removed]",
      "text/plain": [
       "<Figure size 432x288 with 1 Axes>"
      ]
     },
     "metadata": {
      "needs_background": "light"
     },
     "output_type": "display_data"
    },
    {
     "data": {
      "image/png": "[encoded data removed]",
      "text/plain": [
       "<Figure size 432x288 with 1 Axes>"
      ]
     },
     "metadata": {
      "needs_background": "light"
     },
     "output_type": "display_data"
    },
    {
     "data": {
      "image/png": "[encoded data removed]",
      "text/plain": [
       "<Figure size 432x288 with 1 Axes>"
      ]
     },
     "metadata": {
      "needs_background": "light"
     },
     "output_type": "display_data"
    }
   ],
   "source": [
    "#The ticket class of a passenger seemed to be a good indicator of their socio-economic status as fare was\n",
    "# correlated with their ticket class. The ticket class 1 was the most expensive and the ticket class 3\n",
    "# 3 was the least expensive.\n",
    "titanic.boxplot(column = 'Fare', by = 'Pclass')\n",
    "sea.regplot(x = titanic['Pclass'], y = titanic['Fare'])\n",
    "\n",
    "\n",
    "#To see how age is affected by Pclass, a box and whisker plot and a regression line from a scatter plot\n",
    "# with the same attributes (Pclass vs. Age) is drawn. They both show a decrease in the age the lesser \n",
    "# socio-economic status. This could be a result of younger people having spent less time working and thus poorer.\n",
    "titanic.boxplot(column = 'Age', by = 'Pclass')\n",
    "sea.regplot(x = titanic['Pclass'], y = titanic['Age'])\n",
    "\n",
    "#To see how gender is affected by Pclass, they were grouped together by Pclass and Sex and then plotted by count \n",
    "# as a bar graph. In the bar graph, the females were always less than the males, regardless of the Pclass. However,\n",
    "# it seems like there is a significant number of males compared to females in the 3rd Pclass, almost twice the number\n",
    "# of males compared to number females.\n",
    "\n",
    "titanic_gender=titanic.groupby(['Pclass','Sex']).size()\n",
    "titanic_gender=titanic_gender.unstack()\n",
    "titanic_gender.plot(kind='bar')\n",
    "\n",
    "#To see how the number of parents and children are affected by Pclass, a bar graph similar in implementation to \n",
    "# the Sex vs Pclass is done.\n",
    "titanic_parch=titanic.groupby(['Pclass', 'Parch']).size()\n",
    "titanic_parch=titanic_parch.unstack()\n",
    "ax = titanic_parch.plot(kind='bar')\n",
    "\n",
    "#The number of Parch being 0 is very prominent compared to every other number for the attribute Parch. The number \n",
    "# of Parch that were greater than 0 was so small compared that the same graph was made, but the y limit was set to 60\n",
    "# ,so the other Parch attribute counts could be looked at. Overall, it seemed like a Power Law Distribution.\n",
    "# Regardless of Pclass, most have Parch = 0, 1, or 2. Then, there are the very few that have Parch > 2\n",
    "titanic_parch=titanic.groupby(['Pclass', 'Parch']).size()\n",
    "titanic_parch=titanic_parch.unstack()\n",
    "ax = titanic_parch.plot(kind='bar')\n",
    "ax = ax.set_ylim(0,60)\n",
    "\n",
    "#Where the passenger embarked vs. their Pclass was also compared via bar graph. It seems to indicate that these places\n",
    "# have different socioeconomic statuses. Queenstown seem to be the most prominent as barely any Pclass 1 or Pclass 2 \n",
    "# was purchased in that port, almost all tickets were class 3, which makes Queenstown seem very poor. Cherbourg has \n",
    "# less people buying the class 3 ticket than class 1 tickets, showing that the population of Cherbourg seems to be \n",
    "# very wealthy. Southampton seems to have a Power Law Distribution, most people bought the cheapest ticket (Pclass \n",
    "# = 3)and the least people buying the most expensive ticket (Pclass = 1). This seems to indicate that Southampton \n",
    "# residents are average in wealth.\n",
    "titanic_parch=titanic.groupby(['Pclass', 'Embarked']).size()\n",
    "titanic_parch=titanic_parch.unstack()\n",
    "ax = titanic_parch.plot(kind='bar')\n",
    "\n",
    "#Finally, the class of the ticket is compared to the Sibsp of the passenger via another bar graph. \n",
    "# Like the Parent/Child graph, 0 siblings/Spouses is far greater than all the others\n",
    "titanic_parch=titanic.groupby(['Pclass', 'SibSp']).size()\n",
    "titanic_parch=titanic_parch.unstack()\n",
    "ax = titanic_parch.plot(kind='bar')\n",
    "\n",
    "#In order to show the other groups more effectively, we set the limit of the graph to 100\n",
    "# 1 siblings/Spouses is still far greater than the rest\n",
    "titanic_parch=titanic.groupby(['Pclass', 'SibSp']).size()\n",
    "titanic_parch=titanic_parch.unstack()\n",
    "ax = titanic_parch.plot(kind='bar')\n",
    "ax = ax.set_ylim(0,100)\n",
    "\n",
    "#To show the other number of siblings and spouses effectively, we now set the limit to 20 \n",
    "# A power law distribution would be most effective in representing this data\n",
    "# While 0 siblings/Spouses is most common in all 3 classes, in 3rd class the number is far greater than in the other classes\n",
    "# This suggests that a larger portion of those in 3rd class are single and have no siblings\n",
    "titanic_parch=titanic.groupby(['Pclass', 'SibSp']).size()\n",
    "titanic_parch=titanic_parch.unstack()\n",
    "ax = titanic_parch.plot(kind='bar')\n",
    "ax = ax.set_ylim(0,20)"
   ]
  },
  {
   "cell_type": "code",
   "execution_count": 784,
   "id": "2fdd7161",
   "metadata": {
    "scrolled": false
   },
   "outputs": [
    {
     "data": {
      "image/png": "[encoded data removed]",
      "text/plain": [
       "<Figure size 432x288 with 1 Axes>"
      ]
     },
     "metadata": {
      "needs_background": "light"
     },
     "output_type": "display_data"
    },
    {
     "data": {
      "image/png": "[encoded data removed]",
      "text/plain": [
       "<Figure size 432x288 with 1 Axes>"
      ]
     },
     "metadata": {
      "needs_background": "light"
     },
     "output_type": "display_data"
    },
    {
     "data": {
      "image/png": "[encoded data removed]",
      "text/plain": [
       "<Figure size 432x288 with 1 Axes>"
      ]
     },
     "metadata": {
      "needs_background": "light"
     },
     "output_type": "display_data"
    },
    {
     "data": {
      "image/png": "[encoded data removed]",
      "text/plain": [
       "<Figure size 432x288 with 1 Axes>"
      ]
     },
     "metadata": {
      "needs_background": "light"
     },
     "output_type": "display_data"
    },
    {
     "data": {
      "image/png": "[encoded data removed]",
      "text/plain": [
       "<Figure size 432x288 with 1 Axes>"
      ]
     },
     "metadata": {
      "needs_background": "light"
     },
     "output_type": "display_data"
    },
    {
     "data": {
      "image/png": "[encoded data removed]",
      "text/plain": [
       "<Figure size 432x288 with 1 Axes>"
      ]
     },
     "metadata": {
      "needs_background": "light"
     },
     "output_type": "display_data"
    },
    {
     "data": {
      "image/png": "[encoded data removed]",
      "text/plain": [
       "<Figure size 432x288 with 1 Axes>"
      ]
     },
     "metadata": {
      "needs_background": "light"
     },
     "output_type": "display_data"
    },
    {
     "data": {
      "image/png": "[encoded data removed]",
      "text/plain": [
       "<Figure size 432x288 with 1 Axes>"
      ]
     },
     "metadata": {
      "needs_background": "light"
     },
     "output_type": "display_data"
    },
    {
     "data": {
      "image/png": "[encoded data removed]",
      "text/plain": [
       "<Figure size 432x288 with 1 Axes>"
      ]
     },
     "metadata": {
      "needs_background": "light"
     },
     "output_type": "display_data"
    },
    {
     "data": {
      "image/png": "[encoded data removed]",
      "text/plain": [
       "<Figure size 432x288 with 1 Axes>"
      ]
     },
     "metadata": {
      "needs_background": "light"
     },
     "output_type": "display_data"
    }
   ],
   "source": [
    "#The fare of a passenger seemed to be a good indicator of their survial, but that may be because fare was\n",
    "# correlated with their ticket class and number of Parent/Childs.\n",
    "titanic.boxplot(column = 'Fare', by = 'Survived')\n",
    "sea.regplot(x = titanic['Survived']+1, y = titanic['Fare'])\n",
    "\n",
    "#To see how age affected surival, a box and whisker plot from a scatter plot\n",
    "# with the same attributes (Survived vs. Age) is drawn. They both show an average age of 30 for survived and not suvived \n",
    "# This suggests that the average age on the ship was 30 and the survival was distributed approximately normally. \n",
    "# However, there were less outliers for the box and whisker plot that survived\n",
    "# This suggests that thre was a higher variance in the ages of those that survived\n",
    "titanic.boxplot(column = 'Age', by = 'Survived')\n",
    "sea.regplot(x = titanic['Survived']+1, y = titanic['Age'])\n",
    "\n",
    "#To see how gender affected survival, they were grouped together by Survived and Sex and then plotted by count \n",
    "# as a bar graph. In the bar graph, the females were less than the males for not survived, but greater than males for survived.\n",
    "# This suggests that females had a greater survival rate\n",
    "titanic_gender=titanic.groupby(['Survived','Sex']).size()\n",
    "titanic_gender=titanic_gender.unstack()\n",
    "titanic_gender.plot(kind='bar')\n",
    "\n",
    "#To see how the number of parents and children affected suvival, a bar graph similar in implementation to \n",
    "# the Sex vs Survived is done.\n",
    "titanic_parch=titanic.groupby(['Survived', 'Parch']).size()\n",
    "titanic_parch=titanic_parch.unstack()\n",
    "ax = titanic_parch.plot(kind='bar')\n",
    "\n",
    "#The number of Parch being 0 is very prominent compared to every other number for the attribute Parch. \n",
    "# The number of Parch that were greater than 0 was so small compared that the same graph was made,\n",
    "# but the y limit was set to 70 so the other Parch attribute counts could be looked at. \n",
    "# Overall, it seemes like a Power Law Distribution.\n",
    "# Regardless of Survival, most have Parch = 0, 1, or 2. Then, there are the very few that have Parch > 2\n",
    "# Those that did not have a child had a much greater chance of not surviving.\n",
    "# Those that only had one child had a slightly lower chance of surviving.\n",
    "# Those with 2 children had approximately equal chance of surviving or not surviving\n",
    "titanic_parch=titanic.groupby(['Survived', 'Parch']).size()\n",
    "titanic_parch=titanic_parch.unstack()\n",
    "ax = titanic_parch.plot(kind='bar')\n",
    "ax = ax.set_ylim(0,70)\n",
    "\n",
    "#The socioeconomic class represented via ticket clas vs survival is compared using a bar graph\n",
    "# For 3rd class tickets, the number that did not survive was much greater than those that did survive\n",
    "# This suggests that being 3rd class means you are less likely to survive\n",
    "titanic_pclass=titanic.groupby(['Survived', 'Pclass']).size()\n",
    "titanic_pclass=titanic_pclass.unstack()\n",
    "ax = titanic_pclass.plot(kind='bar')\n",
    "\n",
    "#Where the passenger embarked vs. their survival was also compared via bar graph. \n",
    "# For both Southhampton and Queenstown, the portion that survived was less than those that did not survive\n",
    "# However, for Cherbourg, the portion that survived was slightly greater than those that did not survive\n",
    "# This suggests that embarking from Cherbourg indicated a greater chance for survival,\n",
    "# but from our previous analysis of the socioeconomic status of Cherbourg, Cherbourg is likely also a wealthy location.\n",
    "# Thus the reason that embarking from Cherbourg indicated a greater chance for survival is due to socioeconomic status.\n",
    "titanic_parch=titanic.groupby(['Survived', 'Embarked']).size()\n",
    "titanic_parch=titanic_parch.unstack()\n",
    "ax = titanic_parch.plot(kind='bar')\n",
    "\n",
    "#Finally, survival is compared to the Sibsp of the passenger via another bar graph.\n",
    "# Like the Parent/Child graph, 0 siblings/Spouses is far greater than all the others\n",
    "titanic_parch=titanic.groupby(['Survived', 'SibSp']).size()\n",
    "titanic_parch=titanic_parch.unstack()\n",
    "ax = titanic_parch.plot(kind='bar')\n",
    "\n",
    "#In order to show the other groups more effectively, we set the limit of the graph to 120\n",
    "# 1 siblings/Spouses is still far greater than the rest\n",
    "titanic_parch=titanic.groupby(['Survived', 'SibSp']).size()\n",
    "titanic_parch=titanic_parch.unstack()\n",
    "ax = titanic_parch.plot(kind='bar')\n",
    "ax = ax.set_ylim(0,120)\n",
    "\n",
    "#In order to show the other groups more effectively, we set the limit of the graph to 20\n",
    "# 1 siblings/Spouses is still far greater than the rest\n",
    "# A power law distribution would be best to represent this data\n",
    "# While 0 siblings/Spouses is much larger in both survived and not survived, \n",
    "# there are much more with 0 siblings/Spouses that did not survive.\n",
    "# This suggests that those with no family had a lower chance of survivng\n",
    "titanic_parch=titanic.groupby(['Survived', 'SibSp']).size()\n",
    "titanic_parch=titanic_parch.unstack()\n",
    "ax = titanic_parch.plot(kind='bar')\n",
    "ax = ax.set_ylim(0,20)"
   ]
  },
  {
   "cell_type": "code",
   "execution_count": 785,
   "id": "48016313",
   "metadata": {},
   "outputs": [
    {
     "name": "stdout",
     "output_type": "stream",
     "text": [
      "Correlation between Fare and Survived: 0.31111854624240026\n",
      "Correlation between Age and Survived: -0.11489319048111722\n",
      "Correlation between Sex and Survived: 0.5698037272424478\n",
      "Correlation between Parents/Children and Survived: 0.2251937294869241\n",
      "Correlation between Ticket class and Survived: -0.32188912042147005\n",
      "Correlation between Embarked location and Survived: -0.1509383470005134\n",
      "Correlation between Siblings/Spouses and Survived: 0.14509042665484043\n"
     ]
    }
   ],
   "source": [
    "#For non-numerical features, assign a number to each category before comparing them\n",
    "print('Correlation between Fare and Survived: '+str(titanic[\"Survived\"].corr(titanic[\"Fare\"])))\n",
    "print('Correlation between Age and Survived: '+str(titanic[\"Survived\"].corr(titanic[\"Age\"])))\n",
    "titanic_Sex = titanic['Sex'].map({'male':0,'female':1})\n",
    "print('Correlation between Sex and Survived: '+str(titanic[\"Survived\"].corr(titanic_Sex)))\n",
    "print('Correlation between Parents/Children and Survived: '+str(titanic[\"Survived\"].corr(titanic[\"Parch\"])))\n",
    "print('Correlation between Ticket class and Survived: '+str(titanic[\"Survived\"].corr(titanic[\"Pclass\"])))\n",
    "titanic_Embark = titanic['Embarked'].map({'C':0,'Q':1,'S':2})\n",
    "print('Correlation between Embarked location and Survived: '+str(titanic[\"Survived\"].corr(titanic_Embark)))\n",
    "print('Correlation between Siblings/Spouses and Survived: '+str(titanic[\"Survived\"].corr(titanic[\"SibSp\"])))\n",
    "#Sex, Ticket class, and Fare seem to be the most important based on the correlation.\n",
    "# For these features, the correlation is farthest from 0"
   ]
  },
  {
   "cell_type": "code",
   "execution_count": 786,
   "id": "3f6829f9",
   "metadata": {},
   "outputs": [
    {
     "data": {
      "text/html": [
       "<div>\n",
       "<style scoped>\n",
       "    .dataframe tbody tr th:only-of-type {\n",
       "        vertical-align: middle;\n",
       "    }\n",
       "\n",
       "    .dataframe tbody tr th {\n",
       "        vertical-align: top;\n",
       "    }\n",
       "\n",
       "    .dataframe thead th {\n",
       "        text-align: right;\n",
       "    }\n",
       "</style>\n",
       "<table border=\"1\" class=\"dataframe\">\n",
       "  <thead>\n",
       "    <tr style=\"text-align: right;\">\n",
       "      <th></th>\n",
       "      <th>Survived</th>\n",
       "      <th>Pclass</th>\n",
       "      <th>Fare</th>\n",
       "      <th>Sex</th>\n",
       "    </tr>\n",
       "  </thead>\n",
       "  <tbody>\n",
       "    <tr>\n",
       "      <th>0</th>\n",
       "      <td>0</td>\n",
       "      <td>3</td>\n",
       "      <td>7.2500</td>\n",
       "      <td>0</td>\n",
       "    </tr>\n",
       "    <tr>\n",
       "      <th>1</th>\n",
       "      <td>1</td>\n",
       "      <td>1</td>\n",
       "      <td>71.2833</td>\n",
       "      <td>1</td>\n",
       "    </tr>\n",
       "    <tr>\n",
       "      <th>2</th>\n",
       "      <td>1</td>\n",
       "      <td>3</td>\n",
       "      <td>7.9250</td>\n",
       "      <td>1</td>\n",
       "    </tr>\n",
       "    <tr>\n",
       "      <th>3</th>\n",
       "      <td>1</td>\n",
       "      <td>1</td>\n",
       "      <td>53.1000</td>\n",
       "      <td>1</td>\n",
       "    </tr>\n",
       "    <tr>\n",
       "      <th>4</th>\n",
       "      <td>0</td>\n",
       "      <td>3</td>\n",
       "      <td>8.0500</td>\n",
       "      <td>0</td>\n",
       "    </tr>\n",
       "    <tr>\n",
       "      <th>...</th>\n",
       "      <td>...</td>\n",
       "      <td>...</td>\n",
       "      <td>...</td>\n",
       "      <td>...</td>\n",
       "    </tr>\n",
       "    <tr>\n",
       "      <th>886</th>\n",
       "      <td>0</td>\n",
       "      <td>2</td>\n",
       "      <td>13.0000</td>\n",
       "      <td>0</td>\n",
       "    </tr>\n",
       "    <tr>\n",
       "      <th>887</th>\n",
       "      <td>1</td>\n",
       "      <td>1</td>\n",
       "      <td>30.0000</td>\n",
       "      <td>1</td>\n",
       "    </tr>\n",
       "    <tr>\n",
       "      <th>888</th>\n",
       "      <td>0</td>\n",
       "      <td>3</td>\n",
       "      <td>23.4500</td>\n",
       "      <td>1</td>\n",
       "    </tr>\n",
       "    <tr>\n",
       "      <th>889</th>\n",
       "      <td>1</td>\n",
       "      <td>1</td>\n",
       "      <td>30.0000</td>\n",
       "      <td>0</td>\n",
       "    </tr>\n",
       "    <tr>\n",
       "      <th>890</th>\n",
       "      <td>0</td>\n",
       "      <td>3</td>\n",
       "      <td>7.7500</td>\n",
       "      <td>0</td>\n",
       "    </tr>\n",
       "  </tbody>\n",
       "</table>\n",
       "<p>812 rows × 4 columns</p>\n",
       "</div>"
      ],
      "text/plain": [
       "     Survived  Pclass     Fare  Sex\n",
       "0           0       3   7.2500    0\n",
       "1           1       1  71.2833    1\n",
       "2           1       3   7.9250    1\n",
       "3           1       1  53.1000    1\n",
       "4           0       3   8.0500    0\n",
       "..        ...     ...      ...  ...\n",
       "886         0       2  13.0000    0\n",
       "887         1       1  30.0000    1\n",
       "888         0       3  23.4500    1\n",
       "889         1       1  30.0000    0\n",
       "890         0       3   7.7500    0\n",
       "\n",
       "[812 rows x 4 columns]"
      ]
     },
     "execution_count": 786,
     "metadata": {},
     "output_type": "execute_result"
    }
   ],
   "source": [
    "titanic_data=titanic.drop(columns = ['Sex', 'Embarked','Age','Parch','SibSp','PassengerId'], axis=1)\n",
    "titanic_data.insert(3,'Sex',titanic_Sex)\n",
    "titanic_training = titanic_data[0:int(round(titanic['Sex'].size*.75,0))]\n",
    "titanic_testing = titanic_data[int((round(titanic['Sex'].size*.75,0))+1):]\n",
    "titanic_data"
   ]
  },
  {
   "cell_type": "code",
   "execution_count": 787,
   "id": "8db90c61",
   "metadata": {},
   "outputs": [
    {
     "name": "stdout",
     "output_type": "stream",
     "text": [
      "Shape of training data : (609, 4)\n",
      "Shape of testing data : (202, 4)\n"
     ]
    }
   ],
   "source": [
    "print('Shape of training data :',titanic_training.shape) \n",
    "print('Shape of testing data :',titanic_testing.shape) "
   ]
  },
  {
   "cell_type": "code",
   "execution_count": 788,
   "id": "73531f16",
   "metadata": {},
   "outputs": [],
   "source": [
    "train_x = titanic_training.drop(columns=['Survived'],axis=1)\n",
    "train_y = titanic_training['Survived']\n",
    "test_x = titanic_testing.drop(columns=['Survived'],axis=1)\n",
    "test_y = titanic_testing['Survived']"
   ]
  },
  {
   "cell_type": "code",
   "execution_count": 789,
   "id": "69e0ef18",
   "metadata": {},
   "outputs": [
    {
     "data": {
      "text/plain": [
       "KNeighborsClassifier()"
      ]
     },
     "execution_count": 789,
     "metadata": {},
     "output_type": "execute_result"
    }
   ],
   "source": [
    "model = skln.KNeighborsClassifier()\n",
    "model.fit(train_x,train_y)"
   ]
  },
  {
   "cell_type": "code",
   "execution_count": 790,
   "id": "356cb131",
   "metadata": {},
   "outputs": [
    {
     "name": "stdout",
     "output_type": "stream",
     "text": [
      "\n",
      "The number of neighbors used to predict the target :  17\n"
     ]
    }
   ],
   "source": [
    "model.n_neighbors = 17\n",
    "print('\\nThe number of neighbors used to predict the target : ', model.n_neighbors)"
   ]
  },
  {
   "cell_type": "code",
   "execution_count": 791,
   "id": "f9e6bb46",
   "metadata": {},
   "outputs": [
    {
     "name": "stdout",
     "output_type": "stream",
     "text": [
      "\n",
      "Target on train data:  [0 1 1 1 0 0 1 0 1 1 1 1 0 1 1 0 1 1 0 0 1 1 0 0 1 0 0 1 1 0 1 1 0 0 1 1 0\n",
      " 0 0 1 1 0 0 1 0 1 0 1 1 1 1 0 0 1 0 1 1 0 0 0 0 1 0 0 0 0 0 0 0 1 0 0 1 0\n",
      " 0 1 0 0 0 0 1 0 0 0 0 1 0 0 1 0 1 0 0 0 1 0 0 0 1 0 0 0 0 0 0 0 0 1 1 1 0\n",
      " 0 0 0 0 0 0 0 1 0 0 1 1 0 1 0 1 1 0 0 1 0 0 0 0 1 0 0 0 1 1 0 0 0 1 0 0 0\n",
      " 1 0 0 1 0 1 0 0 0 0 0 0 1 0 1 1 1 0 0 1 0 1 0 0 1 0 0 1 1 0 0 0 0 1 0 1 1\n",
      " 1 0 0 0 0 0 1 1 0 1 0 0 0 0 0 1 0 0 0 0 1 1 0 0 0 1 0 1 0 0 0 1 0 0 0 1 1\n",
      " 0 1 0 0 1 1 0 0 0 1 1 1 0 1 1 1 0 0 1 1 1 0 1 1 1 1 1 0 0 0 0 0 0 0 0 0 0\n",
      " 0 1 1 1 0 1 0 0 0 1 1 1 0 0 1 0 1 1 1 0 1 1 1 0 0 1 1 0 1 1 0 0 1 0 1 0 1\n",
      " 0 1 0 0 1 1 1 0 1 1 0 1 0 0 0 0 1 1 1 0 0 0 0 0 0 0 0 1 1 1 1 0 0 0 0 0 1\n",
      " 1 1 1 1 0 0 1 0 1 1 0 0 1 0 1 0 1 0 1 1 0 0 1 1 0 1 0 0 1 0 0 0 0 1 0 0 1\n",
      " 0 1 0 0 1 0 0 1 1 1 0 0 0 0 0 0 0 0 1 1 0 0 1 1 1 0 1 1 1 0 1 0 0 1 0 1 1\n",
      " 1 1 1 0 0 0 1 0 0 1 1 0 0 1 0 1 0 0 0 0 1 0 1 0 0 1 1 0 1 0 0 0 1 0 0 0 1\n",
      " 1 1 1 0 0 0 0 1 1 0 0 1 0 1 0 0 1 1 0 1 1 1 1 0 0 0 1 1 0 0 0 0 1 0 1 0 0\n",
      " 1 0 0 0 0 0 1 0 0 0 1 1 1 1 0 1 1 0 1 0 1 0 0 1 1 0 0 0 1 1 1 1 0 0 0 0 0\n",
      " 1 0 0 0 0 0 0 1 1 1 0 0 1 1 0 0 1 1 0 1 0 1 0 1 0 0 0 1 0 1 0 0 1 0 0 1 1\n",
      " 0 1 0 1 0 0 1 1 1 0 1 0 0 0 1 1 0 0 1 0 0 0 0 0 1 0 0 1 0 1 1 1 0 0 0 0 1\n",
      " 1 1 0 1 0 1 0 0 0 1 1 0 1 0 1 1 0]\n"
     ]
    }
   ],
   "source": [
    "predict_train=model.predict(train_x)\n",
    "print('\\nTarget on train data: ', predict_train)"
   ]
  },
  {
   "cell_type": "code",
   "execution_count": 792,
   "id": "432bdccb",
   "metadata": {},
   "outputs": [
    {
     "name": "stdout",
     "output_type": "stream",
     "text": [
      "Target on test data [0 0 0 0 0 1 1 1 0 0 0 0 0 0 1 1 0 1 1 0 0 1 0 0 1 0 0 1 1 0 1 0 0 0 0 1 1\n",
      " 1 0 1 1 1 0 0 0 0 0 0 1 0 0 0 1 0 0 1 0 1 1 0 0 0 0 0 0 1 1 0 0 1 0 1 1 0\n",
      " 0 0 0 0 0 0 0 0 1 0 0 0 1 0 1 1 1 0 0 0 0 0 0 0 0 0 1 0 1 1 1 0 0 0 1 0 1\n",
      " 0 0 1 0 0 1 1 0 0 0 1 1 0 0 0 1 1 0 1 0 0 0 0 1 1 1 0 1 0 1 1 0 1 0 1 0 1\n",
      " 0 0 0 1 0 0 1 0 0 1 0 0 0 0 1 1 0 0 1 1 0 1 1 1 0 0 0 1 0 1 1 1 0 0 0 1 0\n",
      " 0 1 1 0 0 0 1 1 0 1 0 0 0 1 0 1 0]\n",
      "Actual on test data [0, 1, 0, 0, 0, 1, 1, 0, 0, 1, 0, 0, 0, 1, 0, 1, 0, 0, 0, 0, 0, 1, 1, 0, 0, 0, 0, 1, 0, 0, 1, 0, 0, 0, 0, 1, 1, 1, 1, 1, 0, 1, 0, 0, 0, 1, 0, 0, 1, 0, 0, 0, 1, 0, 1, 1, 0, 0, 0, 0, 0, 0, 0, 0, 0, 1, 0, 0, 1, 0, 0, 1, 0, 0, 1, 1, 0, 0, 1, 0, 0, 0, 1, 0, 0, 1, 1, 0, 1, 0, 0, 0, 0, 0, 0, 0, 0, 1, 0, 0, 1, 0, 1, 1, 0, 0, 0, 0, 1, 1, 0, 0, 0, 0, 0, 0, 1, 1, 0, 0, 0, 1, 1, 1, 1, 0, 0, 0, 0, 1, 0, 0, 0, 0, 0, 0, 0, 0, 1, 1, 0, 1, 0, 1, 1, 1, 1, 1, 0, 0, 0, 1, 0, 0, 1, 0, 0, 1, 0, 0, 0, 0, 0, 1, 0, 0, 1, 0, 1, 1, 1, 1, 0, 0, 0, 1, 0, 1, 1, 0, 0, 1, 0, 1, 0, 0, 1, 1, 0, 0, 0, 1, 1, 0, 0, 0, 0, 0, 1, 0, 1, 0]\n"
     ]
    }
   ],
   "source": [
    "predict_test = model.predict(test_x)\n",
    "print('Target on test data',predict_test)\n",
    "print('Actual on test data',test_y.tolist())"
   ]
  },
  {
   "cell_type": "code",
   "execution_count": 793,
   "id": "79747da7",
   "metadata": {},
   "outputs": [
    {
     "name": "stdout",
     "output_type": "stream",
     "text": [
      "Accuracy on test dataset 0.7623762376237624\n",
      "Precision_test :  (0.6538461538461539, 0.7083333333333334, 0.68, None)\n"
     ]
    }
   ],
   "source": [
    "accuracy_test = sklm.accuracy_score(test_y,predict_test)\n",
    "print('Accuracy on test dataset',accuracy_test)\n",
    "precision_test = sklm.precision_recall_fscore_support(test_y, predict_test, average = 'binary')\n",
    "print ('Precision_test : ', precision_test)\n",
    "#The precision_recall_fscore_support method allows to show the precision, recall, f score, and number of \n",
    "# instances of each class predicted. In our case, we decide to average out these scores and the result are:\n",
    "#Precision = 0.65385\n",
    "#Recall = 0.70833\n",
    "#Fscore = 0.68\n",
    "#The precision of the K- Nearest Neighbors is 65.385%. If (precision)^(-1), we will find out the precentage of \n",
    "#false positives compared to true positives. In this case, (.65385)^-1 = 1.529 = (true positive/true positive = 1) + \n",
    "# (false positive/true positive), which shows the ratio of false to true positive as .529 : 1 or 1: 1.889, which shows \n",
    "# that the precision score is poor as it means there is a false positive for less than every 2 true positives, a pretty \n",
    "# high ratio. \n",
    "# The recall of the K - Nearesr Neighbors is 70.833%. If we invert the formula like for precision, we find out that \n",
    "# (true positive + false negatives / true positive) = 1.41. The ratio comes out to be 1: 2.43 for false negatives to\n",
    "# true positives, a fair recall score as less than 1/3 of all the predicted positives are wrong. \n",
    "# The F score is similar to the accuracy test, but it considered even better as it takes into account recall and \n",
    "# precision. The F score for this algorithm is 8 This means that the algorithm is good as it is better than a 50% \n",
    "# coin flip, but not very good as it is much less than 80% accurate."
   ]
  },
  {
   "cell_type": "code",
   "execution_count": 794,
   "id": "f7cc6521",
   "metadata": {},
   "outputs": [],
   "source": [
    "#logistic regression\n",
    "train_x = titanic_training.drop(columns=['Survived'],axis=1)\n",
    "train_y = titanic_training['Survived']\n",
    "test_x = titanic_testing.drop(columns=['Survived'],axis=1)\n",
    "test_y = titanic_testing['Survived']"
   ]
  },
  {
   "cell_type": "code",
   "execution_count": 804,
   "id": "eb3c530f",
   "metadata": {},
   "outputs": [
    {
     "name": "stdout",
     "output_type": "stream",
     "text": [
      "Coefficient of model : [[-8.30826472e-01  2.11272323e-03  2.63570295e+00]]\n",
      "Intercept of model [0.38866679]\n"
     ]
    }
   ],
   "source": [
    "model = LogisticRegression()\n",
    "model.fit(train_x,train_y)\n",
    "print('Coefficient of model :', model.coef_)\n",
    "print('Intercept of model',model.intercept_)\n",
    "predict_test = model.predict(test_x)"
   ]
  },
  {
   "cell_type": "code",
   "execution_count": 798,
   "id": "5f0f10e9",
   "metadata": {},
   "outputs": [
    {
     "name": "stdout",
     "output_type": "stream",
     "text": [
      "accuracy_score on test dataset :  0.8118811881188119\n",
      "Precision_test :  (0.7931034482758621, 0.6388888888888888, 0.7076923076923076, None)\n"
     ]
    }
   ],
   "source": [
    "accuracy_test = sklm.accuracy_score(test_y,predict_test)\n",
    "print('accuracy_score on test dataset : ', accuracy_test)\n",
    "precision_test = sklm.precision_recall_fscore_support(test_y, predict_test, average = 'binary')\n",
    "print ('Precision_test : ', precision_test)\n",
    "#The precision_recall_fscore_support method allows to show the precision, recall, f score, and number of \n",
    "# instances of each class predicted. In our case, we decide to average out these scores and the result are:\n",
    "#Precision = 0.79310\n",
    "#Recall = 0.63888\n",
    "#Fscore = 0.70769\n",
    "#The precision of the Logistic Regression is 79.310%. If (precision)^(-1), we will find out the precentage of \n",
    "#false positives compared to true positives. In this case, (.79310)^-1 = 1.261 = (true positive/true positive = 1) + \n",
    "# (false positive/true positive), which shows the ratio of false to true positive as .261 : 1 or 1: 3.8, which shows \n",
    "# that the precision score is poor as it means there is a false positive for every 3.8 true positives, a low\n",
    "# ratio. \n",
    "# The recall of the Logistic Regression is 63.888%. If we invert the formula like for precision, we find out that \n",
    "# (true positive + false negatives / true positive) = 1.56. The ratio comes out to be 1: 1.769 for false negatives to\n",
    "# true positives, a very low score as more than 1/3 of all the predicted positives are wrong. \n",
    "# The F score is similar to the accuracy test, but it considered even better. The F score for this algorithm is \n",
    "# 70.769%. This means that the algorithm is good as it is better than a 50% coin flip, but not very good as it is\n",
    "# much less than 80% accurate."
   ]
  },
  {
   "cell_type": "code",
   "execution_count": 801,
   "id": "bd9d504a",
   "metadata": {},
   "outputs": [
    {
     "name": "stdout",
     "output_type": "stream",
     "text": [
      "accuracy_score on test dataset :  0.8217821782178217\n",
      "Precision_test :  (0.78125, 0.6944444444444444, 0.7352941176470588, None)\n"
     ]
    }
   ],
   "source": [
    "#The Machine Learning Algorithm used here is the Decision Tree Classifier Algorithm.\n",
    "#For this algorithm, a feature is selected to be the root and then the branches, which represents a value or range \n",
    "# of values of that root feature, are formed from the root, seperating the data into each branch, where the data is\n",
    "# has that root feature be that value or range of values. \n",
    "#Then, nodes are formed from the split data and for each node, the process is done again and again with another \n",
    "# feature not selected yet from the branch until all of the split data in a particular node has all the same class or\n",
    "# no more attributes can be selected from a particular node.\n",
    "#If the split has all the same process, the process is terminated for that node and it becomes a leaf with its class \n",
    "# being the class that the data has.\n",
    "#If there are no more attributes to select from, all that split data will be used to see what class appears more \n",
    "# often. The node is terminated and becomes a leaf with the class that appears more often in the data. \n",
    "#Each record in the testing set will be checked against the tree with the record starting from the root of the tree\n",
    "# and going to branches that fit the attribute it has and does this until it reaches a leaf with a class, that will\n",
    "# be the class the decision tree classifier predicts it has. \n",
    "\n",
    "model = DecisionTreeClassifier()\n",
    "\n",
    "train_x = titanic_training.drop(columns=['Survived'],axis=1)\n",
    "train_y = titanic_training['Survived']\n",
    "test_x = titanic_testing.drop(columns=['Survived'],axis=1)\n",
    "test_y = titanic_testing['Survived']\n",
    "\n",
    "model.fit(train_x,train_y)\n",
    "predict_test = model.predict(test_x)\n",
    "\n",
    "accuracy_test = sklm.accuracy_score(test_y,predict_test)\n",
    "print('accuracy_score on test dataset : ', accuracy_test)\n",
    "precision_test = sklm.precision_recall_fscore_support(test_y, predict_test, average = 'binary')\n",
    "print ('Precision_test : ', precision_test)\n",
    "#The precision_recall_fscore_support method allows to show the precision, recall, f score, and number of \n",
    "# instances of each class predicted. In our case, we decide to average out these scores and the result are:\n",
    "#Precision = 0.78125\n",
    "#Recall = 0.69444\n",
    "#Fscore = 0.73529\n",
    "#The precision of the Decision Tree Classifier is 78.125%. If (precision)^(-1), we will find out the precentage of \n",
    "#false positives compared to true positives. In this case, (.78125)^-1 = 1.28 = (true positive/true positive = 1) + \n",
    "# (false positive/true positive), which shows the ratio of false to true positive as .28 : 1 or 1: 3.6, which shows \n",
    "# that the precision score is good as it means there is a false positive for every 3.6 true positives, a low\n",
    "# ratio. \n",
    "# The recall of the Decision Tree Classifier is 69.444%. If we invert the formula like for precision, we find out that \n",
    "# (true positive + false negatives / true positive) = 1.44. This shows that for there is almost 1 false negative for \n",
    "# every 2 true positives, meaning 33% of all positive predictions were wrong. This seems very high and, and thus, is \n",
    "# a very poor recall score. \n",
    "# F score is considered a better test of accuracy and overall, the F score is 73.529%, a good score that is better \n",
    "# than 50% coin flip, but also, not very good as it is lower than 80%."
   ]
  }
 ],
 "metadata": {
  "kernelspec": {
   "display_name": "Python 3 (ipykernel)",
   "language": "python",
   "name": "python3"
  },
  "language_info": {
   "codemirror_mode": {
    "name": "ipython",
    "version": 3
   },
   "file_extension": ".py",
   "mimetype": "text/x-python",
   "name": "python",
   "nbconvert_exporter": "python",
   "pygments_lexer": "ipython3",
   "version": "3.9.7"
  }
 },
 "nbformat": 4,
 "nbformat_minor": 5
}
