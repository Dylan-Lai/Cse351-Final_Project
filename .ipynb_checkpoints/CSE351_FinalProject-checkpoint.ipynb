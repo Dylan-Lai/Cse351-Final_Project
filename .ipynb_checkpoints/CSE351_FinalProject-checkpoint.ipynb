{
 "cells": [
  {
   "cell_type": "code",
   "execution_count": 88,
   "id": "fbb07cff",
   "metadata": {},
   "outputs": [
    {
     "data": {
      "text/html": [
       "<div>\n",
       "<style scoped>\n",
       "    .dataframe tbody tr th:only-of-type {\n",
       "        vertical-align: middle;\n",
       "    }\n",
       "\n",
       "    .dataframe tbody tr th {\n",
       "        vertical-align: top;\n",
       "    }\n",
       "\n",
       "    .dataframe thead th {\n",
       "        text-align: right;\n",
       "    }\n",
       "</style>\n",
       "<table border=\"1\" class=\"dataframe\">\n",
       "  <thead>\n",
       "    <tr style=\"text-align: right;\">\n",
       "      <th></th>\n",
       "      <th>PassengerId</th>\n",
       "      <th>Survived</th>\n",
       "      <th>Pclass</th>\n",
       "      <th>Sex</th>\n",
       "      <th>Age</th>\n",
       "      <th>SibSp</th>\n",
       "      <th>Parch</th>\n",
       "      <th>Fare</th>\n",
       "      <th>Embarked</th>\n",
       "    </tr>\n",
       "  </thead>\n",
       "  <tbody>\n",
       "    <tr>\n",
       "      <th>0</th>\n",
       "      <td>1</td>\n",
       "      <td>0</td>\n",
       "      <td>3</td>\n",
       "      <td>male</td>\n",
       "      <td>22.0</td>\n",
       "      <td>1</td>\n",
       "      <td>0</td>\n",
       "      <td>7.2500</td>\n",
       "      <td>S</td>\n",
       "    </tr>\n",
       "    <tr>\n",
       "      <th>1</th>\n",
       "      <td>2</td>\n",
       "      <td>1</td>\n",
       "      <td>1</td>\n",
       "      <td>female</td>\n",
       "      <td>38.0</td>\n",
       "      <td>1</td>\n",
       "      <td>0</td>\n",
       "      <td>71.2833</td>\n",
       "      <td>C</td>\n",
       "    </tr>\n",
       "    <tr>\n",
       "      <th>2</th>\n",
       "      <td>3</td>\n",
       "      <td>1</td>\n",
       "      <td>3</td>\n",
       "      <td>female</td>\n",
       "      <td>26.0</td>\n",
       "      <td>0</td>\n",
       "      <td>0</td>\n",
       "      <td>7.9250</td>\n",
       "      <td>S</td>\n",
       "    </tr>\n",
       "    <tr>\n",
       "      <th>3</th>\n",
       "      <td>4</td>\n",
       "      <td>1</td>\n",
       "      <td>1</td>\n",
       "      <td>female</td>\n",
       "      <td>35.0</td>\n",
       "      <td>1</td>\n",
       "      <td>0</td>\n",
       "      <td>53.1000</td>\n",
       "      <td>S</td>\n",
       "    </tr>\n",
       "    <tr>\n",
       "      <th>4</th>\n",
       "      <td>5</td>\n",
       "      <td>0</td>\n",
       "      <td>3</td>\n",
       "      <td>male</td>\n",
       "      <td>35.0</td>\n",
       "      <td>0</td>\n",
       "      <td>0</td>\n",
       "      <td>8.0500</td>\n",
       "      <td>S</td>\n",
       "    </tr>\n",
       "    <tr>\n",
       "      <th>...</th>\n",
       "      <td>...</td>\n",
       "      <td>...</td>\n",
       "      <td>...</td>\n",
       "      <td>...</td>\n",
       "      <td>...</td>\n",
       "      <td>...</td>\n",
       "      <td>...</td>\n",
       "      <td>...</td>\n",
       "      <td>...</td>\n",
       "    </tr>\n",
       "    <tr>\n",
       "      <th>886</th>\n",
       "      <td>887</td>\n",
       "      <td>0</td>\n",
       "      <td>2</td>\n",
       "      <td>male</td>\n",
       "      <td>27.0</td>\n",
       "      <td>0</td>\n",
       "      <td>0</td>\n",
       "      <td>13.0000</td>\n",
       "      <td>S</td>\n",
       "    </tr>\n",
       "    <tr>\n",
       "      <th>887</th>\n",
       "      <td>888</td>\n",
       "      <td>1</td>\n",
       "      <td>1</td>\n",
       "      <td>female</td>\n",
       "      <td>19.0</td>\n",
       "      <td>0</td>\n",
       "      <td>0</td>\n",
       "      <td>30.0000</td>\n",
       "      <td>S</td>\n",
       "    </tr>\n",
       "    <tr>\n",
       "      <th>888</th>\n",
       "      <td>889</td>\n",
       "      <td>0</td>\n",
       "      <td>3</td>\n",
       "      <td>female</td>\n",
       "      <td>NaN</td>\n",
       "      <td>1</td>\n",
       "      <td>2</td>\n",
       "      <td>23.4500</td>\n",
       "      <td>S</td>\n",
       "    </tr>\n",
       "    <tr>\n",
       "      <th>889</th>\n",
       "      <td>890</td>\n",
       "      <td>1</td>\n",
       "      <td>1</td>\n",
       "      <td>male</td>\n",
       "      <td>26.0</td>\n",
       "      <td>0</td>\n",
       "      <td>0</td>\n",
       "      <td>30.0000</td>\n",
       "      <td>C</td>\n",
       "    </tr>\n",
       "    <tr>\n",
       "      <th>890</th>\n",
       "      <td>891</td>\n",
       "      <td>0</td>\n",
       "      <td>3</td>\n",
       "      <td>male</td>\n",
       "      <td>32.0</td>\n",
       "      <td>0</td>\n",
       "      <td>0</td>\n",
       "      <td>7.7500</td>\n",
       "      <td>Q</td>\n",
       "    </tr>\n",
       "  </tbody>\n",
       "</table>\n",
       "<p>891 rows × 9 columns</p>\n",
       "</div>"
      ],
      "text/plain": [
       "     PassengerId  Survived  Pclass     Sex   Age  SibSp  Parch     Fare  \\\n",
       "0              1         0       3    male  22.0      1      0   7.2500   \n",
       "1              2         1       1  female  38.0      1      0  71.2833   \n",
       "2              3         1       3  female  26.0      0      0   7.9250   \n",
       "3              4         1       1  female  35.0      1      0  53.1000   \n",
       "4              5         0       3    male  35.0      0      0   8.0500   \n",
       "..           ...       ...     ...     ...   ...    ...    ...      ...   \n",
       "886          887         0       2    male  27.0      0      0  13.0000   \n",
       "887          888         1       1  female  19.0      0      0  30.0000   \n",
       "888          889         0       3  female   NaN      1      2  23.4500   \n",
       "889          890         1       1    male  26.0      0      0  30.0000   \n",
       "890          891         0       3    male  32.0      0      0   7.7500   \n",
       "\n",
       "    Embarked  \n",
       "0          S  \n",
       "1          C  \n",
       "2          S  \n",
       "3          S  \n",
       "4          S  \n",
       "..       ...  \n",
       "886        S  \n",
       "887        S  \n",
       "888        S  \n",
       "889        C  \n",
       "890        Q  \n",
       "\n",
       "[891 rows x 9 columns]"
      ]
     },
     "execution_count": 88,
     "metadata": {},
     "output_type": "execute_result"
    }
   ],
   "source": [
    "import pandas as pd\n",
    "import numpy as np\n",
    "import seaborn as sea\n",
    "import matplotlib.pyplot as plt\n",
    "import sklearn.neighbors as skln\n",
    "import sklearn.metrics as sklm\n",
    "import sklearn.cluster as sklc\n",
    "import random\n",
    "titanic = pd.read_csv('train.csv')\n",
    "test = pd.read_csv('test.csv')\n",
    "\n",
    "#The ticket number of the passenger are all unique and don't have a concrete format. \n",
    "#Therefore, no analysis could be done on the ticket number and thus is dropped.\n",
    "#The cabin number has lots of missing data and they can't be easily imputed (no average cabin number). \n",
    "#Thus, we drop the column 'cabin'.\n",
    "#The names of the passengers don't really determine much and most are unique. \n",
    "#Thus, no analysis can be done on their name and thus is dropped.\n",
    "titanic = titanic.drop('Ticket', axis=1)\n",
    "titanic = titanic.drop('Cabin', axis=1)\n",
    "titanic = titanic.drop('Name', axis=1)\n",
    "titanic"
   ]
  },
  {
   "cell_type": "code",
   "execution_count": 89,
   "id": "c4860013",
   "metadata": {},
   "outputs": [
    {
     "data": {
      "text/html": [
       "<div>\n",
       "<style scoped>\n",
       "    .dataframe tbody tr th:only-of-type {\n",
       "        vertical-align: middle;\n",
       "    }\n",
       "\n",
       "    .dataframe tbody tr th {\n",
       "        vertical-align: top;\n",
       "    }\n",
       "\n",
       "    .dataframe thead th {\n",
       "        text-align: right;\n",
       "    }\n",
       "</style>\n",
       "<table border=\"1\" class=\"dataframe\">\n",
       "  <thead>\n",
       "    <tr style=\"text-align: right;\">\n",
       "      <th></th>\n",
       "      <th>PassengerId</th>\n",
       "      <th>Survived</th>\n",
       "      <th>Pclass</th>\n",
       "      <th>Sex</th>\n",
       "      <th>Age</th>\n",
       "      <th>SibSp</th>\n",
       "      <th>Parch</th>\n",
       "      <th>Fare</th>\n",
       "      <th>Embarked</th>\n",
       "    </tr>\n",
       "  </thead>\n",
       "  <tbody>\n",
       "    <tr>\n",
       "      <th>0</th>\n",
       "      <td>1</td>\n",
       "      <td>0</td>\n",
       "      <td>3</td>\n",
       "      <td>male</td>\n",
       "      <td>22.0</td>\n",
       "      <td>1</td>\n",
       "      <td>0</td>\n",
       "      <td>7.2500</td>\n",
       "      <td>S</td>\n",
       "    </tr>\n",
       "    <tr>\n",
       "      <th>1</th>\n",
       "      <td>2</td>\n",
       "      <td>1</td>\n",
       "      <td>1</td>\n",
       "      <td>female</td>\n",
       "      <td>38.0</td>\n",
       "      <td>1</td>\n",
       "      <td>0</td>\n",
       "      <td>71.2833</td>\n",
       "      <td>C</td>\n",
       "    </tr>\n",
       "    <tr>\n",
       "      <th>2</th>\n",
       "      <td>3</td>\n",
       "      <td>1</td>\n",
       "      <td>3</td>\n",
       "      <td>female</td>\n",
       "      <td>26.0</td>\n",
       "      <td>0</td>\n",
       "      <td>0</td>\n",
       "      <td>7.9250</td>\n",
       "      <td>S</td>\n",
       "    </tr>\n",
       "    <tr>\n",
       "      <th>3</th>\n",
       "      <td>4</td>\n",
       "      <td>1</td>\n",
       "      <td>1</td>\n",
       "      <td>female</td>\n",
       "      <td>35.0</td>\n",
       "      <td>1</td>\n",
       "      <td>0</td>\n",
       "      <td>53.1000</td>\n",
       "      <td>S</td>\n",
       "    </tr>\n",
       "    <tr>\n",
       "      <th>4</th>\n",
       "      <td>5</td>\n",
       "      <td>0</td>\n",
       "      <td>3</td>\n",
       "      <td>male</td>\n",
       "      <td>35.0</td>\n",
       "      <td>0</td>\n",
       "      <td>0</td>\n",
       "      <td>8.0500</td>\n",
       "      <td>S</td>\n",
       "    </tr>\n",
       "    <tr>\n",
       "      <th>...</th>\n",
       "      <td>...</td>\n",
       "      <td>...</td>\n",
       "      <td>...</td>\n",
       "      <td>...</td>\n",
       "      <td>...</td>\n",
       "      <td>...</td>\n",
       "      <td>...</td>\n",
       "      <td>...</td>\n",
       "      <td>...</td>\n",
       "    </tr>\n",
       "    <tr>\n",
       "      <th>886</th>\n",
       "      <td>887</td>\n",
       "      <td>0</td>\n",
       "      <td>2</td>\n",
       "      <td>male</td>\n",
       "      <td>27.0</td>\n",
       "      <td>0</td>\n",
       "      <td>0</td>\n",
       "      <td>13.0000</td>\n",
       "      <td>S</td>\n",
       "    </tr>\n",
       "    <tr>\n",
       "      <th>887</th>\n",
       "      <td>888</td>\n",
       "      <td>1</td>\n",
       "      <td>1</td>\n",
       "      <td>female</td>\n",
       "      <td>19.0</td>\n",
       "      <td>0</td>\n",
       "      <td>0</td>\n",
       "      <td>30.0000</td>\n",
       "      <td>S</td>\n",
       "    </tr>\n",
       "    <tr>\n",
       "      <th>888</th>\n",
       "      <td>889</td>\n",
       "      <td>0</td>\n",
       "      <td>3</td>\n",
       "      <td>female</td>\n",
       "      <td>29.7</td>\n",
       "      <td>1</td>\n",
       "      <td>2</td>\n",
       "      <td>23.4500</td>\n",
       "      <td>S</td>\n",
       "    </tr>\n",
       "    <tr>\n",
       "      <th>889</th>\n",
       "      <td>890</td>\n",
       "      <td>1</td>\n",
       "      <td>1</td>\n",
       "      <td>male</td>\n",
       "      <td>26.0</td>\n",
       "      <td>0</td>\n",
       "      <td>0</td>\n",
       "      <td>30.0000</td>\n",
       "      <td>C</td>\n",
       "    </tr>\n",
       "    <tr>\n",
       "      <th>890</th>\n",
       "      <td>891</td>\n",
       "      <td>0</td>\n",
       "      <td>3</td>\n",
       "      <td>male</td>\n",
       "      <td>32.0</td>\n",
       "      <td>0</td>\n",
       "      <td>0</td>\n",
       "      <td>7.7500</td>\n",
       "      <td>Q</td>\n",
       "    </tr>\n",
       "  </tbody>\n",
       "</table>\n",
       "<p>891 rows × 9 columns</p>\n",
       "</div>"
      ],
      "text/plain": [
       "     PassengerId  Survived  Pclass     Sex   Age  SibSp  Parch     Fare  \\\n",
       "0              1         0       3    male  22.0      1      0   7.2500   \n",
       "1              2         1       1  female  38.0      1      0  71.2833   \n",
       "2              3         1       3  female  26.0      0      0   7.9250   \n",
       "3              4         1       1  female  35.0      1      0  53.1000   \n",
       "4              5         0       3    male  35.0      0      0   8.0500   \n",
       "..           ...       ...     ...     ...   ...    ...    ...      ...   \n",
       "886          887         0       2    male  27.0      0      0  13.0000   \n",
       "887          888         1       1  female  19.0      0      0  30.0000   \n",
       "888          889         0       3  female  29.7      1      2  23.4500   \n",
       "889          890         1       1    male  26.0      0      0  30.0000   \n",
       "890          891         0       3    male  32.0      0      0   7.7500   \n",
       "\n",
       "    Embarked  \n",
       "0          S  \n",
       "1          C  \n",
       "2          S  \n",
       "3          S  \n",
       "4          S  \n",
       "..       ...  \n",
       "886        S  \n",
       "887        S  \n",
       "888        S  \n",
       "889        C  \n",
       "890        Q  \n",
       "\n",
       "[891 rows x 9 columns]"
      ]
     },
     "execution_count": 89,
     "metadata": {},
     "output_type": "execute_result"
    }
   ],
   "source": [
    "#We find the mean for age, rounded it for simplicity, then imputed any missing values in Age with mean imputation. \n",
    "titanic_meanAge = round(titanic['Age'].mean(), 1)\n",
    "titanic['Age'].fillna(titanic_meanAge, inplace = True)\n",
    "titanic\n",
    "#It didn't seem important in our cleaning to think about outliers in the age as none of the entries had ages that\n",
    "# seemed unreasonable.\n"
   ]
  },
  {
   "cell_type": "code",
   "execution_count": 90,
   "id": "fc77378d",
   "metadata": {},
   "outputs": [
    {
     "name": "stdout",
     "output_type": "stream",
     "text": [
      "        PassengerId  Survived        Age     SibSp     Parch       Fare\n",
      "Pclass                                                                 \n",
      "1        456.687204  0.644550  37.090142  0.426540  0.364929  86.148874\n",
      "2        443.859551  0.488764  29.872640  0.415730  0.393258  21.358661\n",
      "3        439.983573  0.242300  26.355483  0.620123  0.396304  13.787875\n",
      "outlier max class 1: 187.364075\n",
      "outlier min class 1: -62.940125\n",
      "outlier max class 2: 45.5\n",
      "outlier min class 2: -6.5\n",
      "outlier max class 3: 27.125\n",
      "outlier min class 3: -3.875\n",
      "Q\n",
      "60    C\n",
      "61    Q\n",
      "62    S\n",
      "63    S\n",
      "64    C\n",
      "Name: Embarked, dtype: object\n"
     ]
    }
   ],
   "source": [
    "#THIS IS A CELL THAT WAS DECIDED TO BE KEPT IN, SO AS TO SHOW OUR PROCESS IN DECIDING THAT Fare IS ULTIMATELY \n",
    "#DROPPED FROM OUR ANALYSIS\n",
    "\n",
    "titanic_dropFares = pd.DataFrame(titanic)\n",
    "#This loop removes all entries that have a fare of 0 or less for calculating the mean, since \n",
    "#those entries are presumed to be missing values due to their lack of value. \n",
    "#The calculated mean will be used to impute those entries.\n",
    "for x in titanic_dropFares.index:\n",
    "  if titanic_dropFares.loc[x, \"Fare\"] <= 0:\n",
    "    titanic_dropFares.drop(x, inplace = True)\n",
    "\n",
    "titanic_averageFare = titanic_dropFares.groupby(by = 'Pclass').mean()\n",
    "print(titanic_averageFare)\n",
    "\n",
    "#Seperate dataframe into 3, spliting them across each ticket class x (['Pclass'] == x) because the ticket price is\n",
    "#correlated to the ticket class the passenger purchased.\n",
    "df1 = titanic[titanic['Pclass'] == 1]\n",
    "df2 = titanic[titanic['Pclass'] == 2]\n",
    "df3 = titanic[titanic['Pclass'] == 3]\n",
    "\n",
    "#For each of the split dataframes, we found the 25th and 75th percentile of the variable Fare and then \n",
    "#found the difference to find the interquartile range.\n",
    "#We calculate the Outliers with the formula:  Q3 + 1.5IQR AND Q1 - 1.5 IQR\n",
    "q75, q25 = np.percentile (df1['Fare'], [75, 25])\n",
    "iqr1 = q75 - q25\n",
    "outlier_max1 = 1.5*iqr1 + q75\n",
    "outlier_min1 = q25 - 1.5*iqr1\n",
    "print('outlier max class 1: '+ str(outlier_max1))\n",
    "print('outlier min class 1: '+ str(outlier_min1))\n",
    "\n",
    "q75, q25 = np.percentile (df2['Fare'], [75, 25])\n",
    "iqr2 = q75 - q25\n",
    "outlier_max2 = 1.5*iqr2 + q75\n",
    "outlier_min2 = q25 - 1.5*iqr2\n",
    "print('outlier max class 2: '+ str(outlier_max2))\n",
    "print('outlier min class 2: '+ str(outlier_min2))\n",
    "\n",
    "q75, q25 = np.percentile (df3['Fare'], [75, 25])\n",
    "iqr3 = q75 - q25\n",
    "outlier_max3 = 1.5*iqr3 + q75\n",
    "outlier_min3 = q25 - 1.5*iqr3\n",
    "print('outlier max class 3: '+ str(outlier_max3))\n",
    "print('outlier min class 3: '+ str(outlier_min3))\n",
    "\n",
    "#All Fare = 0 entries are imputed with the mean of their respective ticket class\n",
    "for x in df1.index:\n",
    "    if df1.loc[x, \"Fare\"] == 0:\n",
    "        titanic.loc[x,\"Fare\"]=titanic_averageFare['Fare'][1]\n",
    "for x in df2.index:\n",
    "    if df2.loc[x, \"Fare\"] == 0:\n",
    "        titanic.loc[x,\"Fare\"]=titanic_averageFare['Fare'][2]\n",
    "for x in df3.index:\n",
    "    if df3.loc[x, \"Fare\"] == 0:\n",
    "        titanic.loc[x,\"Fare\"]=titanic_averageFare['Fare'][3]\n",
    "#Impute the missing embark location\n",
    "randInt = int(round(2*random.random()))\n",
    "if randInt == 0:\n",
    "    print('Q')\n",
    "    titanic['Embarked'].fillna('Q',inplace=True)\n",
    "if randInt == 1:\n",
    "    print('S')\n",
    "    titanic['Embarked'].fillna('S',inplace=True)\n",
    "if randInt == 2:\n",
    "    print('C')\n",
    "    titanic['Embarked'].fillna('C',inplace=True)\n",
    "print(titanic['Embarked'][60:65])"
   ]
  },
  {
   "cell_type": "code",
   "execution_count": 91,
   "id": "4a84fd7c",
   "metadata": {},
   "outputs": [
    {
     "name": "stdout",
     "output_type": "stream",
     "text": [
      "        PassengerId  Survived  Sex  Age  SibSp  Parch  Fare  Embarked\n",
      "Pclass                                                               \n",
      "1               216       216  216  216    216    216   216       216\n",
      "2               184       184  184  184    184    184   184       184\n",
      "3               491       491  491  491    491    491   491       491\n",
      "Before removing outliers: \n",
      "          PassengerId  Pclass        Age     SibSp     Parch       Fare  \\\n",
      "Survived                                                                  \n",
      "0          410.300000     1.0  40.896250  0.287500  0.300000  64.684007   \n",
      "1          491.772059     1.0  34.784706  0.492647  0.389706  95.608029   \n",
      "\n",
      "          Fare Per Dependant  \n",
      "Survived                      \n",
      "0                  48.566612  \n",
      "1                  74.944360  \n",
      "          PassengerId  Pclass        Age     SibSp     Parch       Fare  \\\n",
      "Survived                                                                  \n",
      "0          452.123711     2.0  33.267010  0.319588  0.144330  19.412328   \n",
      "1          439.080460     2.0  26.076207  0.494253  0.643678  22.055700   \n",
      "\n",
      "          Fare Per Dependant  \n",
      "Survived                      \n",
      "0                  17.541916  \n",
      "1                  14.596360  \n",
      "          PassengerId  Pclass        Age     SibSp     Parch       Fare  \\\n",
      "Survived                                                                  \n",
      "0          453.580645     3.0  27.417742  0.672043  0.384409  13.669364   \n",
      "1          394.058824     3.0  23.232941  0.436975  0.420168  13.694887   \n",
      "\n",
      "          Fare Per Dependant  \n",
      "Survived                      \n",
      "0                   9.720167  \n",
      "1                  10.861690  \n",
      "After removing outliers: \n",
      "          PassengerId  Pclass        Age     SibSp     Parch       Fare  \\\n",
      "Survived                                                                  \n",
      "0          415.864865     1.0  41.598649  0.256757  0.202703  50.545886   \n",
      "1          487.032787     1.0  35.276393  0.459016  0.336066  72.547918   \n",
      "\n",
      "          Fare Per Dependant  \n",
      "Survived                      \n",
      "0                  41.912131  \n",
      "1                  60.101225  \n",
      "          PassengerId  Pclass        Age     SibSp     Parch       Fare  \\\n",
      "Survived                                                                  \n",
      "0          456.021739     2.0  33.814130  0.271739  0.152174  16.472780   \n",
      "1          433.282353     2.0  25.842706  0.482353  0.611765  21.045246   \n",
      "\n",
      "          Fare Per Dependant  \n",
      "Survived                      \n",
      "0                  14.500716  \n",
      "1                  14.430000  \n",
      "          PassengerId  Pclass        Age     SibSp     Parch       Fare  \\\n",
      "Survived                                                                  \n",
      "0          455.628049     3.0  28.584756  0.262195  0.140244   9.953657   \n",
      "1          392.882883     3.0  23.147027  0.387387  0.369369  11.288740   \n",
      "\n",
      "          Fare Per Dependant  \n",
      "Survived                      \n",
      "0                   8.918738  \n",
      "1                   8.864016  \n"
     ]
    },
    {
     "data": {
      "image/png": "[encoded data removed]",
      "text/plain": [
       "<Figure size 432x288 with 1 Axes>"
      ]
     },
     "metadata": {
      "needs_background": "light"
     },
     "output_type": "display_data"
    }
   ],
   "source": [
    "#THIS IS A CELL THAT WAS DECIDED TO BE KEPT IN, SO TO SHOW OUR PROCESS IN DECIDING THAT Fare IS ULTIMATELY \n",
    "#DROPPED FROM OUR ANALYSIS\n",
    "\n",
    "#Count the entries by Pclass\n",
    "titanic_count = titanic.groupby(by = 'Pclass').count()\n",
    "print(titanic_count)\n",
    "#This was an earlier attempt to see how many outliers there are by dropping them.\n",
    "#for x in df1.index:\n",
    "#    if df1.loc[x, \"Fare\"] >= outlier_max1:\n",
    "#        titanic = titanic.drop(x)\n",
    "#    if df1.loc[x, \"Fare\"] <= outlier_min1:\n",
    "#        titanic = titanic.drop(x)\n",
    "#print(titanic)           \n",
    "\n",
    "#Removed 20 entries (There are 216 entries, so removing 20/216 = 9.259% of the 1st ticket class population)\n",
    "\n",
    "#for x in df2.index:\n",
    "#    if df2.loc[x, \"Fare\"] >= outlier_max2:\n",
    "#        titanic = titanic.drop(x)\n",
    "#    if df2.loc[x, \"Fare\"] <= outlier_min2:\n",
    "#        titanic = titanic.drop(x)\n",
    "#print(titanic)\n",
    "\n",
    "#Removed 7 entries (There are 184 entries, so removing 7/184 = 3.8% of the 2nd ticket class population)\n",
    "\n",
    "#for x in df3.index:\n",
    "#    if df3.loc[x, \"Fare\"] >= outlier_max3:\n",
    "#        titanic = titanic.drop(x)\n",
    "#    if df3.loc[x, \"Fare\"] <= outlier_min3:\n",
    "#        titanic = titanic.drop(x)\n",
    "#print(titanic)\n",
    "\n",
    "#Removed 52 entries (There are 491 entries, so removing 52/491 = 10.59% of the 3rd ticket class population)\n",
    "\n",
    "#It was found that there is a large amount of outliers, especially the 1st and 3rd ticket classes. Looking back at the dataset, \n",
    "# it seemed like the fare was also tied to the Parch attribute, instead of just class. So, we graphed it and \n",
    "# it was true.\n",
    "sea.regplot(x = df1['Parch'], y = df1['Fare'])\n",
    "sea.regplot(x = df2['Parch'], y = df2['Fare'])\n",
    "sea.regplot(x = df3['Parch'], y = df3['Fare'])\n",
    "\n",
    "#We check how dropping the outliers affects the mean value of the attribute Parch and found that there was \n",
    "# a significant decrease in the mean of the attribute. \n",
    "print(\"Before removing outliers: \")\n",
    "df1.insert(8, \"Fare Per Dependant\", df1[\"Fare\"]/(df1[ \"Parch\"]+1))\n",
    "df2.insert(8, \"Fare Per Dependant\", df2[\"Fare\"]/(df2[ \"Parch\"]+1))\n",
    "df3.insert(8, \"Fare Per Dependant\", df3[\"Fare\"]/(df3[ \"Parch\"]+1))\n",
    "titanic_survived = df1.groupby(by = 'Survived').mean()\n",
    "print(titanic_survived)\n",
    "titanic_survived = df2.groupby(by = 'Survived').mean()\n",
    "print(titanic_survived)\n",
    "titanic_survived = df3.groupby(by = 'Survived').mean()\n",
    "print(titanic_survived)\n",
    "\n",
    "for x in df1.index:\n",
    "    if df1.loc[x, \"Fare\"] >= outlier_max1 or df1.loc[x, \"Fare\"] <= outlier_min1:\n",
    "        df1 = df1.drop(x)\n",
    "for x in df2.index:\n",
    "    if df2.loc[x, \"Fare\"] >= outlier_max2 or df2.loc[x, \"Fare\"] <= outlier_min2:\n",
    "        df2 = df2.drop(x)\n",
    "for x in df3.index:\n",
    "    if df3.loc[x, \"Fare\"] >= outlier_max3 or df3.loc[x, \"Fare\"] <= outlier_min3:\n",
    "        df3 = df3.drop(x)\n",
    "print(\"After removing outliers: \")\n",
    "titanic_survived = df1.groupby(by = 'Survived').mean()\n",
    "print(titanic_survived)\n",
    "titanic_survived = df2.groupby(by = 'Survived').mean()\n",
    "print(titanic_survived)\n",
    "titanic_survived = df3.groupby(by = 'Survived').mean()\n",
    "print(titanic_survived)\n",
    "\n",
    "#WITH THIS, THE DATA IS DEEMED TO BE CLEANED!"
   ]
  },
  {
   "cell_type": "code",
   "execution_count": 92,
   "id": "cfa13744",
   "metadata": {
    "scrolled": false
   },
   "outputs": [
    {
     "data": {
      "image/png": "[encoded data removed]",
      "text/plain": [
       "<Figure size 432x288 with 1 Axes>"
      ]
     },
     "metadata": {
      "needs_background": "light"
     },
     "output_type": "display_data"
    },
    {
     "data": {
      "image/png": "[encoded data removed]",
      "text/plain": [
       "<Figure size 432x288 with 1 Axes>"
      ]
     },
     "metadata": {
      "needs_background": "light"
     },
     "output_type": "display_data"
    },
    {
     "data": {
      "image/png": "[encoded data removed]",
      "text/plain": [
       "<Figure size 432x288 with 1 Axes>"
      ]
     },
     "metadata": {
      "needs_background": "light"
     },
     "output_type": "display_data"
    },
    {
     "data": {
      "image/png": "[encoded data removed]",
      "text/plain": [
       "<Figure size 432x288 with 1 Axes>"
      ]
     },
     "metadata": {
      "needs_background": "light"
     },
     "output_type": "display_data"
    },
    {
     "data": {
      "image/png": "[encoded data removed]",
      "text/plain": [
       "<Figure size 432x288 with 1 Axes>"
      ]
     },
     "metadata": {
      "needs_background": "light"
     },
     "output_type": "display_data"
    },
    {
     "data": {
      "image/png": "[encoded data removed]",
      "text/plain": [
       "<Figure size 432x288 with 1 Axes>"
      ]
     },
     "metadata": {
      "needs_background": "light"
     },
     "output_type": "display_data"
    },
    {
     "data": {
      "image/png": "[encoded data removed]",
      "text/plain": [
       "<Figure size 432x288 with 1 Axes>"
      ]
     },
     "metadata": {
      "needs_background": "light"
     },
     "output_type": "display_data"
    },
    {
     "data": {
      "image/png": "[encoded data removed]",
      "text/plain": [
       "<Figure size 432x288 with 1 Axes>"
      ]
     },
     "metadata": {
      "needs_background": "light"
     },
     "output_type": "display_data"
    },
    {
     "data": {
      "image/png": "[encoded data removed]",
      "text/plain": [
       "<Figure size 432x288 with 1 Axes>"
      ]
     },
     "metadata": {
      "needs_background": "light"
     },
     "output_type": "display_data"
    }
   ],
   "source": [
    "#The ticket class of a passenger seemed to be a good indicator of their socio-economic status as fare was\n",
    "# correlated with their ticket class. The ticket class 1 was the most expensive and the ticket class 3\n",
    "# 3 was the least expensive.\n",
    "titanic.boxplot(column = 'Fare', by = 'Pclass')\n",
    "sea.regplot(x = titanic['Pclass'], y = titanic['Fare'])\n",
    "\n",
    "\n",
    "#To see how age is affected by Pclass, a box and whisker plot and a regression line from a scatter plot\n",
    "# with the same attributes (Pclass vs. Age) is drawn. They both show a decrease in the age the lesser \n",
    "# socio-economic status. This could be a result of younger people having spent less time working and thus poorer.\n",
    "titanic.boxplot(column = 'Age', by = 'Pclass')\n",
    "sea.regplot(x = titanic['Pclass'], y = titanic['Age'])\n",
    "\n",
    "#To see how gender is affected by Pclass, they were grouped together by Pclass and Sex and then plotted by count \n",
    "# as a bar graph. In the bar graph, the females were always less than the males, regardless of the Pclass. However,\n",
    "# it seems like there is a significant number of males compared to females in the 3rd Pclass, almost twice the number\n",
    "# of males compared to number females.\n",
    "\n",
    "titanic_gender=titanic.groupby(['Pclass','Sex']).size()\n",
    "titanic_gender=titanic_gender.unstack()\n",
    "titanic_gender.plot(kind='bar')\n",
    "\n",
    "#To see how the number of parents and children are affected by Pclass, a bar graph similar in implementation to \n",
    "# the Sex vs Pclass is done.\n",
    "titanic_parch=titanic.groupby(['Pclass', 'Parch']).size()\n",
    "titanic_parch=titanic_parch.unstack()\n",
    "ax = titanic_parch.plot(kind='bar')\n",
    "\n",
    "#The number of Parch being 0 is very prominent compared to every other number for the attribute Parch. The number \n",
    "# of Parch that were greater than 0 was so small compared that the same graph was made, but the y limit was set to 60\n",
    "# ,so the other Parch attribute counts could be looked at. Overall, it seemed like a Power Law Distribution.\n",
    "# Regardless of Pclass, most have Parch = 0, 1, or 2. Then, there are the very few that have Parch > 2\n",
    "titanic_parch=titanic.groupby(['Pclass', 'Parch']).size()\n",
    "titanic_parch=titanic_parch.unstack()\n",
    "ax = titanic_parch.plot(kind='bar')\n",
    "ax = ax.set_ylim(0,60)\n",
    "\n",
    "#Where the passenger embarked vs. their Pclass was also compared via bar graph. It seems to indicate that these places\n",
    "# have different socioeconomic statuses. Queenstown seem to be the most prominent as barely any Pclass 1 or Pclass 2 \n",
    "# was purchased in that port, almost all tickets were class 3, which makes Queenstown seem very poor. Cherbourg has \n",
    "# less people buying the class 3 ticket than class 1 tickets, showing that the population of Cherbourg seems to be \n",
    "# very wealthy. Southampton seems to have a Power Law Distribution, most people bought the cheapest ticket (Pclass \n",
    "# = 3)and the least people buying the most expensive ticket (Pclass = 1). This seems to indicate that Southampton \n",
    "# residents are average in wealth.\n",
    "titanic_parch=titanic.groupby(['Pclass', 'Embarked']).size()\n",
    "titanic_parch=titanic_parch.unstack()\n",
    "ax = titanic_parch.plot(kind='bar')\n",
    "\n",
    "#Finally, the class of the ticket is compared to the Sibsp of the passenger via another bar graph. \n",
    "# Like the Parent/Child graph, 0 siblings/Spouses is far greater than all the others\n",
    "titanic_parch=titanic.groupby(['Pclass', 'SibSp']).size()\n",
    "titanic_parch=titanic_parch.unstack()\n",
    "ax = titanic_parch.plot(kind='bar')\n",
    "\n",
    "#In order to show the other groups more effectively, we set the limit of the graph to 100\n",
    "# 1 siblings/Spouses is still far greater than the rest\n",
    "titanic_parch=titanic.groupby(['Pclass', 'SibSp']).size()\n",
    "titanic_parch=titanic_parch.unstack()\n",
    "ax = titanic_parch.plot(kind='bar')\n",
    "ax = ax.set_ylim(0,100)\n",
    "\n",
    "#To show the other number of siblings and spouses effectively, we now set the limit to 20 \n",
    "# A power law distribution would be most effective in representing this data\n",
    "# While 0 siblings/Spouses is most common in all 3 classes, in 3rd class the number is far greater than in the other classes\n",
    "# This suggests that a larger portion of those in 3rd class are single and have no siblings\n",
    "titanic_parch=titanic.groupby(['Pclass', 'SibSp']).size()\n",
    "titanic_parch=titanic_parch.unstack()\n",
    "ax = titanic_parch.plot(kind='bar')\n",
    "ax = ax.set_ylim(0,20)"
   ]
  },
  {
   "cell_type": "code",
   "execution_count": 93,
   "id": "2fdd7161",
   "metadata": {
    "scrolled": false
   },
   "outputs": [
    {
     "data": {
      "image/png": "[encoded data removed]",
      "text/plain": [
       "<Figure size 432x288 with 1 Axes>"
      ]
     },
     "metadata": {
      "needs_background": "light"
     },
     "output_type": "display_data"
    },
    {
     "data": {
      "image/png": "[encoded data removed]",
      "text/plain": [
       "<Figure size 432x288 with 1 Axes>"
      ]
     },
     "metadata": {
      "needs_background": "light"
     },
     "output_type": "display_data"
    },
    {
     "data": {
      "image/png": "[encoded data removed]",
      "text/plain": [
       "<Figure size 432x288 with 1 Axes>"
      ]
     },
     "metadata": {
      "needs_background": "light"
     },
     "output_type": "display_data"
    },
    {
     "data": {
      "image/png": "[encoded data removed]",
      "text/plain": [
       "<Figure size 432x288 with 1 Axes>"
      ]
     },
     "metadata": {
      "needs_background": "light"
     },
     "output_type": "display_data"
    },
    {
     "data": {
      "image/png": "[encoded data removed]",
      "text/plain": [
       "<Figure size 432x288 with 1 Axes>"
      ]
     },
     "metadata": {
      "needs_background": "light"
     },
     "output_type": "display_data"
    },
    {
     "data": {
      "image/png": "[encoded data removed]",
      "text/plain": [
       "<Figure size 432x288 with 1 Axes>"
      ]
     },
     "metadata": {
      "needs_background": "light"
     },
     "output_type": "display_data"
    },
    {
     "data": {
      "image/png": "[encoded data removed]",
      "text/plain": [
       "<Figure size 432x288 with 1 Axes>"
      ]
     },
     "metadata": {
      "needs_background": "light"
     },
     "output_type": "display_data"
    },
    {
     "data": {
      "image/png": "[encoded data removed]",
      "text/plain": [
       "<Figure size 432x288 with 1 Axes>"
      ]
     },
     "metadata": {
      "needs_background": "light"
     },
     "output_type": "display_data"
    },
    {
     "data": {
      "image/png": "[encoded data removed]",
      "text/plain": [
       "<Figure size 432x288 with 1 Axes>"
      ]
     },
     "metadata": {
      "needs_background": "light"
     },
     "output_type": "display_data"
    },
    {
     "data": {
      "image/png": "[encoded data removed]",
      "text/plain": [
       "<Figure size 432x288 with 1 Axes>"
      ]
     },
     "metadata": {
      "needs_background": "light"
     },
     "output_type": "display_data"
    }
   ],
   "source": [
    "#The fare of a passenger seemed to be a good indicator of their survial, but that may be because fare was\n",
    "# correlated with their ticket class and number of Parent/Childs.\n",
    "titanic.boxplot(column = 'Fare', by = 'Survived')\n",
    "sea.regplot(x = titanic['Survived']+1, y = titanic['Fare'])\n",
    "\n",
    "#To see how age affected surival, a box and whisker plot from a scatter plot\n",
    "# with the same attributes (Survived vs. Age) is drawn. They both show an average age of 30 for survived and not suvived \n",
    "# This suggests that the average age on the ship was 30 and the survival was distributed approximately normally. \n",
    "# However, there were less outliers for the box and whisker plot that survived\n",
    "# This suggests that thre was a higher variance in the ages of those that survived\n",
    "titanic.boxplot(column = 'Age', by = 'Survived')\n",
    "sea.regplot(x = titanic['Survived']+1, y = titanic['Age'])\n",
    "\n",
    "#To see how gender affected survival, they were grouped together by Survived and Sex and then plotted by count \n",
    "# as a bar graph. In the bar graph, the females were less than the males for not survived, but greater than males for survived.\n",
    "# This suggests that females had a greater survival rate\n",
    "titanic_gender=titanic.groupby(['Survived','Sex']).size()\n",
    "titanic_gender=titanic_gender.unstack()\n",
    "titanic_gender.plot(kind='bar')\n",
    "\n",
    "#To see how the number of parents and children affected suvival, a bar graph similar in implementation to \n",
    "# the Sex vs Survived is done.\n",
    "titanic_parch=titanic.groupby(['Survived', 'Parch']).size()\n",
    "titanic_parch=titanic_parch.unstack()\n",
    "ax = titanic_parch.plot(kind='bar')\n",
    "\n",
    "#The number of Parch being 0 is very prominent compared to every other number for the attribute Parch. \n",
    "# The number of Parch that were greater than 0 was so small compared that the same graph was made,\n",
    "# but the y limit was set to 70 so the other Parch attribute counts could be looked at. \n",
    "# Overall, it seemes like a Power Law Distribution.\n",
    "# Regardless of Survival, most have Parch = 0, 1, or 2. Then, there are the very few that have Parch > 2\n",
    "# Those that did not have a child had a much greater chance of not surviving.\n",
    "# Those that only had one child had a slightly lower chance of surviving.\n",
    "# Those with 2 children had approximately equal chance of surviving or not surviving\n",
    "titanic_parch=titanic.groupby(['Survived', 'Parch']).size()\n",
    "titanic_parch=titanic_parch.unstack()\n",
    "ax = titanic_parch.plot(kind='bar')\n",
    "ax = ax.set_ylim(0,70)\n",
    "\n",
    "#The socioeconomic class represented via ticket clas vs survival is compared using a bar graph\n",
    "# For 3rd class tickets, the number that did not survive was much greater than those that did survive\n",
    "# This suggests that being 3rd class means you are less likely to survive\n",
    "titanic_pclass=titanic.groupby(['Survived', 'Pclass']).size()\n",
    "titanic_pclass=titanic_pclass.unstack()\n",
    "ax = titanic_pclass.plot(kind='bar')\n",
    "\n",
    "#Where the passenger embarked vs. their survival was also compared via bar graph. \n",
    "# For both Southhampton and Queenstown, the portion that survived was less than those that did not survive\n",
    "# However, for Cherbourg, the portion that survived was slightly greater than those that did not survive\n",
    "# This suggests that embarking from Cherbourg indicated a greater chance for survival,\n",
    "# but from our previous analysis of the socioeconomic status of Cherbourg, Cherbourg is likely also a wealthy location.\n",
    "# Thus the reason that embarking from Cherbourg indicated a greater chance for survival is due to socioeconomic status.\n",
    "titanic_parch=titanic.groupby(['Survived', 'Embarked']).size()\n",
    "titanic_parch=titanic_parch.unstack()\n",
    "ax = titanic_parch.plot(kind='bar')\n",
    "\n",
    "#Finally, survival is compared to the Sibsp of the passenger via another bar graph.\n",
    "# Like the Parent/Child graph, 0 siblings/Spouses is far greater than all the others\n",
    "titanic_parch=titanic.groupby(['Survived', 'SibSp']).size()\n",
    "titanic_parch=titanic_parch.unstack()\n",
    "ax = titanic_parch.plot(kind='bar')\n",
    "\n",
    "#In order to show the other groups more effectively, we set the limit of the graph to 120\n",
    "# 1 siblings/Spouses is still far greater than the rest\n",
    "titanic_parch=titanic.groupby(['Survived', 'SibSp']).size()\n",
    "titanic_parch=titanic_parch.unstack()\n",
    "ax = titanic_parch.plot(kind='bar')\n",
    "ax = ax.set_ylim(0,120)\n",
    "\n",
    "#In order to show the other groups more effectively, we set the limit of the graph to 20\n",
    "# 1 siblings/Spouses is still far greater than the rest\n",
    "# A power law distribution would be best to represent this data\n",
    "# While 0 siblings/Spouses is much larger in both survived and not survived, \n",
    "# there are much more with 0 siblings/Spouses that did not survive.\n",
    "# This suggests that those with no family had a lower chance of survivng\n",
    "titanic_parch=titanic.groupby(['Survived', 'SibSp']).size()\n",
    "titanic_parch=titanic_parch.unstack()\n",
    "ax = titanic_parch.plot(kind='bar')\n",
    "ax = ax.set_ylim(0,20)"
   ]
  },
  {
   "cell_type": "code",
   "execution_count": 94,
   "id": "48016313",
   "metadata": {},
   "outputs": [
    {
     "name": "stdout",
     "output_type": "stream",
     "text": [
      "Correlation between Fare and Survived: 0.24695958950802024\n",
      "Correlation between Age and Survived: -0.06981101300650615\n",
      "Correlation between Sex and Survived: 0.5433513806577552\n",
      "Correlation between Parents/Children and Survived: 0.08162940708348382\n",
      "Correlation between Ticket class and Survived: -0.33848103596101503\n",
      "Correlation between Embarked location and Survived: -0.1712487458081662\n",
      "Correlation between Siblings/Spouses and Survived: -0.03532249888573567\n"
     ]
    }
   ],
   "source": [
    "#For non-numerical features, assign a number to each category before comparing them\n",
    "print('Correlation between Fare and Survived: '+str(titanic[\"Survived\"].corr(titanic[\"Fare\"])))\n",
    "print('Correlation between Age and Survived: '+str(titanic[\"Survived\"].corr(titanic[\"Age\"])))\n",
    "titanic_Sex = titanic['Sex'].map({'male':0,'female':1})\n",
    "print('Correlation between Sex and Survived: '+str(titanic[\"Survived\"].corr(titanic_Sex)))\n",
    "print('Correlation between Parents/Children and Survived: '+str(titanic[\"Survived\"].corr(titanic[\"Parch\"])))\n",
    "print('Correlation between Ticket class and Survived: '+str(titanic[\"Survived\"].corr(titanic[\"Pclass\"])))\n",
    "titanic_Embark = titanic['Embarked'].map({'C':0,'Q':1,'S':2})\n",
    "print('Correlation between Embarked location and Survived: '+str(titanic[\"Survived\"].corr(titanic_Embark)))\n",
    "print('Correlation between Siblings/Spouses and Survived: '+str(titanic[\"Survived\"].corr(titanic[\"SibSp\"])))\n",
    "#Sex, Ticket class, and Fare seem to be the most important based on the correlation.\n",
    "# For these features, the correlation is farthest from 0"
   ]
  },
  {
   "cell_type": "code",
   "execution_count": 106,
   "id": "3f6829f9",
   "metadata": {},
   "outputs": [
    {
     "data": {
      "text/html": [
       "<div>\n",
       "<style scoped>\n",
       "    .dataframe tbody tr th:only-of-type {\n",
       "        vertical-align: middle;\n",
       "    }\n",
       "\n",
       "    .dataframe tbody tr th {\n",
       "        vertical-align: top;\n",
       "    }\n",
       "\n",
       "    .dataframe thead th {\n",
       "        text-align: right;\n",
       "    }\n",
       "</style>\n",
       "<table border=\"1\" class=\"dataframe\">\n",
       "  <thead>\n",
       "    <tr style=\"text-align: right;\">\n",
       "      <th></th>\n",
       "      <th>Survived</th>\n",
       "      <th>Pclass</th>\n",
       "      <th>Fare</th>\n",
       "      <th>Sex</th>\n",
       "    </tr>\n",
       "  </thead>\n",
       "  <tbody>\n",
       "    <tr>\n",
       "      <th>0</th>\n",
       "      <td>0</td>\n",
       "      <td>3</td>\n",
       "      <td>7.2500</td>\n",
       "      <td>0</td>\n",
       "    </tr>\n",
       "    <tr>\n",
       "      <th>1</th>\n",
       "      <td>1</td>\n",
       "      <td>1</td>\n",
       "      <td>71.2833</td>\n",
       "      <td>1</td>\n",
       "    </tr>\n",
       "    <tr>\n",
       "      <th>2</th>\n",
       "      <td>1</td>\n",
       "      <td>3</td>\n",
       "      <td>7.9250</td>\n",
       "      <td>1</td>\n",
       "    </tr>\n",
       "    <tr>\n",
       "      <th>3</th>\n",
       "      <td>1</td>\n",
       "      <td>1</td>\n",
       "      <td>53.1000</td>\n",
       "      <td>1</td>\n",
       "    </tr>\n",
       "    <tr>\n",
       "      <th>4</th>\n",
       "      <td>0</td>\n",
       "      <td>3</td>\n",
       "      <td>8.0500</td>\n",
       "      <td>0</td>\n",
       "    </tr>\n",
       "    <tr>\n",
       "      <th>...</th>\n",
       "      <td>...</td>\n",
       "      <td>...</td>\n",
       "      <td>...</td>\n",
       "      <td>...</td>\n",
       "    </tr>\n",
       "    <tr>\n",
       "      <th>886</th>\n",
       "      <td>0</td>\n",
       "      <td>2</td>\n",
       "      <td>13.0000</td>\n",
       "      <td>0</td>\n",
       "    </tr>\n",
       "    <tr>\n",
       "      <th>887</th>\n",
       "      <td>1</td>\n",
       "      <td>1</td>\n",
       "      <td>30.0000</td>\n",
       "      <td>1</td>\n",
       "    </tr>\n",
       "    <tr>\n",
       "      <th>888</th>\n",
       "      <td>0</td>\n",
       "      <td>3</td>\n",
       "      <td>23.4500</td>\n",
       "      <td>1</td>\n",
       "    </tr>\n",
       "    <tr>\n",
       "      <th>889</th>\n",
       "      <td>1</td>\n",
       "      <td>1</td>\n",
       "      <td>30.0000</td>\n",
       "      <td>0</td>\n",
       "    </tr>\n",
       "    <tr>\n",
       "      <th>890</th>\n",
       "      <td>0</td>\n",
       "      <td>3</td>\n",
       "      <td>7.7500</td>\n",
       "      <td>0</td>\n",
       "    </tr>\n",
       "  </tbody>\n",
       "</table>\n",
       "<p>891 rows × 4 columns</p>\n",
       "</div>"
      ],
      "text/plain": [
       "     Survived  Pclass     Fare  Sex\n",
       "0           0       3   7.2500    0\n",
       "1           1       1  71.2833    1\n",
       "2           1       3   7.9250    1\n",
       "3           1       1  53.1000    1\n",
       "4           0       3   8.0500    0\n",
       "..        ...     ...      ...  ...\n",
       "886         0       2  13.0000    0\n",
       "887         1       1  30.0000    1\n",
       "888         0       3  23.4500    1\n",
       "889         1       1  30.0000    0\n",
       "890         0       3   7.7500    0\n",
       "\n",
       "[891 rows x 4 columns]"
      ]
     },
     "execution_count": 106,
     "metadata": {},
     "output_type": "execute_result"
    }
   ],
   "source": [
    "titanic_data=titanic.drop(columns = ['Sex', 'Embarked','Age','Parch','SibSp','PassengerId'], axis=1)\n",
    "titanic_data.insert(3,'Sex',titanic_Sex)\n",
    "titanic_training = titanic_data[0:int(round(titanic['Sex'].size*.75,0))]\n",
    "titanic_testing = titanic_data[int((round(titanic['Sex'].size*.75,0))+1):]\n",
    "titanic_data"
   ]
  },
  {
   "cell_type": "code",
   "execution_count": 107,
   "id": "8cb5660f",
   "metadata": {},
   "outputs": [
    {
     "name": "stdout",
     "output_type": "stream",
     "text": [
      "Shape of training data : (668, 4)\n",
      "Shape of testing data : (222, 4)\n"
     ]
    }
   ],
   "source": [
    "print('Shape of training data :',titanic_training.shape) \n",
    "print('Shape of testing data :',titanic_testing.shape) "
   ]
  },
  {
   "cell_type": "code",
   "execution_count": 108,
   "id": "41ade0aa",
   "metadata": {},
   "outputs": [],
   "source": [
    "train_x = titanic_training.drop(columns=['Survived'],axis=1)\n",
    "train_y = titanic_training['Survived']\n",
    "test_x = titanic_testing.drop(columns=['Survived'],axis=1)\n",
    "test_y = titanic_testing['Survived']"
   ]
  },
  {
   "cell_type": "code",
   "execution_count": 109,
   "id": "c7a4b6d7",
   "metadata": {},
   "outputs": [
    {
     "data": {
      "text/plain": [
       "KNeighborsClassifier()"
      ]
     },
     "execution_count": 109,
     "metadata": {},
     "output_type": "execute_result"
    }
   ],
   "source": [
    "model = skln.KNeighborsClassifier()\n",
    "model.fit(train_x,train_y)"
   ]
  },
  {
   "cell_type": "code",
   "execution_count": 134,
   "id": "2599b54a",
   "metadata": {},
   "outputs": [
    {
     "name": "stdout",
     "output_type": "stream",
     "text": [
      "\n",
      "The number of neighbors used to predict the target :  15\n"
     ]
    }
   ],
   "source": [
    "model.n_neighbors = 15\n",
    "print('\\nThe number of neighbors used to predict the target : ', model.n_neighbors)"
   ]
  },
  {
   "cell_type": "code",
   "execution_count": 135,
   "id": "9dc308fd",
   "metadata": {},
   "outputs": [
    {
     "name": "stdout",
     "output_type": "stream",
     "text": [
      "\n",
      "Target on train data:  [0 0 1 1 0 0 1 0 1 1 1 1 0 0 1 1 0 0 1 1 0 0 1 0 0 1 0 1 1 0 0 1 1 0 1 1 0\n",
      " 0 1 1 0 0 0 0 1 0 0 1 0 1 0 0 1 1 1 0 1 0 0 0 0 1 1 0 0 0 1 0 1 0 0 0 0 0\n",
      " 1 0 0 0 0 1 0 0 1 0 1 1 0 0 1 0 0 0 1 0 0 0 0 1 1 0 1 0 1 0 0 0 1 0 0 0 1\n",
      " 0 0 0 0 0 0 0 1 1 0 0 1 1 1 0 0 0 1 0 0 0 0 1 0 0 1 1 0 1 0 1 1 0 0 0 0 0\n",
      " 0 0 0 0 0 0 0 1 1 0 0 0 0 1 0 0 0 0 1 0 0 1 0 0 1 0 1 0 0 0 0 0 0 0 0 0 1\n",
      " 0 1 1 0 0 1 0 1 0 0 1 0 0 1 1 0 0 0 0 0 1 0 0 1 1 0 0 0 0 0 1 1 0 1 0 0 0\n",
      " 0 0 1 0 0 0 0 1 1 0 0 1 0 1 0 1 0 0 0 1 0 0 0 1 1 0 1 0 0 1 1 0 0 0 1 1 1\n",
      " 1 0 0 1 1 1 0 0 0 1 1 1 0 1 0 1 1 1 0 0 0 0 0 0 0 0 0 0 0 0 1 1 1 0 0 0 0\n",
      " 0 1 1 1 1 1 0 1 0 1 1 1 0 1 1 1 1 0 0 1 1 0 1 1 0 0 1 0 0 1 0 1 0 1 1 0 1\n",
      " 1 1 0 0 1 0 0 0 1 0 0 0 1 1 1 0 0 0 0 0 0 0 0 1 1 1 1 0 0 0 0 0 0 1 1 1 0\n",
      " 1 0 0 1 0 1 1 1 0 0 1 1 0 1 0 0 0 1 0 1 1 0 0 1 1 0 1 0 0 1 0 0 0 0 1 0 0\n",
      " 1 0 1 0 0 1 0 0 1 0 1 0 0 0 0 0 0 0 0 1 1 0 0 1 1 1 0 1 1 0 1 1 0 1 0 0 1\n",
      " 0 1 1 1 1 1 0 0 0 1 0 0 1 1 1 0 1 0 0 0 0 0 0 1 0 1 0 0 0 1 0 1 0 0 0 1 0\n",
      " 0 0 0 1 1 1 0 0 0 0 0 1 0 0 0 1 0 1 0 0 1 1 0 1 1 1 1 0 1 0 0 1 1 0 0 1 0\n",
      " 1 0 1 0 0 1 0 0 1 1 0 0 1 0 0 1 1 1 1 1 0 0 0 1 1 0 1 0 1 0 0 0 1 0 0 0 1\n",
      " 1 0 1 1 0 0 0 0 0 1 0 0 0 0 0 0 1 1 1 0 0 1 1 0 0 1 1 0 0 0 1 0 1 0 0 0 1\n",
      " 0 1 0 0 0 0 0 1 1 0 0 0 1 0 0 1 0 1 1 0 1 0 0 0 0 1 0 0 0 1 0 0 0 1 0 1 0\n",
      " 0 1 0 1 1 0 1 0 0 0 0 0 0 0 1 1 1 0 0 0 1 0 1 0 1 1 0 0 1 0 1 1 0 0 0 0 0\n",
      " 0 0]\n"
     ]
    }
   ],
   "source": [
    "predict_train=model.predict(train_x)\n",
    "print('\\nTarget on train data: ', predict_train)"
   ]
  },
  {
   "cell_type": "code",
   "execution_count": 140,
   "id": "a74e2b62",
   "metadata": {},
   "outputs": [
    {
     "name": "stdout",
     "output_type": "stream",
     "text": [
      "Target on test data [1 0 1 0 0 0 0 0 0 0 1 1 1 0 0 0 0 0 0 0 1 1 0 1 0 1 0 0 1 1 0 1 1 0 0 0 0\n",
      " 1 1 1 0 0 1 1 0 0 0 1 1 0 0 0 0 0 0 1 0 0 1 0 1 1 0 0 0 0 0 0 1 0 0 1 1 1\n",
      " 0 0 0 0 1 1 0 1 0 0 0 0 0 0 0 0 1 0 0 0 1 0 1 0 1 0 0 0 0 1 0 1 0 0 1 0 1\n",
      " 1 1 1 1 0 0 1 0 0 1 0 0 0 1 0 0 1 1 0 0 0 1 1 0 0 0 1 1 0 1 0 0 0 1 0 1 1\n",
      " 0 0 0 1 0 1 1 0 0 1 0 0 1 0 1 0 0 0 1 0 0 1 0 0 0 1 0 0 0 0 0 0 1 0 0 0 0\n",
      " 1 0 1 1 1 0 0 0 1 0 0 1 1 0 0 0 0 1 0 0 0 1 0 0 0 1 1 0 1 0 0 0 0 1 1 1 0]\n",
      "Actual on test data [1, 1, 0, 0, 1, 0, 0, 0, 1, 0, 1, 0, 1, 0, 0, 0, 0, 0, 0, 0, 1, 1, 1, 1, 0, 0, 0, 0, 1, 0, 0, 1, 1, 0, 0, 0, 0, 1, 1, 1, 1, 1, 0, 1, 0, 0, 0, 1, 1, 0, 0, 1, 0, 0, 0, 1, 0, 1, 1, 0, 0, 1, 0, 0, 0, 0, 0, 0, 1, 0, 0, 1, 0, 1, 0, 1, 0, 0, 1, 0, 0, 1, 1, 0, 0, 1, 1, 0, 0, 0, 1, 0, 0, 1, 1, 0, 1, 0, 0, 0, 0, 0, 0, 0, 0, 1, 0, 0, 1, 0, 1, 1, 1, 0, 0, 0, 0, 1, 0, 1, 0, 0, 0, 0, 0, 0, 0, 1, 1, 0, 0, 0, 1, 1, 1, 1, 0, 0, 0, 0, 1, 0, 0, 0, 0, 0, 0, 0, 0, 0, 0, 1, 1, 0, 1, 0, 0, 0, 1, 1, 1, 1, 1, 0, 0, 0, 1, 0, 0, 1, 1, 0, 0, 1, 0, 0, 0, 0, 0, 0, 1, 0, 0, 0, 1, 0, 1, 1, 1, 1, 0, 0, 0, 1, 0, 0, 1, 1, 0, 0, 1, 0, 1, 0, 0, 1, 1, 0, 0, 0, 1, 1, 0, 0, 0, 0, 0, 0, 1, 0, 1, 0]\n"
     ]
    }
   ],
   "source": [
    "predict_test = model.predict(test_x)\n",
    "print('Target on test data',predict_test)\n",
    "print('Actual on test data',test_y.tolist())"
   ]
  },
  {
   "cell_type": "code",
   "execution_count": 141,
   "id": "91d61c40",
   "metadata": {},
   "outputs": [
    {
     "name": "stdout",
     "output_type": "stream",
     "text": [
      "Accuracy on test dataset 0.7792792792792793\n"
     ]
    }
   ],
   "source": [
    "accuracy_test = sklm.accuracy_score(test_y,predict_test)\n",
    "print('Accuracy on test dataset',accuracy_test)"
   ]
  },
  {
   "cell_type": "code",
   "execution_count": 142,
   "id": "5c01b555",
   "metadata": {},
   "outputs": [
    {
     "data": {
      "text/plain": [
       "KMeans()"
      ]
     },
     "execution_count": 142,
     "metadata": {},
     "output_type": "execute_result"
    }
   ],
   "source": [
    "#K means clustering Explain this George\n",
    "model = sklc.KMeans()\n",
    "model.fit(titanic_training)"
   ]
  },
  {
   "cell_type": "code",
   "execution_count": 143,
   "id": "f9d256cb",
   "metadata": {},
   "outputs": [
    {
     "name": "stdout",
     "output_type": "stream",
     "text": [
      "\n",
      "Clusters on train data [2 4 2 6 2 2 6 0 2 0 2 0 2 0 2 2 0 2 2 2 0 2 2 0 0 0 2 3 2 2 0 1 2 2 4 6 2\n",
      " 2 2 2 2 0 2 6 2 2 2 2 0 2 0 2 4 0 6 0 2 2 0 6 2 4 4 0 0 2 2 2 2 2 2 6 4 2\n",
      " 6 2 2 2 0 2 2 2 2 6 2 2 0 2 3 2 2 2 6 0 2 2 0 6 0 0 2 2 4 2 2 2 2 2 2 0 6\n",
      " 2 2 2 2 2 2 0 3 0 4 2 0 2 4 2 2 2 0 2 2 2 2 0 2 2 0 6 2 4 2 2 2 2 2 0 2 0\n",
      " 0 2 2 4 2 2 2 6 2 2 2 4 2 2 2 2 0 0 6 0 0 6 0 0 2 2 0 2 0 0 2 2 4 2 0 0 0\n",
      " 6 2 0 2 2 2 2 2 0 0 1 2 2 2 2 2 4 2 2 2 2 2 0 2 0 2 0 2 2 2 7 2 0 4 2 2 2\n",
      " 2 2 4 2 2 2 2 0 4 2 2 0 2 2 0 0 2 2 2 2 2 2 2 4 2 2 6 0 2 2 0 2 0 2 4 4 5\n",
      " 0 2 0 4 4 2 2 0 2 1 1 0 2 0 0 2 4 2 0 0 0 2 2 2 2 0 2 2 2 2 2 4 4 2 2 2 0\n",
      " 2 1 0 3 2 0 2 2 2 1 7 7 0 6 4 3 0 2 0 2 0 2 1 1 2 2 2 0 4 1 2 2 0 6 0 0 1\n",
      " 2 1 2 4 1 2 0 0 3 2 2 2 2 2 2 2 2 2 0 2 2 2 2 6 2 2 2 0 0 2 2 2 2 4 2 2 4\n",
      " 6 2 2 1 0 4 2 3 2 2 3 2 2 6 2 4 6 2 2 2 7 2 2 7 2 2 2 0 2 2 2 2 2 2 2 0 2\n",
      " 0 2 0 2 2 4 0 2 2 0 2 2 0 2 2 2 2 0 2 0 0 2 2 0 2 0 2 6 7 0 0 3 2 0 2 2 2\n",
      " 2 4 0 0 0 0 0 0 0 4 2 2 0 6 2 2 0 2 0 2 2 2 0 0 2 0 2 2 0 2 2 6 0 2 2 2 6\n",
      " 0 2 2 4 0 4 0 2 2 0 2 0 6 2 2 4 2 1 2 2 2 2 2 4 7 0 0 0 6 2 2 0 6 2 0 2 0\n",
      " 0 2 4 2 2 6 2 2 2 3 2 2 0 2 2 0 2 0 0 7 2 6 4 0 0 0 7 0 0 2 0 0 7 0 2 2 2\n",
      " 0 0 3 4 2 2 2 2 2 2 0 2 0 2 2 2 6 0 2 2 2 2 6 2 2 0 7 0 0 2 4 2 4 2 2 2 4\n",
      " 2 2 0 0 0 2 2 6 0 2 6 2 0 2 2 0 6 1 0 2 2 2 2 6 2 2 0 2 2 6 2 2 2 0 2 4 2\n",
      " 2 0 2 0 4 0 2 2 0 0 2 2 4 0 6 0 4 2 0 2 2 2 0 2 2 2 4 2 2 2 7 1 2 0 2 2 4\n",
      " 2 2]\n"
     ]
    }
   ],
   "source": [
    "predict_train = model.predict(titanic_training)\n",
    "print(\"\\nClusters on train data\",predict_train)"
   ]
  },
  {
   "cell_type": "code",
   "execution_count": 144,
   "id": "048bfe50",
   "metadata": {},
   "outputs": [
    {
     "name": "stdout",
     "output_type": "stream",
     "text": [
      "\n",
      "Clusters on test data [6 0 6 2 2 0 2 2 2 6 5 2 4 2 6 0 6 0 2 2 3 6 2 6 2 0 2 2 2 7 2 3 0 2 2 2 0\n",
      " 2 0 1 2 6 0 6 2 2 2 3 2 2 2 0 2 2 2 6 2 0 2 0 2 3 0 0 2 2 2 0 5 2 2 0 4 3\n",
      " 2 2 4 0 2 6 2 0 2 2 2 6 2 2 2 2 4 2 2 2 7 2 4 0 2 0 2 2 2 2 2 0 2 2 2 2 3\n",
      " 2 6 0 0 2 2 2 0 0 4 2 0 4 0 2 2 0 2 2 0 2 0 7 2 2 2 4 2 2 6 2 0 2 0 2 4 2\n",
      " 0 2 0 4 2 4 2 0 2 6 0 2 4 2 0 2 2 2 4 2 2 6 0 2 2 0 2 2 2 4 2 0 4 0 2 2 0\n",
      " 0 2 1 0 0 2 2 2 0 4 2 2 2 6 2 2 2 6 2 2 0 2 2 2 2 4 0 2 2 2 2 0 2 0 0 0 2]\n"
     ]
    }
   ],
   "source": [
    "predict_test = model.predict(titanic_testing)\n",
    "print('\\nClusters on test data',predict_test)"
   ]
  },
  {
   "cell_type": "code",
   "execution_count": 153,
   "id": "144f32ba",
   "metadata": {},
   "outputs": [
    {
     "name": "stdout",
     "output_type": "stream",
     "text": [
      "\n",
      "Number of Clusters: 2\n"
     ]
    }
   ],
   "source": [
    "model_n = sklc.KMeans(n_clusters=2)\n",
    "model_n.fit(titanic_training)\n",
    "print('\\nNumber of Clusters:',model_n.n_clusters)"
   ]
  },
  {
   "cell_type": "code",
   "execution_count": 154,
   "id": "e6c78ca6",
   "metadata": {},
   "outputs": [
    {
     "name": "stdout",
     "output_type": "stream",
     "text": [
      "\n",
      "Clusters on training data [0 0 0 0 0 0 0 0 0 0 0 0 0 0 0 0 0 0 0 0 0 0 0 0 0 0 0 1 0 0 0 1 0 0 0 0 0\n",
      " 0 0 0 0 0 0 0 0 0 0 0 0 0 0 0 0 0 0 0 0 0 0 0 0 0 0 0 0 0 0 0 0 0 0 0 0 0\n",
      " 0 0 0 0 0 0 0 0 0 0 0 0 0 0 1 0 0 0 0 0 0 0 0 0 0 0 0 0 0 0 0 0 0 0 0 0 0\n",
      " 0 0 0 0 0 0 0 1 0 0 0 0 0 0 0 0 0 0 0 0 0 0 0 0 0 0 0 0 0 0 0 0 0 0 0 0 0\n",
      " 0 0 0 0 0 0 0 0 0 0 0 0 0 0 0 0 0 0 0 0 0 0 0 0 0 0 0 0 0 0 0 0 0 0 0 0 0\n",
      " 0 0 0 0 0 0 0 0 0 0 1 0 0 0 0 0 0 0 0 0 0 0 0 0 0 0 0 0 0 0 1 0 0 0 0 0 0\n",
      " 0 0 0 0 0 0 0 0 0 0 0 0 0 0 0 0 0 0 0 0 0 0 0 0 0 0 0 0 0 0 0 0 0 0 0 0 1\n",
      " 0 0 0 0 0 0 0 0 0 1 1 0 0 0 0 0 0 0 0 0 0 0 0 0 0 0 0 0 0 0 0 0 0 0 0 0 0\n",
      " 0 1 0 1 0 0 0 0 0 1 1 1 0 0 0 1 0 0 0 0 0 0 1 1 0 0 0 0 0 1 0 0 0 0 0 0 1\n",
      " 0 1 0 0 1 0 0 0 1 0 0 0 0 0 0 0 0 0 0 0 0 0 0 0 0 0 0 0 0 0 0 0 0 0 0 0 0\n",
      " 0 0 0 1 0 0 0 1 0 0 1 0 0 0 0 0 0 0 0 0 1 0 0 1 0 0 0 0 0 0 0 0 0 0 0 0 0\n",
      " 0 0 0 0 0 0 0 0 0 0 0 0 0 0 0 0 0 0 0 0 0 0 0 0 0 0 0 0 1 0 0 1 0 0 0 0 0\n",
      " 0 0 0 0 0 0 0 0 0 0 0 0 0 0 0 0 0 0 0 0 0 0 0 0 0 0 0 0 0 0 0 0 0 0 0 0 0\n",
      " 0 0 0 0 0 0 0 0 0 0 0 0 0 0 0 0 0 1 0 0 0 0 0 0 1 0 0 0 0 0 0 0 0 0 0 0 0\n",
      " 0 0 0 0 0 0 0 0 0 1 0 0 0 0 0 0 0 0 0 1 0 0 0 0 0 0 1 0 0 0 0 0 1 0 0 0 0\n",
      " 0 0 1 0 0 0 0 0 0 0 0 0 0 0 0 0 0 0 0 0 0 0 0 0 0 0 1 0 0 0 0 0 0 0 0 0 0\n",
      " 0 0 0 0 0 0 0 0 0 0 0 0 0 0 0 0 0 1 0 0 0 0 0 0 0 0 0 0 0 0 0 0 0 0 0 0 0\n",
      " 0 0 0 0 0 0 0 0 0 0 0 0 0 0 0 0 0 0 0 0 0 0 0 0 0 0 0 0 0 0 1 1 0 0 0 0 0\n",
      " 0 0]\n"
     ]
    }
   ],
   "source": [
    "predict_trainClusters = model_n.predict(titanic_training)\n",
    "print('\\nClusters on training data',predict_trainClusters)"
   ]
  },
  {
   "cell_type": "code",
   "execution_count": 156,
   "id": "62537e3c",
   "metadata": {},
   "outputs": [
    {
     "name": "stdout",
     "output_type": "stream",
     "text": [
      "\n",
      "Clusters on test data [0 0 0 0 0 0 0 0 0 0 1 0 0 0 0 0 0 0 0 0 1 0 0 0 0 0 0 0 0 1 0 1 0 0 0 0 0\n",
      " 0 0 1 0 0 0 0 0 0 0 1 0 0 0 0 0 0 0 0 0 0 0 0 0 1 0 0 0 0 0 0 1 0 0 0 0 1\n",
      " 0 0 0 0 0 0 0 0 0 0 0 0 0 0 0 0 0 0 0 0 1 0 0 0 0 0 0 0 0 0 0 0 0 0 0 0 1\n",
      " 0 0 0 0 0 0 0 0 0 0 0 0 0 0 0 0 0 0 0 0 0 0 1 0 0 0 0 0 0 0 0 0 0 0 0 0 0\n",
      " 0 0 0 0 0 0 0 0 0 0 0 0 0 0 0 0 0 0 0 0 0 0 0 0 0 0 0 0 0 0 0 0 0 0 0 0 0\n",
      " 0 0 1 0 0 0 0 0 0 0 0 0 0 0 0 0 0 0 0 0 0 0 0 0 0 0 0 0 0 0 0 0 0 0 0 0 0]\n"
     ]
    }
   ],
   "source": [
    "predict_testClusters = model_n.predict(titanic_testing)\n",
    "print('\\nClusters on test data',predict_testClusters)"
   ]
  },
  {
   "cell_type": "code",
   "execution_count": null,
   "id": "2f933479",
   "metadata": {},
   "outputs": [],
   "source": []
  }
 ],
 "metadata": {
  "kernelspec": {
   "display_name": "Python 3 (ipykernel)",
   "language": "python",
   "name": "python3"
  },
  "language_info": {
   "codemirror_mode": {
    "name": "ipython",
    "version": 3
   },
   "file_extension": ".py",
   "mimetype": "text/x-python",
   "name": "python",
   "nbconvert_exporter": "python",
   "pygments_lexer": "ipython3",
   "version": "3.9.7"
  }
 },
 "nbformat": 4,
 "nbformat_minor": 5
}
