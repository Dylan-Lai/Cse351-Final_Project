{
 "cells": [
  {
   "cell_type": "code",
   "execution_count": 1,
   "id": "fbb07cff",
   "metadata": {},
   "outputs": [
    {
     "name": "stdout",
     "output_type": "stream",
     "text": [
      "62.57605\n",
      "     PassengerId  Survived  Pclass     Sex   Age  SibSp  Parch     Fare  \\\n",
      "1              2         1       1  female  38.0      1      0  71.2833   \n",
      "3              4         1       1  female  35.0      1      0  53.1000   \n",
      "6              7         0       1    male  54.0      0      0  51.8625   \n",
      "11            12         1       1  female  58.0      0      0  26.5500   \n",
      "23            24         1       1    male  28.0      0      0  35.5000   \n",
      "..           ...       ...     ...     ...   ...    ...    ...      ...   \n",
      "871          872         1       1  female  47.0      1      1  52.5542   \n",
      "872          873         0       1    male  33.0      0      0   5.0000   \n",
      "879          880         1       1  female  56.0      0      1  83.1583   \n",
      "887          888         1       1  female  19.0      0      0  30.0000   \n",
      "889          890         1       1    male  26.0      0      0  30.0000   \n",
      "\n",
      "    Embarked  \n",
      "1          C  \n",
      "3          S  \n",
      "6          S  \n",
      "11         S  \n",
      "23         S  \n",
      "..       ...  \n",
      "871        S  \n",
      "872        S  \n",
      "879        C  \n",
      "887        S  \n",
      "889        C  \n",
      "\n",
      "[216 rows x 9 columns]\n"
     ]
    }
   ],
   "source": [
    "import pandas as pd\n",
    "import numpy as np\n",
    "titanic = pd.read_csv('train.csv')\n",
    "test = pd.read_csv('test.csv')\n",
    "\n",
    "#The ticket number of the passenger are all unique and don't have a concrete format. \n",
    "#Therefore, no analysis could be done on the ticket number and thus is dropped.\n",
    "#The cabin number has lots of missing data and they can't be easily imputed (no average cabin number). \n",
    "#Thus, we drop the column 'cabin'.\n",
    "#The names of the passengers don't really determine much and most are unique. \n",
    "#Thus, no analysis can be done on their name and thus is dropped.\n",
    "titanic = titanic.drop('Ticket', axis=1)\n",
    "titanic = titanic.drop('Cabin', axis=1)\n",
    "titanic = titanic.drop('Name', axis=1)\n",
    "\n",
    "df1 = titanic[titanic['Pclass'] == 1]\n",
    "q75, q25 = np.percentile (df1['Fare'], [75, 25])\n",
    "iqr = q75 - q25\n",
    "print(iqr)\n",
    "#df1.groupby()\n",
    "print(df1)\n",
    "#display interquartile range "
   ]
  },
  {
   "cell_type": "code",
   "execution_count": 26,
   "id": "fc77378d",
   "metadata": {},
   "outputs": [
    {
     "name": "stdout",
     "output_type": "stream",
     "text": [
      "outlier max class 1: 186.72702440758297\n",
      "outlier min class 1: -14.429275592417085\n",
      "outlier max class 2: 34.358661235955054\n",
      "outlier min class 2: 1.8586612359550543\n",
      "outlier max class 3: 21.537874948665298\n",
      "outlier min class 3: 2.162874948665298\n"
     ]
    }
   ],
   "source": [
    "titanic_dropFares = pd.DataFrame(titanic)\n",
    "for x in titanic_dropFares.index:\n",
    "  if titanic_dropFares.loc[x, \"Fare\"] <= 0:\n",
    "    titanic_dropFares.drop(x, inplace = True)\n",
    "titanic_averageFare = titanic_dropFares.groupby(by = 'Pclass').mean()\n",
    "titanic_averageFare = titanic_averageFare.drop('PassengerId', axis = 1)\n",
    "titanic_averageFare = titanic_averageFare.drop('Age', axis = 1)\n",
    "titanic_averageFare = titanic_averageFare.drop('SibSp', axis = 1)\n",
    "titanic_averageFare = titanic_averageFare.drop('Parch', axis = 1)\n",
    "df1 = titanic_dropFares[titanic_dropFares['Pclass'] == 1]\n",
    "q75, q25 = np.percentile (df1['Fare'], [75, 25])\n",
    "iqr = q75 - q25\n",
    "outlier_max1 = 1.5*iqr + titanic_averageFare['Fare'][1]\n",
    "outlier_min1 = titanic_averageFare['Fare'][1] - 1.5*iqr\n",
    "print('outlier max class 1: '+ str(outlier_max1))\n",
    "print('outlier min class 1: '+ str(outlier_min1))\n",
    "df2 = titanic[titanic['Pclass'] == 2]\n",
    "q75, q25 = np.percentile (df2['Fare'], [75, 25])\n",
    "iqr = q75 - q25\n",
    "outlier_max2 = iqr + titanic_averageFare['Fare'][2]\n",
    "outlier_min2 = titanic_averageFare['Fare'][2] - 1.5*iqr\n",
    "print('outlier max class 2: '+ str(outlier_max2))\n",
    "print('outlier min class 2: '+ str(outlier_min2))\n",
    "df3 = titanic_dropFares[titanic_dropFares['Pclass'] == 3]\n",
    "q75, q25 = np.percentile (df3['Fare'], [75, 25])\n",
    "iqr = q75 - q25\n",
    "outlier_max3 = iqr + titanic_averageFare['Fare'][3]\n",
    "outlier_min3 = titanic_averageFare['Fare'][3] - 1.5*iqr\n",
    "print('outlier max class 3: '+ str(outlier_max3))\n",
    "print('outlier min class 3: '+ str(outlier_min3))"
   ]
  },
  {
   "cell_type": "code",
   "execution_count": null,
   "id": "4a84fd7c",
   "metadata": {},
   "outputs": [],
   "source": [
    "titanic_train= pd.DataFrame(titanic[0:700])\n",
    "titanic_train"
   ]
  },
  {
   "cell_type": "code",
   "execution_count": null,
   "id": "c4860013",
   "metadata": {},
   "outputs": [],
   "source": [
    "titanic_test= pd.DataFrame(titanic[701:].drop('Survived', axis = 1))\n",
    "titanic_test"
   ]
  }
 ],
 "metadata": {
  "kernelspec": {
   "display_name": "Python 3 (ipykernel)",
   "language": "python",
   "name": "python3"
  },
  "language_info": {
   "codemirror_mode": {
    "name": "ipython",
    "version": 3
   },
   "file_extension": ".py",
   "mimetype": "text/x-python",
   "name": "python",
   "nbconvert_exporter": "python",
   "pygments_lexer": "ipython3",
   "version": "3.9.7"
  }
 },
 "nbformat": 4,
 "nbformat_minor": 5
}
